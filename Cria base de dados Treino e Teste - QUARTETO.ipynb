{
 "cells": [
  {
   "cell_type": "markdown",
   "metadata": {},
   "source": [
    "## [**About Dataset - Kaggle**](https://www.kaggle.com/datasets/malharkhatu/airline-passenger-reviews/datat)\n",
    "\n",
    "### Context\n",
    "\n",
    "This dataset is created to practice various text classification techniques.\n",
    "\n",
    "The text data is collected using praw API from reddit.com.\n",
    "\n",
    "### Mais sobre esses dados\n",
    "\n",
    "No conjunto de dados, comentários na internet foram separados de acordo com o local onde estes foram postados.<br>\n",
    "Os comentários foram separados em três categorias:\n",
    "\n",
    "- **Física**\n",
    "- **Quimica**\n",
    "- **Biologia**"
   ]
  },
  {
   "cell_type": "code",
   "execution_count": 23,
   "metadata": {},
   "outputs": [],
   "source": [
    "import pandas as pd\n",
    "import random\n",
    "import os\n",
    "from sklearn.model_selection import train_test_split"
   ]
  },
  {
   "cell_type": "code",
   "execution_count": 24,
   "metadata": {},
   "outputs": [],
   "source": [
    "# Transforma string em inteiro\n",
    "def nome_para_inteiro(nome):\n",
    "    nome = nome.upper()  # Converter para maiúsculas para tratar maiúsculas e minúsculas da mesma forma\n",
    "    valor_inteiro = 0\n",
    "    \n",
    "    for letra in nome:\n",
    "        # Verificar se a letra está no alfabeto (A a Z)\n",
    "        if 'A' <= letra <= 'Z':\n",
    "            valor_inteiro += ord(letra) - ord('A') + 1  # Valor de 'A' é 1, 'B' é 2, ..., 'Z' é 26\n",
    "    \n",
    "    return valor_inteiro"
   ]
  },
  {
   "cell_type": "code",
   "execution_count": 25,
   "metadata": {
    "scrolled": false
   },
   "outputs": [
    {
     "data": {
      "text/plain": [
       "['.git',\n",
       " '.gitattributes',\n",
       " 'Cria base de dados Treino e Teste - QUARTETO.ipynb',\n",
       " 'dados_teste_QUARTETO_Danilo, Leonardo, Thomas.csv',\n",
       " 'dados_teste_QUARTETO_Danilo.csv',\n",
       " 'dados_treino_QUARTETO_Danilo, Leonardo, Thomas.csv',\n",
       " 'dados_treino_QUARTETO_Danilo.csv',\n",
       " 'disciplines.csv',\n",
       " 'Projeto1 Template.ipynb']"
      ]
     },
     "execution_count": 25,
     "metadata": {},
     "output_type": "execute_result"
    }
   ],
   "source": [
    "os.listdir()"
   ]
  },
  {
   "cell_type": "code",
   "execution_count": 26,
   "metadata": {},
   "outputs": [
    {
     "data": {
      "text/html": [
       "<div>\n",
       "<style scoped>\n",
       "    .dataframe tbody tr th:only-of-type {\n",
       "        vertical-align: middle;\n",
       "    }\n",
       "\n",
       "    .dataframe tbody tr th {\n",
       "        vertical-align: top;\n",
       "    }\n",
       "\n",
       "    .dataframe thead th {\n",
       "        text-align: right;\n",
       "    }\n",
       "</style>\n",
       "<table border=\"1\" class=\"dataframe\">\n",
       "  <thead>\n",
       "    <tr style=\"text-align: right;\">\n",
       "      <th></th>\n",
       "      <th>Comment</th>\n",
       "      <th>Topic</th>\n",
       "    </tr>\n",
       "  </thead>\n",
       "  <tbody>\n",
       "    <tr>\n",
       "      <th>0</th>\n",
       "      <td>A few things. You might have negative- frequen...</td>\n",
       "      <td>Biology</td>\n",
       "    </tr>\n",
       "    <tr>\n",
       "      <th>1</th>\n",
       "      <td>Is it so hard to believe that there exist part...</td>\n",
       "      <td>Physics</td>\n",
       "    </tr>\n",
       "    <tr>\n",
       "      <th>2</th>\n",
       "      <td>There are bees</td>\n",
       "      <td>Biology</td>\n",
       "    </tr>\n",
       "    <tr>\n",
       "      <th>3</th>\n",
       "      <td>I'm a medication technician. And that's alot o...</td>\n",
       "      <td>Biology</td>\n",
       "    </tr>\n",
       "    <tr>\n",
       "      <th>4</th>\n",
       "      <td>Cesium is such a pretty metal.</td>\n",
       "      <td>Chemistry</td>\n",
       "    </tr>\n",
       "    <tr>\n",
       "      <th>...</th>\n",
       "      <td>...</td>\n",
       "      <td>...</td>\n",
       "    </tr>\n",
       "    <tr>\n",
       "      <th>10276</th>\n",
       "      <td>I’m not really denying your intent. I’m a) dou...</td>\n",
       "      <td>Chemistry</td>\n",
       "    </tr>\n",
       "    <tr>\n",
       "      <th>10277</th>\n",
       "      <td>i really empathize with your compassion for bu...</td>\n",
       "      <td>Biology</td>\n",
       "    </tr>\n",
       "    <tr>\n",
       "      <th>10278</th>\n",
       "      <td>If you want to keep it for more than 2 weeks, ...</td>\n",
       "      <td>Chemistry</td>\n",
       "    </tr>\n",
       "    <tr>\n",
       "      <th>10279</th>\n",
       "      <td>Same here. I’m in nursing school so I only hav...</td>\n",
       "      <td>Biology</td>\n",
       "    </tr>\n",
       "    <tr>\n",
       "      <th>10280</th>\n",
       "      <td>The video basically says read a pop-sci book a...</td>\n",
       "      <td>Physics</td>\n",
       "    </tr>\n",
       "  </tbody>\n",
       "</table>\n",
       "<p>10281 rows × 2 columns</p>\n",
       "</div>"
      ],
      "text/plain": [
       "                                                 Comment      Topic\n",
       "0      A few things. You might have negative- frequen...    Biology\n",
       "1      Is it so hard to believe that there exist part...    Physics\n",
       "2                                         There are bees    Biology\n",
       "3      I'm a medication technician. And that's alot o...    Biology\n",
       "4                         Cesium is such a pretty metal.  Chemistry\n",
       "...                                                  ...        ...\n",
       "10276  I’m not really denying your intent. I’m a) dou...  Chemistry\n",
       "10277  i really empathize with your compassion for bu...    Biology\n",
       "10278  If you want to keep it for more than 2 weeks, ...  Chemistry\n",
       "10279  Same here. I’m in nursing school so I only hav...    Biology\n",
       "10280  The video basically says read a pop-sci book a...    Physics\n",
       "\n",
       "[10281 rows x 2 columns]"
      ]
     },
     "execution_count": 26,
     "metadata": {},
     "output_type": "execute_result"
    }
   ],
   "source": [
    "# Ler o arquivo de dados \n",
    "dados = pd.read_csv('disciplines.csv', encoding='utf-8-sig')\n",
    "nomes_colunas = ['Comment','Topic']\n",
    "dados = dados[['Comment','Topic']]\n",
    "dados"
   ]
  },
  {
   "cell_type": "code",
   "execution_count": null,
   "metadata": {},
   "outputs": [],
   "source": []
  },
  {
   "cell_type": "code",
   "execution_count": 27,
   "metadata": {},
   "outputs": [],
   "source": [
    "nome = input(\"Digite seu usernome: \")\n",
    "valor_inteiro = nome_para_inteiro(nome)"
   ]
  },
  {
   "cell_type": "code",
   "execution_count": 28,
   "metadata": {},
   "outputs": [
    {
     "data": {
      "text/plain": [
       "Index(['Comment', 'Topic'], dtype='object')"
      ]
     },
     "execution_count": 28,
     "metadata": {},
     "output_type": "execute_result"
    }
   ],
   "source": [
    "# Embaralhar as linhas do conjunto de dados\n",
    "dados_embaralhados = dados.sample(frac=6000/dados.shape[0], random_state=valor_inteiro)\n",
    "dados_embaralhados.columns"
   ]
  },
  {
   "cell_type": "code",
   "execution_count": 29,
   "metadata": {},
   "outputs": [],
   "source": [
    "# Separar os dados de treino e teste \n",
    "X = dados_embaralhados.Comment\n",
    "y = dados_embaralhados.Topic\n",
    "X_train, X_test, y_train, y_test = train_test_split(X, y, test_size=0.30, random_state=valor_inteiro)\n",
    "\n",
    "dados_treino = pd.concat([X_train, y_train],axis=1)\n",
    "dados_treino.columns = nomes_colunas\n",
    "dados_teste = pd.concat([X_test, y_test],axis=1)\n",
    "dados_teste.columns = nomes_colunas\n",
    "   "
   ]
  },
  {
   "cell_type": "code",
   "execution_count": 30,
   "metadata": {
    "scrolled": true
   },
   "outputs": [
    {
     "name": "stdout",
     "output_type": "stream",
     "text": [
      "Topic\n",
      "Biology      0.41381\n",
      "Chemistry    0.33000\n",
      "Physics      0.25619\n",
      "Name: proportion, dtype: float64\n",
      "Topic\n",
      "Biology      0.409444\n",
      "Chemistry    0.332222\n",
      "Physics      0.258333\n",
      "Name: proportion, dtype: float64\n"
     ]
    }
   ],
   "source": [
    "print(dados_treino.Topic.value_counts(True))\n",
    "print(dados_teste.Topic.value_counts(True))"
   ]
  },
  {
   "cell_type": "code",
   "execution_count": 31,
   "metadata": {},
   "outputs": [
    {
     "name": "stdout",
     "output_type": "stream",
     "text": [
      "Dados de treino e teste foram salvos em 'dados_treino_QUARTETO_Danilo_Leonardo_Thomas.csv' e 'dados_teste_QUARTETO_Danilo_Leonardo_Thomas.csv'.\n"
     ]
    }
   ],
   "source": [
    "# Salvar os dados de treino e teste em arquivos CSV\n",
    "nome_arquivo_treino = 'dados_treino_QUARTETO_'+nome+'.csv'\n",
    "nome_arquivo_teste = 'dados_teste_QUARTETO_'+nome+'.csv'\n",
    "\n",
    "dados_treino.to_csv(nome_arquivo_treino,index = False, header=True)\n",
    "dados_teste.to_csv(nome_arquivo_teste, index=False)#, engine='xlsxwriter')\n",
    "\n",
    "print(f\"Dados de treino e teste foram salvos em '{nome_arquivo_treino}' e '{nome_arquivo_teste}'.\")"
   ]
  },
  {
   "cell_type": "code",
   "execution_count": 32,
   "metadata": {},
   "outputs": [
    {
     "data": {
      "text/html": [
       "<div>\n",
       "<style scoped>\n",
       "    .dataframe tbody tr th:only-of-type {\n",
       "        vertical-align: middle;\n",
       "    }\n",
       "\n",
       "    .dataframe tbody tr th {\n",
       "        vertical-align: top;\n",
       "    }\n",
       "\n",
       "    .dataframe thead th {\n",
       "        text-align: right;\n",
       "    }\n",
       "</style>\n",
       "<table border=\"1\" class=\"dataframe\">\n",
       "  <thead>\n",
       "    <tr style=\"text-align: right;\">\n",
       "      <th></th>\n",
       "      <th>Comment</th>\n",
       "      <th>Topic</th>\n",
       "    </tr>\n",
       "  </thead>\n",
       "  <tbody>\n",
       "    <tr>\n",
       "      <th>0</th>\n",
       "      <td>If you pile up electrons in a hypothetical cha...</td>\n",
       "      <td>Physics</td>\n",
       "    </tr>\n",
       "    <tr>\n",
       "      <th>1</th>\n",
       "      <td>Is it the infamous kill-you-dead Brazilian wan...</td>\n",
       "      <td>Biology</td>\n",
       "    </tr>\n",
       "    <tr>\n",
       "      <th>2</th>\n",
       "      <td>What a dumb fucking question. No you moron the...</td>\n",
       "      <td>Biology</td>\n",
       "    </tr>\n",
       "    <tr>\n",
       "      <th>3</th>\n",
       "      <td>Yes!  Humans in North America have really led ...</td>\n",
       "      <td>Biology</td>\n",
       "    </tr>\n",
       "    <tr>\n",
       "      <th>4</th>\n",
       "      <td>Take my award. What an underrated comment.</td>\n",
       "      <td>Chemistry</td>\n",
       "    </tr>\n",
       "    <tr>\n",
       "      <th>...</th>\n",
       "      <td>...</td>\n",
       "      <td>...</td>\n",
       "    </tr>\n",
       "    <tr>\n",
       "      <th>4195</th>\n",
       "      <td>I don’t know, but the sooner you can get it to...</td>\n",
       "      <td>Biology</td>\n",
       "    </tr>\n",
       "    <tr>\n",
       "      <th>4196</th>\n",
       "      <td>This man is a troll. Though the real culprit a...</td>\n",
       "      <td>Biology</td>\n",
       "    </tr>\n",
       "    <tr>\n",
       "      <th>4197</th>\n",
       "      <td>There needs to be some automod that removes th...</td>\n",
       "      <td>Biology</td>\n",
       "    </tr>\n",
       "    <tr>\n",
       "      <th>4198</th>\n",
       "      <td>Yeah, this should be the official name.  A duc...</td>\n",
       "      <td>Physics</td>\n",
       "    </tr>\n",
       "    <tr>\n",
       "      <th>4199</th>\n",
       "      <td>Ok, next question: Could parts of the mRNA vac...</td>\n",
       "      <td>Biology</td>\n",
       "    </tr>\n",
       "  </tbody>\n",
       "</table>\n",
       "<p>4200 rows × 2 columns</p>\n",
       "</div>"
      ],
      "text/plain": [
       "                                                Comment      Topic\n",
       "0     If you pile up electrons in a hypothetical cha...    Physics\n",
       "1     Is it the infamous kill-you-dead Brazilian wan...    Biology\n",
       "2     What a dumb fucking question. No you moron the...    Biology\n",
       "3     Yes!  Humans in North America have really led ...    Biology\n",
       "4            Take my award. What an underrated comment.  Chemistry\n",
       "...                                                 ...        ...\n",
       "4195  I don’t know, but the sooner you can get it to...    Biology\n",
       "4196  This man is a troll. Though the real culprit a...    Biology\n",
       "4197  There needs to be some automod that removes th...    Biology\n",
       "4198  Yeah, this should be the official name.  A duc...    Physics\n",
       "4199  Ok, next question: Could parts of the mRNA vac...    Biology\n",
       "\n",
       "[4200 rows x 2 columns]"
      ]
     },
     "execution_count": 32,
     "metadata": {},
     "output_type": "execute_result"
    }
   ],
   "source": [
    "# COMANDO QUE DEVE COLOCAR NO TEMPLATE Projeto1_Template.ipynb para LER a base de dados TREINO\n",
    "# Faça adaptações digitando o nome (username) considerado\n",
    "pd.read_csv('dados_treino_QUARTETO_'+nome+'.csv')"
   ]
  },
  {
   "cell_type": "code",
   "execution_count": 33,
   "metadata": {},
   "outputs": [
    {
     "data": {
      "text/html": [
       "<div>\n",
       "<style scoped>\n",
       "    .dataframe tbody tr th:only-of-type {\n",
       "        vertical-align: middle;\n",
       "    }\n",
       "\n",
       "    .dataframe tbody tr th {\n",
       "        vertical-align: top;\n",
       "    }\n",
       "\n",
       "    .dataframe thead th {\n",
       "        text-align: right;\n",
       "    }\n",
       "</style>\n",
       "<table border=\"1\" class=\"dataframe\">\n",
       "  <thead>\n",
       "    <tr style=\"text-align: right;\">\n",
       "      <th></th>\n",
       "      <th>Comment</th>\n",
       "      <th>Topic</th>\n",
       "    </tr>\n",
       "  </thead>\n",
       "  <tbody>\n",
       "    <tr>\n",
       "      <th>0</th>\n",
       "      <td>Wait wouldn’t the wings rip off before the res...</td>\n",
       "      <td>Biology</td>\n",
       "    </tr>\n",
       "    <tr>\n",
       "      <th>1</th>\n",
       "      <td>It's pretty much the same idea behind people a...</td>\n",
       "      <td>Biology</td>\n",
       "    </tr>\n",
       "    <tr>\n",
       "      <th>2</th>\n",
       "      <td>Yeah, good to know. We had a crazy infestation...</td>\n",
       "      <td>Biology</td>\n",
       "    </tr>\n",
       "    <tr>\n",
       "      <th>3</th>\n",
       "      <td>It’s a kiwi doggy</td>\n",
       "      <td>Biology</td>\n",
       "    </tr>\n",
       "    <tr>\n",
       "      <th>4</th>\n",
       "      <td>You're absolutely right about the flu not kill...</td>\n",
       "      <td>Biology</td>\n",
       "    </tr>\n",
       "    <tr>\n",
       "      <th>...</th>\n",
       "      <td>...</td>\n",
       "      <td>...</td>\n",
       "    </tr>\n",
       "    <tr>\n",
       "      <th>1795</th>\n",
       "      <td>Wheel bug I think. Only reason I know this is ...</td>\n",
       "      <td>Biology</td>\n",
       "    </tr>\n",
       "    <tr>\n",
       "      <th>1796</th>\n",
       "      <td>https://www.reddit.com/r/Physics/comments/q9xj...</td>\n",
       "      <td>Physics</td>\n",
       "    </tr>\n",
       "    <tr>\n",
       "      <th>1797</th>\n",
       "      <td>Soul fire IRL!</td>\n",
       "      <td>Chemistry</td>\n",
       "    </tr>\n",
       "    <tr>\n",
       "      <th>1798</th>\n",
       "      <td>I thought this was that ice cream spelt like t...</td>\n",
       "      <td>Biology</td>\n",
       "    </tr>\n",
       "    <tr>\n",
       "      <th>1799</th>\n",
       "      <td>She's a contrarian who wants to tear down anyt...</td>\n",
       "      <td>Physics</td>\n",
       "    </tr>\n",
       "  </tbody>\n",
       "</table>\n",
       "<p>1800 rows × 2 columns</p>\n",
       "</div>"
      ],
      "text/plain": [
       "                                                Comment      Topic\n",
       "0     Wait wouldn’t the wings rip off before the res...    Biology\n",
       "1     It's pretty much the same idea behind people a...    Biology\n",
       "2     Yeah, good to know. We had a crazy infestation...    Biology\n",
       "3                                     It’s a kiwi doggy    Biology\n",
       "4     You're absolutely right about the flu not kill...    Biology\n",
       "...                                                 ...        ...\n",
       "1795  Wheel bug I think. Only reason I know this is ...    Biology\n",
       "1796  https://www.reddit.com/r/Physics/comments/q9xj...    Physics\n",
       "1797                                     Soul fire IRL!  Chemistry\n",
       "1798  I thought this was that ice cream spelt like t...    Biology\n",
       "1799  She's a contrarian who wants to tear down anyt...    Physics\n",
       "\n",
       "[1800 rows x 2 columns]"
      ]
     },
     "execution_count": 33,
     "metadata": {},
     "output_type": "execute_result"
    }
   ],
   "source": [
    "# COMANDO QUE DEVE COLOCAR NO TEMPLATE Projeto1_Template.ipynb para LER a base de dados TESTE\n",
    "# Faça adaptações digitando o nome (username) considerado\n",
    "pd.read_csv('dados_teste_QUARTETO_'+nome+'.csv')"
   ]
  }
 ],
 "metadata": {
  "kernelspec": {
   "display_name": "Python 3 (ipykernel)",
   "language": "python",
   "name": "python3"
  },
  "language_info": {
   "codemirror_mode": {
    "name": "ipython",
    "version": 3
   },
   "file_extension": ".py",
   "mimetype": "text/x-python",
   "name": "python",
   "nbconvert_exporter": "python",
   "pygments_lexer": "ipython3",
   "version": "3.11.5"
  }
 },
 "nbformat": 4,
 "nbformat_minor": 2
}
