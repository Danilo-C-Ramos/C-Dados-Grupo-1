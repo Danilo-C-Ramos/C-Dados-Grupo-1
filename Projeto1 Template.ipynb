{
 "cells": [
  {
   "cell_type": "markdown",
   "metadata": {},
   "source": [
    "# Projeto 1 - Ciência dos Dados"
   ]
  },
  {
   "cell_type": "markdown",
   "metadata": {},
   "source": [
    "Nome: Danilo Ramos\n",
    "\n",
    "Nome: Leonardo Veras\n",
    "\n",
    "Nome: Thomas Ganut"
   ]
  },
  {
   "cell_type": "markdown",
   "metadata": {},
   "source": [
    "Atenção: Serão permitidos grupos de até 4 pessoas, mas com uma rubrica mais exigente. "
   ]
  },
  {
   "cell_type": "markdown",
   "metadata": {},
   "source": [
    "___\n",
    "Carregando algumas bibliotecas:"
   ]
  },
  {
   "cell_type": "code",
   "execution_count": 2,
   "metadata": {},
   "outputs": [],
   "source": [
    "%matplotlib inline\n",
    "import pandas as pd\n",
    "import matplotlib.pyplot as plt\n",
    "import numpy as np\n",
    "import os\n",
    "from IPython.display import display\n",
    "import re"
   ]
  },
  {
   "cell_type": "code",
   "execution_count": 3,
   "metadata": {
    "scrolled": false
   },
   "outputs": [
    {
     "name": "stdout",
     "output_type": "stream",
     "text": [
      "Esperamos trabalhar no diretório\n",
      "c:\\Users\\thoma\\Documents\\GitHub\\C-Dados-Porreta\n"
     ]
    }
   ],
   "source": [
    "print('Esperamos trabalhar no diretório')\n",
    "print(os.getcwd())"
   ]
  },
  {
   "cell_type": "markdown",
   "metadata": {},
   "source": [
    "Carregando a base de dados com as mensagens dos seus arquivos:"
   ]
  },
  {
   "cell_type": "code",
   "execution_count": 4,
   "metadata": {},
   "outputs": [
    {
     "data": {
      "text/html": [
       "<div>\n",
       "<style scoped>\n",
       "    .dataframe tbody tr th:only-of-type {\n",
       "        vertical-align: middle;\n",
       "    }\n",
       "\n",
       "    .dataframe tbody tr th {\n",
       "        vertical-align: top;\n",
       "    }\n",
       "\n",
       "    .dataframe thead th {\n",
       "        text-align: right;\n",
       "    }\n",
       "</style>\n",
       "<table border=\"1\" class=\"dataframe\">\n",
       "  <thead>\n",
       "    <tr style=\"text-align: right;\">\n",
       "      <th></th>\n",
       "      <th>Comment</th>\n",
       "      <th>Topic</th>\n",
       "    </tr>\n",
       "  </thead>\n",
       "  <tbody>\n",
       "    <tr>\n",
       "      <th>0</th>\n",
       "      <td>If you pile up electrons in a hypothetical cha...</td>\n",
       "      <td>Physics</td>\n",
       "    </tr>\n",
       "    <tr>\n",
       "      <th>1</th>\n",
       "      <td>Is it the infamous kill-you-dead Brazilian wan...</td>\n",
       "      <td>Biology</td>\n",
       "    </tr>\n",
       "    <tr>\n",
       "      <th>2</th>\n",
       "      <td>What a dumb fucking question. No you moron the...</td>\n",
       "      <td>Biology</td>\n",
       "    </tr>\n",
       "    <tr>\n",
       "      <th>3</th>\n",
       "      <td>Yes!  Humans in North America have really led ...</td>\n",
       "      <td>Biology</td>\n",
       "    </tr>\n",
       "    <tr>\n",
       "      <th>4</th>\n",
       "      <td>Take my award. What an underrated comment.</td>\n",
       "      <td>Chemistry</td>\n",
       "    </tr>\n",
       "  </tbody>\n",
       "</table>\n",
       "</div>"
      ],
      "text/plain": [
       "                                             Comment      Topic\n",
       "0  If you pile up electrons in a hypothetical cha...    Physics\n",
       "1  Is it the infamous kill-you-dead Brazilian wan...    Biology\n",
       "2  What a dumb fucking question. No you moron the...    Biology\n",
       "3  Yes!  Humans in North America have really led ...    Biology\n",
       "4         Take my award. What an underrated comment.  Chemistry"
      ]
     },
     "execution_count": 4,
     "metadata": {},
     "output_type": "execute_result"
    }
   ],
   "source": [
    "arquivo_treino = 'dados_treino_QUARTETO_Danilo_Leonardo_Thomas.csv'\n",
    "train = pd.read_csv(arquivo_treino)\n",
    "\n",
    "train.head(5)"
   ]
  },
  {
   "cell_type": "code",
   "execution_count": 5,
   "metadata": {},
   "outputs": [
    {
     "data": {
      "text/html": [
       "<div>\n",
       "<style scoped>\n",
       "    .dataframe tbody tr th:only-of-type {\n",
       "        vertical-align: middle;\n",
       "    }\n",
       "\n",
       "    .dataframe tbody tr th {\n",
       "        vertical-align: top;\n",
       "    }\n",
       "\n",
       "    .dataframe thead th {\n",
       "        text-align: right;\n",
       "    }\n",
       "</style>\n",
       "<table border=\"1\" class=\"dataframe\">\n",
       "  <thead>\n",
       "    <tr style=\"text-align: right;\">\n",
       "      <th></th>\n",
       "      <th>Comment</th>\n",
       "      <th>Topic</th>\n",
       "    </tr>\n",
       "  </thead>\n",
       "  <tbody>\n",
       "    <tr>\n",
       "      <th>0</th>\n",
       "      <td>Wait wouldn’t the wings rip off before the res...</td>\n",
       "      <td>Biology</td>\n",
       "    </tr>\n",
       "    <tr>\n",
       "      <th>1</th>\n",
       "      <td>It's pretty much the same idea behind people a...</td>\n",
       "      <td>Biology</td>\n",
       "    </tr>\n",
       "    <tr>\n",
       "      <th>2</th>\n",
       "      <td>Yeah, good to know. We had a crazy infestation...</td>\n",
       "      <td>Biology</td>\n",
       "    </tr>\n",
       "    <tr>\n",
       "      <th>3</th>\n",
       "      <td>It’s a kiwi doggy</td>\n",
       "      <td>Biology</td>\n",
       "    </tr>\n",
       "    <tr>\n",
       "      <th>4</th>\n",
       "      <td>You're absolutely right about the flu not kill...</td>\n",
       "      <td>Biology</td>\n",
       "    </tr>\n",
       "  </tbody>\n",
       "</table>\n",
       "</div>"
      ],
      "text/plain": [
       "                                             Comment    Topic\n",
       "0  Wait wouldn’t the wings rip off before the res...  Biology\n",
       "1  It's pretty much the same idea behind people a...  Biology\n",
       "2  Yeah, good to know. We had a crazy infestation...  Biology\n",
       "3                                  It’s a kiwi doggy  Biology\n",
       "4  You're absolutely right about the flu not kill...  Biology"
      ]
     },
     "execution_count": 5,
     "metadata": {},
     "output_type": "execute_result"
    }
   ],
   "source": [
    "test = pd.read_csv('dados_teste_QUARTETO_Danilo_Leonardo_Thomas.csv')\n",
    "test.head(5)"
   ]
  },
  {
   "cell_type": "markdown",
   "metadata": {},
   "source": [
    "___\n",
    "## Classificador automático\n"
   ]
  },
  {
   "cell_type": "markdown",
   "metadata": {},
   "source": [
    "Faça aqui uma descrição do seu assunto e o contexto referente aos rótulos cujas mensagens (ou reviews) deverão ser classificadas.\n",
    "\n",
    "Será desenvolvido um sistema automático, utilizando o Teorema de Bayes, para classificar textos científicos em física, química e biologia. Uma prova de conceito será implementada para treinar e testar o classificador, garantindo a separação clara dos textos nas respectivas áreas."
   ]
  },
  {
   "cell_type": "markdown",
   "metadata": {},
   "source": [
    "___\n",
    "### Montando um Classificador Naive-Bayes\n",
    "\n",
    "Considerando apenas as mensagens da planilha Treinamento, ensine  seu classificador."
   ]
  },
  {
   "cell_type": "code",
   "execution_count": 6,
   "metadata": {},
   "outputs": [],
   "source": [
    "def cleanup(text):\n",
    "    \"\"\"\n",
    "        Função de limpeza muito simples que troca alguns sinais básicos por espaços\n",
    "    \"\"\"\n",
    "    #import string\n",
    "    punctuation = '[´\"!-.:?;$'')(&€™/]' # Note que os sinais [] são delimitadores de um conjunto.\n",
    "    pattern = re.compile(punctuation)\n",
    "    text_subbed = re.sub(pattern, '', text)\n",
    "    return text_subbed"
   ]
  },
  {
   "cell_type": "code",
   "execution_count": 7,
   "metadata": {},
   "outputs": [
    {
     "name": "stdout",
     "output_type": "stream",
     "text": [
      "['the', 'to', 'a', 'of', 'and', 'is', 'in', 'i', 'you', 'that', 'it', 'for', 'be', 'are', 'with', 'but', 'have', 'not', 'on', 'as']\n"
     ]
    }
   ],
   "source": [
    "list_train: list = []\n",
    "for frase in train.Comment:\n",
    "    frase = frase.split()\n",
    "    for word in frase:\n",
    "        list_train.append(word)\n",
    "        \n",
    "serie_train = pd.Series(list_train)\n",
    "tabela = serie_train.value_counts()\n",
    "stop_words = tabela.index[:20].tolist()\n",
    "for i in range(len(stop_words)):\n",
    "    stop_words[i] = stop_words[i].lower()\n",
    "print(stop_words)\n"
   ]
  },
  {
   "cell_type": "code",
   "execution_count": 8,
   "metadata": {},
   "outputs": [
    {
     "name": "stdout",
     "output_type": "stream",
     "text": [
      " shes contrarian who wants tear down anything she sees being hyped this particular case shes totally right do so honestly amount bullshit surrounding delayed choice quantum eraser makes clear case sabines particular style being warranted perhaps even necessary  she gets hate because there other instances where her contrarian nature runs totally contrary what experts say  what we pretty good reason believe her hot takes often foster misunderstanding can sometimes see her acolytes calling bullshit say string theory or dark matter when they clearly havent taken time understand why people believe these things also there accusations she intentionally divisive increase her popular appeal sell more books which probably partially true\n"
     ]
    }
   ],
   "source": [
    "def cleanup_stopwords(frase):\n",
    "    punctuation = '[´\"!-.:?;$'')(&€™/]' # Note que os sinais [] são delimitadores de um conjunto.\n",
    "    pattern = re.compile(punctuation)\n",
    "    text_subbed = re.sub(pattern, '', frase.lower())\n",
    "    text_subbed = text_subbed.replace((\"\\n\"),' ')\n",
    "    for palavra in stop_words:\n",
    "        text_subbed = text_subbed.replace((f' {palavra} '), ' ')\n",
    "\n",
    "    return text_subbed\n",
    "\n",
    "print(cleanup_stopwords(' a to I of and is in you for be are with the shes contrarian who wants tear down anything she sees as being hyped this particular case shes totally right do so honestly amount bullshit surrounding delayed choice quantum eraser makes clear case sabines particular style being warranted perhaps even necessary\\n\\nshe gets hate because there other instances where her contrarian nature runs totally contrary what experts say  what we have pretty good reason believe her hot takes often foster misunderstanding can sometimes see her acolytes calling bullshit on say string theory or dark matter when they clearly havent taken time understand why people believe these things also there accusations she intentionally divisive increase her popular appeal sell more books which probably partially true'))"
   ]
  },
  {
   "cell_type": "code",
   "execution_count": 9,
   "metadata": {},
   "outputs": [
    {
     "data": {
      "text/plain": [
       "0                   if\n",
       "1                 pile\n",
       "2                   up\n",
       "3            electrons\n",
       "4         hypothetical\n",
       "              ...     \n",
       "105717              an\n",
       "105718          active\n",
       "105719       untreated\n",
       "105720             hiv\n",
       "105721       infection\n",
       "Length: 105722, dtype: object"
      ]
     },
     "execution_count": 9,
     "metadata": {},
     "output_type": "execute_result"
    }
   ],
   "source": [
    "for i, frase in enumerate(train.Comment):\n",
    "    train.Comment[i] = cleanup_stopwords(frase.lower())\n",
    "\n",
    "list_train: list = []\n",
    "for frase in train.Comment:\n",
    "    frase = frase.split()\n",
    "    for word in frase:\n",
    "        list_train.append(word)\n",
    "        \n",
    "serie_train = pd.Series(list_train)\n",
    "\n",
    "serie_train"
   ]
  },
  {
   "cell_type": "code",
   "execution_count": 10,
   "metadata": {},
   "outputs": [],
   "source": [
    "train_physics = train.loc[train.Topic == 'Physics']\n",
    "train_biology = train.loc[train.Topic == 'Biology']\n",
    "train_chemistry = train.loc[train.Topic == 'Chemistry']"
   ]
  },
  {
   "cell_type": "code",
   "execution_count": 11,
   "metadata": {},
   "outputs": [],
   "source": [
    "# Função para transformar frases em lista de palavras\n",
    "def frase_para_palavras(lista_frases):\n",
    "    lista_palavras = []\n",
    "    for frase in lista_frases:\n",
    "        lista_palavras.extend(frase.split())\n",
    "    return lista_palavras\n",
    "\n",
    "# Gerando as listas de palavras por tópico\n",
    "lista_physics = frase_para_palavras(train_physics.Comment)\n",
    "lista_biology = frase_para_palavras(train_biology.Comment)\n",
    "lista_chemistry = frase_para_palavras(train_chemistry.Comment)\n",
    "\n",
    "# Criando séries de frequência\n",
    "serie_physics = pd.Series(lista_physics)\n",
    "serie_biology = pd.Series(lista_biology)\n",
    "serie_chemistry = pd.Series(lista_chemistry)\n"
   ]
  },
  {
   "cell_type": "code",
   "execution_count": 12,
   "metadata": {},
   "outputs": [
    {
     "name": "stdout",
     "output_type": "stream",
     "text": [
      "0.30120504719925845 0.38203968899566787 0.3167552638050737\n",
      "1.0\n"
     ]
    }
   ],
   "source": [
    "P_C = len(serie_chemistry)/len(serie_train)\n",
    "P_B = len(serie_biology)/len(serie_train)\n",
    "P_P = len(serie_physics)/len(serie_train)\n",
    "print(P_C, P_B, P_P)\n",
    "print(P_C + P_B + P_P)\n"
   ]
  },
  {
   "cell_type": "code",
   "execution_count": 13,
   "metadata": {},
   "outputs": [],
   "source": [
    "# Treinamento\n",
    "tabela_c_relativa = serie_chemistry.value_counts(True)\n",
    "tabela_p_relativa = serie_physics.value_counts(True)\n",
    "tabela_b_relativa = serie_biology.value_counts(True)\n",
    "\n",
    "voc = tabela.count()\n",
    "\n",
    "# Physics\n",
    "tabela_P_raw = serie_physics.value_counts()\n",
    "tabela_P_freq = tabela_P_raw.sum()\n",
    "tabela_P_voc = tabela_P_raw.count()\n",
    "\n",
    "# Chemistry\n",
    "tabela_C_raw = serie_chemistry.value_counts()\n",
    "tabela_C_freq = tabela_C_raw.sum()\n",
    "tabela_C_voc = tabela_C_raw.count()\n",
    "\n",
    "# Biology\n",
    "tabela_B_raw = serie_biology.value_counts()\n",
    "tabela_B_freq = tabela_B_raw.sum()\n",
    "tabela_B_voc = tabela_B_raw.count()\n"
   ]
  },
  {
   "cell_type": "markdown",
   "metadata": {},
   "source": [
    "___\n",
    "### Verificando a performance do Classificador\n",
    "\n",
    "Agora você deve testar o seu classificador com a base de Testes."
   ]
  },
  {
   "cell_type": "code",
   "execution_count": 14,
   "metadata": {},
   "outputs": [
    {
     "name": "stdout",
     "output_type": "stream",
     "text": [
      "0                 is\n",
      "1           infamous\n",
      "2        killyoudead\n",
      "3          brazilian\n",
      "4          wandering\n",
      "            ...     \n",
      "40385             an\n",
      "40386         active\n",
      "40387      untreated\n",
      "40388            hiv\n",
      "40389      infection\n",
      "Length: 40390, dtype: object\n"
     ]
    }
   ],
   "source": [
    "def algoritmo_1(frase: str):\n",
    "    probPalavraDadoP = 1\n",
    "    probPalavraDadoC = 1\n",
    "    probPalavraDadoB = 1\n",
    "    lista_b = serie_biology.tolist()\n",
    "    lista_p = serie_physics.tolist()\n",
    "    lista_c = serie_chemistry.tolist()\n",
    "    \n",
    "    for palavra in frase.split():\n",
    "        if palavra in lista_b:\n",
    "            probPalavraDadoB *= tabela_b_relativa[palavra]\n",
    "        else:\n",
    "            probPalavraDadoB *= 0.000001\n",
    "\n",
    "        if palavra in lista_p:\n",
    "            probPalavraDadoP *= tabela_p_relativa[palavra]\n",
    "        else:\n",
    "            probPalavraDadoP *= 0.000001\n",
    "\n",
    "        if palavra in lista_c:\n",
    "            probPalavraDadoC *= tabela_c_relativa[palavra]\n",
    "        else:\n",
    "            probPalavraDadoC *= 0.000001\n",
    "\n",
    "    prob_P_dado_frase = probPalavraDadoP * P_P\n",
    "    prob_C_dado_frase = probPalavraDadoC * P_C\n",
    "    prob_B_dado_frase = probPalavraDadoB * P_B\n",
    "\n",
    "    # print(prob_P_dado_frase)\n",
    "    # print(prob_C_dado_frase)\n",
    "    # print(prob_B_dado_frase)\n",
    "    # print(max(prob_P_dado_frase, prob_C_dado_frase, prob_B_dado_frase))\n",
    "    # print('\\n')\n",
    "\n",
    "\n",
    "    if  prob_P_dado_frase > prob_C_dado_frase:\n",
    "        if prob_P_dado_frase > prob_B_dado_frase:\n",
    "            return 'Physics'\n",
    "        else:\n",
    "            return 'Biology'\n",
    "    else:\n",
    "        if prob_C_dado_frase > prob_B_dado_frase:\n",
    "            return 'Chemistry'\n",
    "        else:\n",
    "            return 'Biology'\n",
    "        \n",
    "\n",
    "#frases_physics = test.loc[test.Topic == 'Physics']\n",
    "#frases_chemistry = test.loc[test.Topic == 'Chemistry']\n",
    "#frases_biology = test.loc[test.Topic == 'Biology']\n",
    "algoritmo_1(train.Comment[1])\n",
    "print(serie_biology)"
   ]
  },
  {
   "cell_type": "code",
   "execution_count": 15,
   "metadata": {},
   "outputs": [],
   "source": [
    "def algoritmo_laplace(frase: str):\n",
    "    alpha = 1 # Suavizador de Laplace\n",
    "    probPalavraDadoP, probPalavraDadoC, probPalavraDadoB = 1, 1, 1\n",
    "\n",
    "    for palavra in frase.split():\n",
    "        probPalavraDadoB *= (tabela_B_raw.get(palavra, 0) + alpha) / (tabela_B_freq + alpha * voc)\n",
    "\n",
    "        probPalavraDadoP *= (tabela_P_raw.get(palavra, 0) + alpha) / (tabela_P_freq + alpha * voc)\n",
    "\n",
    "        probPalavraDadoC *= (tabela_C_raw.get(palavra, 0) + alpha) / (tabela_C_freq + alpha * voc)\n",
    "\n",
    "             \n",
    "    prob_P_dado_frase = probPalavraDadoP * P_P\n",
    "    prob_C_dado_frase = probPalavraDadoC * P_C\n",
    "    prob_B_dado_frase = probPalavraDadoB * P_B\n",
    "\n",
    "    if  prob_P_dado_frase > prob_C_dado_frase:\n",
    "        if prob_P_dado_frase > prob_B_dado_frase:\n",
    "            return 'Physics'\n",
    "        else:\n",
    "            return 'Biology'\n",
    "    else:\n",
    "        if prob_C_dado_frase > prob_B_dado_frase:\n",
    "            return 'Chemistry'\n",
    "        else:\n",
    "            return 'Biology'\n",
    "\n",
    "#print(tabela_c_relativa['is'])\n",
    "#print(tabela_c_relativa['infamous'])\n",
    "#print(tabela_c_relativa['killyoudead'])\n",
    "#print(tabela_c_relativa['spider'])\n",
    "#print(tabela_c_relativa['brazilian'])\n",
    "#print(tabela_c_relativa['wandering'])"
   ]
  },
  {
   "cell_type": "code",
   "execution_count": 16,
   "metadata": {},
   "outputs": [],
   "source": [
    "# Algoritmo com Laplace utilizando log-probabilidades\n",
    "def algoritmo_laplace_log(frase: str, alpha=1):\n",
    "    lista_palavras = frase.split()\n",
    "    \n",
    "    # Inicializar log-probabilidades com log das probabilidades das classes\n",
    "    log_prob_P = np.log(P_P)\n",
    "    log_prob_C = np.log(P_C)\n",
    "    log_prob_B = np.log(P_B)\n",
    "    \n",
    "    for palavra in lista_palavras:\n",
    "        # Physics\n",
    "        count_p = tabela_P_raw.get(palavra, 0)\n",
    "        log_prob_P += np.log((count_p + alpha) / (tabela_P_freq + alpha * voc))\n",
    "        \n",
    "        # Chemistry\n",
    "        count_c = tabela_C_raw.get(palavra, 0)\n",
    "        log_prob_C += np.log((count_c + alpha) / (tabela_C_freq + alpha * voc))\n",
    "        \n",
    "        # Biology\n",
    "        count_b = tabela_B_raw.get(palavra, 0)\n",
    "        log_prob_B += np.log((count_b + alpha) / (tabela_B_freq + alpha * voc))\n",
    "    \n",
    "    # Decisão baseada nas log-probabilidades\n",
    "    if log_prob_P > log_prob_C:\n",
    "        if log_prob_P > log_prob_B:\n",
    "            return 'Physics'\n",
    "        else:\n",
    "            return 'Biology'\n",
    "    else:\n",
    "        if log_prob_C > log_prob_B:\n",
    "            return 'Chemistry'\n",
    "        else:\n",
    "            return 'Biology'"
   ]
  },
  {
   "cell_type": "code",
   "execution_count": 17,
   "metadata": {},
   "outputs": [
    {
     "name": "stdout",
     "output_type": "stream",
     "text": [
      "honestly amount bullshit surrounding delayed choice quantum eraser makes clear case sabines particular style being warranted perhaps even necessary  she gets hate because there other instances where her contrarian nature runs totally contrary what experts say  what we pretty good reason believe her hot takes often foster misunderstanding can sometimes see her acolytes calling bullshit say string theory or dark matter when they clearly havent taken time understand\n",
      "Sem Laplace: \n",
      " Physics \n",
      "\n",
      "Com Laplace: \n",
      " Physics\n"
     ]
    }
   ],
   "source": [
    "frase_teste = cleanup_stopwords('honestly amount bullshit surrounding delayed choice quantum eraser makes clear case sabines particular style being warranted perhaps even necessary\\n\\nshe gets hate because there other instances where her contrarian nature runs totally contrary what experts say  what we have pretty good reason believe her hot takes often foster misunderstanding can sometimes see her acolytes calling bullshit on say string theory or dark matter when they clearly havent taken time understand')\n",
    "print(frase_teste)\n",
    "print('Sem Laplace: \\n', algoritmo_1(frase_teste), '\\n')\n",
    "print('Com Laplace: \\n', algoritmo_laplace(frase_teste))"
   ]
  },
  {
   "cell_type": "code",
   "execution_count": 18,
   "metadata": {},
   "outputs": [],
   "source": [
    "validacao = test.copy()\n",
    "validacao['algo1_certa'] = 'NaN'\n",
    "validacao['algoL_certa'] = 'NaN'\n",
    "validacao['algoL_log_certa'] = 'NaN'\n",
    "\n",
    "validacao['algo1'] = 'NaN'\n",
    "validacao['algoL'] = 'NaN'\n",
    "validacao['algoL_log'] = 'NaN'\n",
    "\n",
    "for i, frase in enumerate(test.Comment):\n",
    "    frase = cleanup_stopwords(frase)\n",
    "    validacao['algo1'][i] = algoritmo_1(frase)\n",
    "    validacao['algoL'][i] = algoritmo_laplace(frase)\n",
    "    validacao['algoL_log'][i] = algoritmo_laplace_log(frase)\n",
    "\n",
    "  \n",
    "    if validacao['algo1'][i] == validacao['Topic'][i]:\n",
    "        validacao['algo1_certa'][i] = True\n",
    "    else:\n",
    "        validacao['algo1_certa'][i] = False\n",
    "\n",
    "    if validacao['algoL'][i] == validacao['Topic'][i]:\n",
    "        validacao['algoL_certa'][i] = True\n",
    "    else:\n",
    "        validacao['algoL_certa'][i] = False\n",
    "\n",
    "    if validacao['algoL_log'][i] == validacao['Topic'][i]:\n",
    "        validacao['algoL_log_certa'][i] = True\n",
    "    else:\n",
    "        validacao['algoL_log_certa'][i] = False\n",
    "\n",
    "# validacao.head(15)\n"
   ]
  },
  {
   "cell_type": "code",
   "execution_count": 19,
   "metadata": {},
   "outputs": [
    {
     "name": "stdout",
     "output_type": "stream",
     "text": [
      "Acertos sem Laplace: \n",
      "68.50%\n",
      "\n",
      "Acertos com Laplace:\n",
      "68.72%\n",
      "\n",
      "Acertos com Laplace com log:\n",
      "71.56%\n"
     ]
    }
   ],
   "source": [
    "acertos_algo1 = validacao.algo1_certa.value_counts(True)\n",
    "acertos_algoL = validacao.algoL_certa.value_counts(True)\n",
    "acertos_algoL_log = validacao.algoL_log_certa.value_counts(True)\n",
    "\n",
    "print('Acertos sem Laplace: ')\n",
    "print(f'{acertos_algo1[True]*100:.2f}%')\n",
    "print('\\nAcertos com Laplace:')\n",
    "print(f'{acertos_algoL[True]*100:.2f}%')\n",
    "print('\\nAcertos com Laplace com log:')\n",
    "print(f'{acertos_algoL_log[True]*100:.2f}%')"
   ]
  },
  {
   "cell_type": "code",
   "execution_count": 41,
   "metadata": {},
   "outputs": [
    {
     "data": {
      "text/html": [
       "<div>\n",
       "<style scoped>\n",
       "    .dataframe tbody tr th:only-of-type {\n",
       "        vertical-align: middle;\n",
       "    }\n",
       "\n",
       "    .dataframe tbody tr th {\n",
       "        vertical-align: top;\n",
       "    }\n",
       "\n",
       "    .dataframe thead th {\n",
       "        text-align: right;\n",
       "    }\n",
       "</style>\n",
       "<table border=\"1\" class=\"dataframe\">\n",
       "  <thead>\n",
       "    <tr style=\"text-align: right;\">\n",
       "      <th>algo1_certa</th>\n",
       "      <th>False</th>\n",
       "      <th>True</th>\n",
       "    </tr>\n",
       "    <tr>\n",
       "      <th>Topic</th>\n",
       "      <th></th>\n",
       "      <th></th>\n",
       "    </tr>\n",
       "  </thead>\n",
       "  <tbody>\n",
       "    <tr>\n",
       "      <th>Biology</th>\n",
       "      <td>152</td>\n",
       "      <td>585</td>\n",
       "    </tr>\n",
       "    <tr>\n",
       "      <th>Chemistry</th>\n",
       "      <td>224</td>\n",
       "      <td>374</td>\n",
       "    </tr>\n",
       "    <tr>\n",
       "      <th>Physics</th>\n",
       "      <td>191</td>\n",
       "      <td>274</td>\n",
       "    </tr>\n",
       "  </tbody>\n",
       "</table>\n",
       "</div>"
      ],
      "text/plain": [
       "algo1_certa  False  True \n",
       "Topic                    \n",
       "Biology        152    585\n",
       "Chemistry      224    374\n",
       "Physics        191    274"
      ]
     },
     "metadata": {},
     "output_type": "display_data"
    },
    {
     "data": {
      "text/html": [
       "<div>\n",
       "<style scoped>\n",
       "    .dataframe tbody tr th:only-of-type {\n",
       "        vertical-align: middle;\n",
       "    }\n",
       "\n",
       "    .dataframe tbody tr th {\n",
       "        vertical-align: top;\n",
       "    }\n",
       "\n",
       "    .dataframe thead th {\n",
       "        text-align: right;\n",
       "    }\n",
       "</style>\n",
       "<table border=\"1\" class=\"dataframe\">\n",
       "  <thead>\n",
       "    <tr style=\"text-align: right;\">\n",
       "      <th>algoL_certa</th>\n",
       "      <th>False</th>\n",
       "      <th>True</th>\n",
       "    </tr>\n",
       "    <tr>\n",
       "      <th>Topic</th>\n",
       "      <th></th>\n",
       "      <th></th>\n",
       "    </tr>\n",
       "  </thead>\n",
       "  <tbody>\n",
       "    <tr>\n",
       "      <th>Biology</th>\n",
       "      <td>128</td>\n",
       "      <td>609</td>\n",
       "    </tr>\n",
       "    <tr>\n",
       "      <th>Chemistry</th>\n",
       "      <td>239</td>\n",
       "      <td>359</td>\n",
       "    </tr>\n",
       "    <tr>\n",
       "      <th>Physics</th>\n",
       "      <td>196</td>\n",
       "      <td>269</td>\n",
       "    </tr>\n",
       "  </tbody>\n",
       "</table>\n",
       "</div>"
      ],
      "text/plain": [
       "algoL_certa  False  True \n",
       "Topic                    \n",
       "Biology        128    609\n",
       "Chemistry      239    359\n",
       "Physics        196    269"
      ]
     },
     "metadata": {},
     "output_type": "display_data"
    },
    {
     "name": "stdout",
     "output_type": "stream",
     "text": [
      " Taxa de acertos em biologia com Laplace: 0.8263229308005428 \n",
      " Taxa de acertos em biologia sem Laplace: 0.7937584803256446\n",
      "\n",
      "\n",
      " Taxa de acertos em física com Laplace: 0.578494623655914 \n",
      " Taxa de acertos em física sem Laplace: 0.589247311827957\n",
      "\n",
      "\n",
      " Taxa de acertos em química com Laplace: 0.578494623655914 \n",
      " Taxa de acertos em química sem Laplace: 0.589247311827957\n"
     ]
    }
   ],
   "source": [
    "display(pd.crosstab(test.Topic, validacao.algo1_certa))\n",
    "display(pd.crosstab(test.Topic, validacao.algoL_certa))\n",
    "\n",
    "taxa_acerto_1 = [validacao.algo1_certa.value_counts()[0], validacao.algo1_certa.value_counts()[1]]\n",
    "taxa_acerto_L = [validacao.algoL_certa.value_counts()[0], validacao.algoL_certa.value_counts()[1]]\n",
    "\n",
    "#Análise Biologia\n",
    "validacao_biologia = validacao.loc[validacao.Topic == 'Biology']\n",
    "taxa_acerto_bio_L = validacao_biologia.algoL.value_counts(True)[0]\n",
    "validacao_biologia_algoL_acertos = validacao_biologia.algoL.value_counts()[0]\n",
    "taxa_acerto_bio_1 = validacao_biologia.algo1.value_counts(True)[0]\n",
    "print(f' Taxa de acertos em biologia com Laplace: {taxa_acerto_bio_L}','\\n', f'Taxa de acertos em biologia sem Laplace: {taxa_acerto_bio_1}')\n",
    "print('\\n')\n",
    "\n",
    "#Análise Física\n",
    "validacao_physics = validacao.loc[validacao.Topic == 'Physics']\n",
    "taxa_acerto_ph_L = validacao_physics.algoL.value_counts(True)[0]\n",
    "taxa_acerto_ph_1 = validacao_physics.algo1.value_counts(True)[0]\n",
    "print(f' Taxa de acertos em física com Laplace: {taxa_acerto_ph_L}', '\\n', f'Taxa de acertos em física sem Laplace: {taxa_acerto_ph_1}')\n",
    "print('\\n')\n",
    "\n",
    "#Análise Química\n",
    "validacao_chemistry = validacao.loc[validacao.Topic == 'Chemistry']\n",
    "taxa_acerto_ch_L = validacao_chemistry.algoL.value_counts(True)[0]\n",
    "taxa_acerto_ch_1 = validacao_chemistry.algo1.value_counts(True)[0]\n",
    "print(f' Taxa de acertos em química com Laplace: {taxa_acerto_ph_L}','\\n', f'Taxa de acertos em química sem Laplace: {taxa_acerto_ph_1}')"
   ]
  },
  {
   "cell_type": "code",
   "execution_count": 34,
   "metadata": {},
   "outputs": [
    {
     "data": {
      "text/html": [
       "<div>\n",
       "<style scoped>\n",
       "    .dataframe tbody tr th:only-of-type {\n",
       "        vertical-align: middle;\n",
       "    }\n",
       "\n",
       "    .dataframe tbody tr th {\n",
       "        vertical-align: top;\n",
       "    }\n",
       "\n",
       "    .dataframe thead th {\n",
       "        text-align: right;\n",
       "    }\n",
       "</style>\n",
       "<table border=\"1\" class=\"dataframe\">\n",
       "  <thead>\n",
       "    <tr style=\"text-align: right;\">\n",
       "      <th>Topic</th>\n",
       "      <th>Biology</th>\n",
       "    </tr>\n",
       "    <tr>\n",
       "      <th>algoL_certa</th>\n",
       "      <th></th>\n",
       "    </tr>\n",
       "  </thead>\n",
       "  <tbody>\n",
       "    <tr>\n",
       "      <th>False</th>\n",
       "      <td>128</td>\n",
       "    </tr>\n",
       "    <tr>\n",
       "      <th>True</th>\n",
       "      <td>609</td>\n",
       "    </tr>\n",
       "  </tbody>\n",
       "</table>\n",
       "</div>"
      ],
      "text/plain": [
       "Topic        Biology\n",
       "algoL_certa         \n",
       "False            128\n",
       "True             609"
      ]
     },
     "metadata": {},
     "output_type": "display_data"
    },
    {
     "data": {
      "text/plain": [
       "<Figure size 640x480 with 0 Axes>"
      ]
     },
     "metadata": {},
     "output_type": "display_data"
    },
    {
     "data": {
      "image/png": "[encoded data removed]",
      "text/plain": [
       "<Figure size 900x600 with 1 Axes>"
      ]
     },
     "metadata": {},
     "output_type": "display_data"
    }
   ],
   "source": [
    "cross_L = pd.crosstab(validacao_biologia.Topic, validacao_biologia.algoL_certa)\n",
    "display(pd.crosstab(validacao_biologia.algoL_certa, validacao_biologia.Topic))\n",
    "plt.figure()\n",
    "\n",
    "fig, ax = plt.subplots(figsize=(9, 6))\n",
    "\n",
    "categorias = ['Biologia acertos', 'Biologia erros', 'Física acertos', 'Física erros', 'Química acertos', 'Química erros']\n",
    "posicoes = np.arange(1,len(categorias) + 1)\n",
    "\n",
    "ax.bar(1, taxa_acerto_bio_1 *100, edgecolor='black', color='limegreen')\n",
    "ax.bar(2, ((1 - taxa_acerto_bio_1)*100),edgecolor='black', color='darkgreen')\n",
    "\n",
    "ax.bar(3, taxa_acerto_ph_1*100, edgecolor='black', color='Red')\n",
    "ax.bar(4, ((1 - taxa_acerto_ph_1)*100),edgecolor='black', color='darkred')\n",
    "\n",
    "ax.bar(5, taxa_acerto_ch_1*100, edgecolor='black', color='royalblue')\n",
    "ax.bar(6, ((1 - taxa_acerto_ch_1)*100), edgecolor='black', color='navy')\n",
    "\n",
    "ax.set_facecolor('lightgray')\n",
    "\n",
    "# ax.pie(taxa_acerto_1, colors=['Green','Blue'], radius=0.4, center=(7, 0.4),\n",
    "#        wedgeprops={\"linewidth\": 1, \"edgecolor\": \"white\"}, frame=True)\n",
    "\n",
    "ax.set_ylim(0, 100)\n",
    "plt.xticks(posicoes, categorias, ha='center')\n",
    "plt.title('Gráfico de Acertos e Erros por Disciplina calculado pelo modelo sem laplace')\n",
    "plt.tight_layout()  # Ajusta para evitar sobreposição\n",
    "\n",
    "\n",
    "plt.show()"
   ]
  },
  {
   "cell_type": "code",
   "execution_count": 36,
   "metadata": {},
   "outputs": [
    {
     "data": {
      "text/html": [
       "<div>\n",
       "<style scoped>\n",
       "    .dataframe tbody tr th:only-of-type {\n",
       "        vertical-align: middle;\n",
       "    }\n",
       "\n",
       "    .dataframe tbody tr th {\n",
       "        vertical-align: top;\n",
       "    }\n",
       "\n",
       "    .dataframe thead th {\n",
       "        text-align: right;\n",
       "    }\n",
       "</style>\n",
       "<table border=\"1\" class=\"dataframe\">\n",
       "  <thead>\n",
       "    <tr style=\"text-align: right;\">\n",
       "      <th>Topic</th>\n",
       "      <th>Biology</th>\n",
       "    </tr>\n",
       "    <tr>\n",
       "      <th>algoL_certa</th>\n",
       "      <th></th>\n",
       "    </tr>\n",
       "  </thead>\n",
       "  <tbody>\n",
       "    <tr>\n",
       "      <th>False</th>\n",
       "      <td>128</td>\n",
       "    </tr>\n",
       "    <tr>\n",
       "      <th>True</th>\n",
       "      <td>609</td>\n",
       "    </tr>\n",
       "  </tbody>\n",
       "</table>\n",
       "</div>"
      ],
      "text/plain": [
       "Topic        Biology\n",
       "algoL_certa         \n",
       "False            128\n",
       "True             609"
      ]
     },
     "metadata": {},
     "output_type": "display_data"
    },
    {
     "data": {
      "text/plain": [
       "<Figure size 640x480 with 0 Axes>"
      ]
     },
     "metadata": {},
     "output_type": "display_data"
    },
    {
     "data": {
      "image/png": "[encoded data removed]",
      "text/plain": [
       "<Figure size 900x600 with 1 Axes>"
      ]
     },
     "metadata": {},
     "output_type": "display_data"
    }
   ],
   "source": [
    "cross_L = pd.crosstab(validacao_biologia.Topic, validacao_biologia.algoL_certa)\n",
    "display(pd.crosstab(validacao_biologia.algoL_certa, validacao_biologia.Topic))\n",
    "plt.figure()\n",
    "\n",
    "fig, ax = plt.subplots(figsize=(9, 6))\n",
    "\n",
    "categorias = ['Biologia acertos', 'Biologia erros', 'Física acertos', 'Física erros', 'Química acertos', 'Química erros']\n",
    "posicoes = np.arange(1,len(categorias) + 1)\n",
    "\n",
    "ax.bar(1, taxa_acerto_bio_L *100, edgecolor='black', color='limegreen')\n",
    "ax.bar(2, ((1 - taxa_acerto_bio_L)*100),edgecolor='black', color='darkgreen')\n",
    "\n",
    "ax.bar(3, taxa_acerto_ph_L*100, edgecolor='black', color='Red')\n",
    "ax.bar(4, ((1 - taxa_acerto_ph_L)*100),edgecolor='black', color='darkred')\n",
    "\n",
    "ax.bar(5, taxa_acerto_ch_L*100, edgecolor='black', color='royalblue')\n",
    "ax.bar(6, ((1 - taxa_acerto_ch_L)*100), edgecolor='black', color='navy')\n",
    "\n",
    "ax.set_facecolor('lightgray')\n",
    "\n",
    "ax.set_ylim(0, 100)\n",
    "plt.xticks(posicoes, categorias, ha='center')\n",
    "plt.title('Gráfico de Acertos e Erros por Disciplina calculado pelo modelo com laplace')\n",
    "plt.tight_layout()  # Ajusta para evitar sobreposição\n",
    "\n",
    "plt.show()"
   ]
  },
  {
   "cell_type": "code",
   "execution_count": 113,
   "metadata": {},
   "outputs": [
    {
     "name": "stderr",
     "output_type": "stream",
     "text": [
      "C:\\Users\\thoma\\AppData\\Local\\Temp\\ipykernel_27232\\1555653662.py:5: MatplotlibDeprecationWarning: Auto-removal of overlapping axes is deprecated since 3.6 and will be removed two minor releases later; explicitly call ax.remove() as needed.\n",
      "  plt.subplot(121)\n"
     ]
    },
    {
     "data": {
      "text/plain": [
       "<Figure size 640x480 with 0 Axes>"
      ]
     },
     "metadata": {},
     "output_type": "display_data"
    },
    {
     "data": {
      "image/png": "[encoded data removed]",
      "text/plain": [
       "<Figure size 1200x1200 with 2 Axes>"
      ]
     },
     "metadata": {},
     "output_type": "display_data"
    }
   ],
   "source": [
    "plt.figure()\n",
    "\n",
    "fig = plt.subplots(figsize=(12, 12))\n",
    "\n",
    "plt.subplot(121)\n",
    "plt.pie(taxa_acerto_1, colors=['forestgreen','navy'], radius=1, center=(1, 1),\n",
    "        wedgeprops={\"linewidth\": 1, \"edgecolor\": \"white\"}, frame=False, labels=['Acertos Sem Laplace','Erros Sem Laplace'], labeldistance=1.3)\n",
    "plt.xlabel = 'Acertos e erros do algoritmo sem laplace'\n",
    "plt.legend(loc='lower left', bbox_to_anchor=(-0.3,0))\n",
    "\n",
    "plt.subplot(122)\n",
    "plt.pie(taxa_acerto_L, colors=['forestgreen','navy'], radius=1, center=(1, 1),\n",
    "        wedgeprops={\"linewidth\": 1, \"edgecolor\": \"white\"}, frame=False, labels=['Acertos Laplace','Erros Laplace'], labeldistance=1.3)\n",
    "plt.xlabel = 'Acertos e erros do algoritmo com laplace'\n",
    "\n",
    "plt.legend(loc='lower left', bbox_to_anchor=(-0.1,0))\n",
    "plt.show()"
   ]
  },
  {
   "cell_type": "markdown",
   "metadata": {},
   "source": [
    "___\n",
    "### Concluindo"
   ]
  },
  {
   "cell_type": "code",
   "execution_count": null,
   "metadata": {},
   "outputs": [],
   "source": []
  },
  {
   "cell_type": "code",
   "execution_count": null,
   "metadata": {},
   "outputs": [],
   "source": []
  },
  {
   "cell_type": "code",
   "execution_count": null,
   "metadata": {},
   "outputs": [],
   "source": []
  },
  {
   "cell_type": "markdown",
   "metadata": {},
   "source": [
    "___\n",
    "### Qualidade do Classificador a partir de novas separações das mensagens entre Treinamento e Teste\n",
    "\n",
    "Caso for fazer esse item do Projeto"
   ]
  },
  {
   "cell_type": "code",
   "execution_count": null,
   "metadata": {},
   "outputs": [],
   "source": []
  },
  {
   "cell_type": "code",
   "execution_count": null,
   "metadata": {},
   "outputs": [],
   "source": []
  },
  {
   "cell_type": "code",
   "execution_count": null,
   "metadata": {},
   "outputs": [],
   "source": []
  },
  {
   "cell_type": "markdown",
   "metadata": {},
   "source": [
    "___\n",
    "## Aperfeiçoamento:\n",
    "\n",
    "Leia atentamente a rubrica colocada no enunciado do Projeto 1 (última página). <br>\n",
    "Trabalhos que conseguirem pelo menos conceito B vão evoluir em conceito dependendo da quantidade de itens avançados:\n",
    "\n",
    "* IMPLEMENTOU outras limpezas e transformações que não afetem a qualidade da informação contida nas mensagens, mas tendem a melhorar na classificação das mensagens. Ex: stemming, lemmatization, stopwords.\n",
    "* CONSIDEROU arquivo com três categorias na classificação das variáveis (OBRIGATÓRIO PARA QUARTETOS, sem contar como item avançado)\n",
    "* CONSTRUIU o cálculo das probabilidades corretamente utilizando bigramas E apresentou referência sobre o método utilizado.\n",
    "* EXPLICOU porquê não pode usar novas mensagens classificadas pelo próprio classificador como amostra de treinamento\n",
    "* PROPÔS diferentes cenários para Naïve Bayes fora do contexto do projeto (pelo menos dois cenários diferentes, exceto aqueles já apresentados em sala pelos professores: por exemplo, filtro de spam)\n",
    "* REFLETE criticamente sobre os resultados obtidos, identificando limitações do modelo e sugerindo possíveis melhorias ou diferentes abordagens com indicações concretas de como implementar (indicar como fazer e indicar material de pesquisa).\n",
    "* DOCUMENTOU bem o código, com explicações claras para cada etapa do processo, incluindo o raciocínio por trás das decisões de modelagem e das transformações de dados.\n"
   ]
  },
  {
   "cell_type": "markdown",
   "metadata": {},
   "source": [
    "___\n",
    "## Referências"
   ]
  },
  {
   "cell_type": "markdown",
   "metadata": {},
   "source": [
    "[Naive Bayes and Text Classification](https://arxiv.org/pdf/1410.5329.pdf)  **Mais completo**\n",
    "\n",
    "[A practical explanation of a Naive Bayes Classifier](https://monkeylearn.com/blog/practical-explanation-naive-bayes-classifier/) **Mais simples**"
   ]
  },
  {
   "cell_type": "code",
   "execution_count": null,
   "metadata": {},
   "outputs": [],
   "source": []
  }
 ],
 "metadata": {
  "kernelspec": {
   "display_name": "Python 3 (ipykernel)",
   "language": "python",
   "name": "python3"
  },
  "language_info": {
   "codemirror_mode": {
    "name": "ipython",
    "version": 3
   },
   "file_extension": ".py",
   "mimetype": "text/x-python",
   "name": "python",
   "nbconvert_exporter": "python",
   "pygments_lexer": "ipython3",
   "version": "3.11.5"
  }
 },
 "nbformat": 4,
 "nbformat_minor": 4
}
