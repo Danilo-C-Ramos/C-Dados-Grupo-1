{
 "cells": [
  {
   "cell_type": "markdown",
   "metadata": {},
   "source": [
    "# Projeto 1 - Ciência dos Dados"
   ]
  },
  {
   "cell_type": "markdown",
   "metadata": {},
   "source": [
    "Nome: Danilo Ramos\n",
    "\n",
    "Nome: Leonardo Veras\n",
    "\n",
    "Nome: Thomas Ganut"
   ]
  },
  {
   "cell_type": "markdown",
   "metadata": {},
   "source": [
    "Atenção: Serão permitidos grupos de até 4 pessoas, mas com uma rubrica mais exigente. "
   ]
  },
  {
   "cell_type": "markdown",
   "metadata": {},
   "source": [
    "___\n",
    "Carregando algumas bibliotecas:"
   ]
  },
  {
   "cell_type": "code",
   "execution_count": 1,
   "metadata": {},
   "outputs": [],
   "source": [
    "%matplotlib inline\n",
    "import pandas as pd\n",
    "import matplotlib.pyplot as plt\n",
    "import numpy as np\n",
    "import os\n",
    "from IPython.display import display\n",
    "import re"
   ]
  },
  {
   "cell_type": "code",
   "execution_count": 2,
   "metadata": {
    "scrolled": false
   },
   "outputs": [
    {
     "name": "stdout",
     "output_type": "stream",
     "text": [
      "Esperamos trabalhar no diretório\n",
      "c:\\Users\\thoma\\Documents\\GitHub\\C-Dados-Porreta\n"
     ]
    }
   ],
   "source": [
    "print('Esperamos trabalhar no diretório')\n",
    "print(os.getcwd())"
   ]
  },
  {
   "cell_type": "markdown",
   "metadata": {},
   "source": [
    "Carregando a base de dados com as mensagens dos seus arquivos:"
   ]
  },
  {
   "cell_type": "code",
   "execution_count": 3,
   "metadata": {},
   "outputs": [
    {
     "data": {
      "text/html": [
       "<div>\n",
       "<style scoped>\n",
       "    .dataframe tbody tr th:only-of-type {\n",
       "        vertical-align: middle;\n",
       "    }\n",
       "\n",
       "    .dataframe tbody tr th {\n",
       "        vertical-align: top;\n",
       "    }\n",
       "\n",
       "    .dataframe thead th {\n",
       "        text-align: right;\n",
       "    }\n",
       "</style>\n",
       "<table border=\"1\" class=\"dataframe\">\n",
       "  <thead>\n",
       "    <tr style=\"text-align: right;\">\n",
       "      <th></th>\n",
       "      <th>Comment</th>\n",
       "      <th>Topic</th>\n",
       "    </tr>\n",
       "  </thead>\n",
       "  <tbody>\n",
       "    <tr>\n",
       "      <th>0</th>\n",
       "      <td>If you pile up electrons in a hypothetical cha...</td>\n",
       "      <td>Physics</td>\n",
       "    </tr>\n",
       "    <tr>\n",
       "      <th>1</th>\n",
       "      <td>Is it the infamous kill-you-dead Brazilian wan...</td>\n",
       "      <td>Biology</td>\n",
       "    </tr>\n",
       "    <tr>\n",
       "      <th>2</th>\n",
       "      <td>What a dumb fucking question. No you moron the...</td>\n",
       "      <td>Biology</td>\n",
       "    </tr>\n",
       "    <tr>\n",
       "      <th>3</th>\n",
       "      <td>Yes!  Humans in North America have really led ...</td>\n",
       "      <td>Biology</td>\n",
       "    </tr>\n",
       "    <tr>\n",
       "      <th>4</th>\n",
       "      <td>Take my award. What an underrated comment.</td>\n",
       "      <td>Chemistry</td>\n",
       "    </tr>\n",
       "  </tbody>\n",
       "</table>\n",
       "</div>"
      ],
      "text/plain": [
       "                                             Comment      Topic\n",
       "0  If you pile up electrons in a hypothetical cha...    Physics\n",
       "1  Is it the infamous kill-you-dead Brazilian wan...    Biology\n",
       "2  What a dumb fucking question. No you moron the...    Biology\n",
       "3  Yes!  Humans in North America have really led ...    Biology\n",
       "4         Take my award. What an underrated comment.  Chemistry"
      ]
     },
     "execution_count": 3,
     "metadata": {},
     "output_type": "execute_result"
    }
   ],
   "source": [
    "arquivo_treino = 'dados_treino_QUARTETO_Danilo_Leonardo_Thomas.csv'\n",
    "train = pd.read_csv(arquivo_treino)\n",
    "\n",
    "train.head(5)"
   ]
  },
  {
   "cell_type": "code",
   "execution_count": 4,
   "metadata": {},
   "outputs": [
    {
     "data": {
      "text/html": [
       "<div>\n",
       "<style scoped>\n",
       "    .dataframe tbody tr th:only-of-type {\n",
       "        vertical-align: middle;\n",
       "    }\n",
       "\n",
       "    .dataframe tbody tr th {\n",
       "        vertical-align: top;\n",
       "    }\n",
       "\n",
       "    .dataframe thead th {\n",
       "        text-align: right;\n",
       "    }\n",
       "</style>\n",
       "<table border=\"1\" class=\"dataframe\">\n",
       "  <thead>\n",
       "    <tr style=\"text-align: right;\">\n",
       "      <th></th>\n",
       "      <th>Comment</th>\n",
       "      <th>Topic</th>\n",
       "    </tr>\n",
       "  </thead>\n",
       "  <tbody>\n",
       "    <tr>\n",
       "      <th>0</th>\n",
       "      <td>Wait wouldn’t the wings rip off before the res...</td>\n",
       "      <td>Biology</td>\n",
       "    </tr>\n",
       "    <tr>\n",
       "      <th>1</th>\n",
       "      <td>It's pretty much the same idea behind people a...</td>\n",
       "      <td>Biology</td>\n",
       "    </tr>\n",
       "    <tr>\n",
       "      <th>2</th>\n",
       "      <td>Yeah, good to know. We had a crazy infestation...</td>\n",
       "      <td>Biology</td>\n",
       "    </tr>\n",
       "    <tr>\n",
       "      <th>3</th>\n",
       "      <td>It’s a kiwi doggy</td>\n",
       "      <td>Biology</td>\n",
       "    </tr>\n",
       "    <tr>\n",
       "      <th>4</th>\n",
       "      <td>You're absolutely right about the flu not kill...</td>\n",
       "      <td>Biology</td>\n",
       "    </tr>\n",
       "  </tbody>\n",
       "</table>\n",
       "</div>"
      ],
      "text/plain": [
       "                                             Comment    Topic\n",
       "0  Wait wouldn’t the wings rip off before the res...  Biology\n",
       "1  It's pretty much the same idea behind people a...  Biology\n",
       "2  Yeah, good to know. We had a crazy infestation...  Biology\n",
       "3                                  It’s a kiwi doggy  Biology\n",
       "4  You're absolutely right about the flu not kill...  Biology"
      ]
     },
     "execution_count": 4,
     "metadata": {},
     "output_type": "execute_result"
    }
   ],
   "source": [
    "test = pd.read_csv('dados_teste_QUARTETO_Danilo_Leonardo_Thomas.csv')\n",
    "test.head(5)"
   ]
  },
  {
   "cell_type": "markdown",
   "metadata": {},
   "source": [
    "___\n",
    "## Classificador automático\n"
   ]
  },
  {
   "cell_type": "markdown",
   "metadata": {},
   "source": [
    "Faça aqui uma descrição do seu assunto e o contexto referente aos rótulos cujas mensagens (ou reviews) deverão ser classificadas.\n",
    "\n",
    "Será desenvolvido um sistema automático, utilizando o Teorema de Bayes, para classificar textos científicos em física, química e biologia. Uma prova de conceito será implementada para treinar e testar o classificador, garantindo a separação clara dos textos nas respectivas áreas."
   ]
  },
  {
   "cell_type": "markdown",
   "metadata": {},
   "source": [
    "___\n",
    "### Montando um Classificador Naive-Bayes\n",
    "\n",
    "Considerando apenas as mensagens da planilha Treinamento, ensine  seu classificador."
   ]
  },
  {
   "cell_type": "code",
   "execution_count": 5,
   "metadata": {},
   "outputs": [],
   "source": [
    "def cleanup(text):\n",
    "    \"\"\"\n",
    "        Função de limpeza muito simples que troca alguns sinais básicos por espaços\n",
    "    \"\"\"\n",
    "    #import string\n",
    "    punctuation = '[´\"!-.:?;$'')(&€™/]' # Note que os sinais [] são delimitadores de um conjunto.\n",
    "    pattern = re.compile(punctuation)\n",
    "    text_subbed = re.sub(pattern, '', text)\n",
    "    return text_subbed"
   ]
  },
  {
   "cell_type": "code",
   "execution_count": 6,
   "metadata": {},
   "outputs": [
    {
     "data": {
      "text/plain": [
       "the             6070\n",
       "to              3867\n",
       "a               3627\n",
       "of              2993\n",
       "and             2828\n",
       "                ... \n",
       "early-stage        1\n",
       "failure.           1\n",
       "anonymous          1\n",
       "1-up               1\n",
       "duck-stream?       1\n",
       "Name: count, Length: 23818, dtype: int64"
      ]
     },
     "execution_count": 6,
     "metadata": {},
     "output_type": "execute_result"
    }
   ],
   "source": [
    "list_train: list = []\n",
    "for frase in train.Comment:\n",
    "    frase = frase.split()\n",
    "    for word in frase:\n",
    "        list_train.append(word)\n",
    "        \n",
    "serie_train = pd.Series(list_train)\n",
    "tabela = serie_train.value_counts()\n",
    "stop_words = tabela.index[:15].tolist()\n",
    "for i in range(len(stop_words)):\n",
    "    stop_words[i] = stop_words[i].lower()\n",
    "# print(stop_words)\n",
    "\n",
    "tabela"
   ]
  },
  {
   "cell_type": "code",
   "execution_count": 7,
   "metadata": {},
   "outputs": [
    {
     "name": "stdout",
     "output_type": "stream",
     "text": [
      "shes contrarian who wants tear down anything she sees as being hyped this particular case shes totally right do so honestly amount bullshit surrounding delayed choice quantum eraser makes clear case sabines particular style being warranted perhaps even necessary  she gets hate because there other instances where her contrarian nature runs totally contrary what experts say  what we have pretty good reason believe her hot takes often foster misunderstanding can sometimes see her acolytes calling bullshit on say string theory or dark matter when they clearly havent taken time understand why people believe these things also there accusations she intentionally divisive increase her popular appeal sell more books which probably partially true\n"
     ]
    }
   ],
   "source": [
    "def cleanup_stopwords(frase):\n",
    "    punctuation = '[´\"!-.:?;$'')(&€™/]' # Note que os sinais [] são delimitadores de um conjunto.\n",
    "    pattern = re.compile(punctuation)\n",
    "    text_subbed = re.sub(pattern, '', frase)\n",
    "    text_subbed = text_subbed.lower()\n",
    "    text_subbed = text_subbed.replace((\"\\n\"),' ')\n",
    "    for palavra in stop_words:\n",
    "        text_subbed = text_subbed.replace((f' {palavra} '), ' ')\n",
    "\n",
    "    return text_subbed\n",
    "\n",
    "print(cleanup_stopwords('shes contrarian who wants tear down anything she sees as being hyped this particular case shes totally right do so honestly amount bullshit surrounding delayed choice quantum eraser makes clear case sabines particular style being warranted perhaps even necessary\\n\\nshe gets hate because there other instances where her contrarian nature runs totally contrary what experts say  what we have pretty good reason believe her hot takes often foster misunderstanding can sometimes see her acolytes calling bullshit on say string theory or dark matter when they clearly havent taken time understand why people believe these things also there accusations she intentionally divisive increase her popular appeal sell more books which probably partially true'))"
   ]
  },
  {
   "cell_type": "code",
   "execution_count": 8,
   "metadata": {},
   "outputs": [
    {
     "data": {
      "text/plain": [
       "0                   if\n",
       "1                 pile\n",
       "2                   up\n",
       "3            electrons\n",
       "4         hypothetical\n",
       "              ...     \n",
       "110409              an\n",
       "110410          active\n",
       "110411       untreated\n",
       "110412             hiv\n",
       "110413       infection\n",
       "Length: 110414, dtype: object"
      ]
     },
     "execution_count": 8,
     "metadata": {},
     "output_type": "execute_result"
    }
   ],
   "source": [
    "for i, frase in enumerate(train.Comment):\n",
    "    train.Comment[i] = cleanup_stopwords(frase.lower())\n",
    "\n",
    "list_train: list = []\n",
    "for frase in train.Comment:\n",
    "    frase = frase.split()\n",
    "    for word in frase:\n",
    "        list_train.append(word)\n",
    "        \n",
    "serie_train = pd.Series(list_train)\n",
    "#for i, palavra in enumerate(test.Comment):\n",
    "#    test.Comment[i] = cleanup(frase.lower())\n",
    "\n",
    "serie_train"
   ]
  },
  {
   "cell_type": "code",
   "execution_count": 9,
   "metadata": {},
   "outputs": [],
   "source": [
    "train_physics = train.loc[train.Topic == 'Physics']\n",
    "train_biology = train.loc[train.Topic == 'Biology']\n",
    "train_chemistry = train.loc[train.Topic == 'Chemistry']"
   ]
  },
  {
   "cell_type": "code",
   "execution_count": 10,
   "metadata": {},
   "outputs": [],
   "source": [
    "list_chemistry: list = []\n",
    "for frase in train_chemistry.Comment:\n",
    "    frase = frase.split()\n",
    "    for word in frase:\n",
    "        list_chemistry.append(word)\n",
    "\n",
    "serie_chemistry = pd.Series(list_chemistry)\n",
    "\n",
    "\n",
    "list_physics: list = []\n",
    "for frase in train_physics.Comment:\n",
    "    frase = frase.split()\n",
    "    for word in frase:\n",
    "        list_physics.append(word)\n",
    "\n",
    "serie_physics = pd.Series(list_physics)\n",
    "\n",
    "\n",
    "list_biology: list = []\n",
    "for frase in train_biology.Comment:\n",
    "    frase = frase.split()\n",
    "    for word in frase:\n",
    "        list_biology.append(word)\n",
    "\n",
    "serie_biology = pd.Series(list_biology)"
   ]
  },
  {
   "cell_type": "code",
   "execution_count": null,
   "metadata": {},
   "outputs": [],
   "source": []
  },
  {
   "cell_type": "code",
   "execution_count": 11,
   "metadata": {},
   "outputs": [
    {
     "name": "stdout",
     "output_type": "stream",
     "text": [
      "0.30098538228847793 0.3820530005252957 0.3169616171862264\n",
      "1.0\n"
     ]
    }
   ],
   "source": [
    "P_C = len(serie_chemistry)/len(serie_train)\n",
    "P_B = len(serie_biology)/len(serie_train)\n",
    "P_P = len(serie_physics)/len(serie_train)\n",
    "print(P_C, P_B, P_P)\n",
    "print(P_C + P_B + P_P)\n"
   ]
  },
  {
   "cell_type": "code",
   "execution_count": 12,
   "metadata": {},
   "outputs": [
    {
     "name": "stdout",
     "output_type": "stream",
     "text": [
      "0.012086750292882247\n",
      "this            0.012087\n",
      "but             0.009944\n",
      "not             0.009258\n",
      "on              0.008829\n",
      "have            0.007886\n",
      "                  ...   \n",
      "investigated    0.000029\n",
      "robustly        0.000029\n",
      "reported        0.000029\n",
      "miniboones      0.000029\n",
      "duckstream      0.000029\n",
      "Name: proportion, Length: 6759, dtype: float64\n",
      "is infamous killyoudead brazilian wandering spider\n"
     ]
    }
   ],
   "source": [
    "# #Treinamento\n",
    "tabela_c_relativa = serie_chemistry.value_counts(True)\n",
    "tabela_p_relativa = serie_physics.value_counts(True)\n",
    "tabela_b_relativa = serie_biology.value_counts(True)\n",
    "print(tabela_p_relativa['this'])\n",
    "\n",
    "voc = tabela.count()\n",
    "# Physics\n",
    "tabela_P_raw = serie_physics.value_counts()\n",
    "tabela_P_freq = tabela_P_raw.sum()\n",
    "tabela_P_voc = tabela_P_raw.count()\n",
    "\n",
    "# Chemistry\n",
    "tabela_C_raw = serie_chemistry.value_counts()\n",
    "tabela_C_freq = tabela_C_raw.sum()\n",
    "tabela_C_voc = tabela_C_raw.count()\n",
    "\n",
    "# Biology\n",
    "tabela_B_raw = serie_biology.value_counts()\n",
    "tabela_B_freq = tabela_B_raw.sum()\n",
    "tabela_B_voc = tabela_B_raw.count()\n",
    "\n",
    "frase_teste = 'My name is the Leo, and I play a lot of Minecraft!'\n",
    "#print(serie_biology)\n",
    "#print(serie_chemistry)\n",
    "#print(serie_physics)\n",
    "print(tabela_p_relativa)\n",
    "print(train.Comment[1])"
   ]
  },
  {
   "cell_type": "code",
   "execution_count": null,
   "metadata": {},
   "outputs": [],
   "source": []
  },
  {
   "cell_type": "markdown",
   "metadata": {},
   "source": [
    "___\n",
    "### Verificando a performance do Classificador\n",
    "\n",
    "Agora você deve testar o seu classificador com a base de Testes."
   ]
  },
  {
   "cell_type": "code",
   "execution_count": 13,
   "metadata": {},
   "outputs": [
    {
     "name": "stdout",
     "output_type": "stream",
     "text": [
      "0                 is\n",
      "1           infamous\n",
      "2        killyoudead\n",
      "3          brazilian\n",
      "4          wandering\n",
      "            ...     \n",
      "42179             an\n",
      "42180         active\n",
      "42181      untreated\n",
      "42182            hiv\n",
      "42183      infection\n",
      "Length: 42184, dtype: object\n"
     ]
    }
   ],
   "source": [
    "def algoritmo_1(frase: str):\n",
    "    probPalavraDadoP = 1\n",
    "    probPalavraDadoC = 1\n",
    "    probPalavraDadoB = 1\n",
    "    lista_b = serie_biology.tolist()\n",
    "    lista_p = serie_physics.tolist()\n",
    "    lista_c = serie_chemistry.tolist()\n",
    "    \n",
    "    for palavra in frase.split():\n",
    "        if palavra in lista_b:\n",
    "            probPalavraDadoB *= tabela_b_relativa[palavra]\n",
    "        else:\n",
    "            probPalavraDadoB *= 1\n",
    "\n",
    "        if palavra in lista_p:\n",
    "            probPalavraDadoP *= tabela_p_relativa[palavra]\n",
    "        else:\n",
    "            probPalavraDadoP *= 1\n",
    "            #print('opa')\n",
    "\n",
    "        if palavra in lista_c:\n",
    "            probPalavraDadoC *= tabela_c_relativa[palavra]\n",
    "        else:\n",
    "            probPalavraDadoC *= 1\n",
    "            #print('opa')\n",
    "        \n",
    "    if probPalavraDadoP == 0:\n",
    "            print(frase)\n",
    "\n",
    "\n",
    "    prob_P_dado_frase = probPalavraDadoP * P_P\n",
    "    prob_C_dado_frase = probPalavraDadoC * P_C\n",
    "    prob_B_dado_frase = probPalavraDadoB * P_B\n",
    "\n",
    "    # print(prob_P_dado_frase)\n",
    "    # print(prob_C_dado_frase)\n",
    "    # print(prob_B_dado_frase)\n",
    "    # print(max(prob_P_dado_frase, prob_C_dado_frase, prob_B_dado_frase))\n",
    "    # print('\\n')\n",
    "\n",
    "\n",
    "    if  prob_P_dado_frase > prob_C_dado_frase:\n",
    "        if prob_P_dado_frase > prob_B_dado_frase:\n",
    "            return 'Physics'\n",
    "        else:\n",
    "            return 'Biology'\n",
    "    else:\n",
    "        if prob_C_dado_frase > prob_B_dado_frase:\n",
    "            return 'Chemistry'\n",
    "        else:\n",
    "            return 'Biology'\n",
    "        \n",
    "\n",
    "\n",
    "#frases_physics = test.loc[test.Topic == 'Physics']\n",
    "#frases_chemistry = test.loc[test.Topic == 'Chemistry']\n",
    "#frases_biology = test.loc[test.Topic == 'Biology']\n",
    "algoritmo_1(train.Comment[1])\n",
    "print(serie_biology)\n",
    "\n"
   ]
  },
  {
   "cell_type": "code",
   "execution_count": 14,
   "metadata": {},
   "outputs": [],
   "source": [
    "def algoritmo_laplace(frase: str):\n",
    "    alpha = 1 # Suavizador de Laplace\n",
    "    probPalavraDadoP = 1\n",
    "    probPalavraDadoC = 1\n",
    "    probPalavraDadoB = 1\n",
    "    lista_b = serie_biology.tolist()\n",
    "    lista_p = serie_physics.tolist()\n",
    "    lista_c = serie_chemistry.tolist()\n",
    "\n",
    "    for palavra in frase.split():\n",
    "        if palavra in lista_b:\n",
    "            probPalavraDadoB *= (tabela_B_raw[palavra] + alpha) / (tabela_B_freq + alpha * voc)\n",
    "        else:\n",
    "            probPalavraDadoB *= alpha / (tabela_B_freq + alpha * voc)\n",
    "\n",
    "        if palavra in lista_p:\n",
    "            probPalavraDadoP *= (tabela_P_raw[palavra] + alpha) / (tabela_P_freq + alpha * voc)\n",
    "        else:\n",
    "            probPalavraDadoP *= alpha / (tabela_P_freq + alpha * voc)\n",
    "\n",
    "        if palavra in lista_c:\n",
    "            probPalavraDadoC *= (tabela_C_raw[palavra] + alpha) / (tabela_C_freq + alpha * voc)\n",
    "        else:\n",
    "            probPalavraDadoC *= alpha / (tabela_C_freq + alpha * voc)\n",
    "             \n",
    "    prob_P_dado_frase = probPalavraDadoP #* P_P\n",
    "    prob_C_dado_frase = probPalavraDadoC #* P_C\n",
    "    prob_B_dado_frase = probPalavraDadoB #* P_B\n",
    "\n",
    "    # print(prob_P_dado_frase)\n",
    "    # print(prob_C_dado_frase)\n",
    "    # print(prob_B_dado_frase)\n",
    "    # print('\\n')\n",
    "\n",
    "\n",
    "    if  prob_P_dado_frase > prob_C_dado_frase:\n",
    "        if prob_P_dado_frase > prob_B_dado_frase:\n",
    "            return 'Physics'\n",
    "        else:\n",
    "            return 'Biology'\n",
    "    else:\n",
    "        if prob_C_dado_frase > prob_B_dado_frase:\n",
    "            return 'Chemistry'\n",
    "        else:\n",
    "            return 'Biology'\n",
    "\n",
    "#print(tabela_c_relativa['is'])\n",
    "#print(tabela_c_relativa['infamous'])\n",
    "#print(tabela_c_relativa['killyoudead'])\n",
    "#print(tabela_c_relativa['spider'])\n",
    "#print(tabela_c_relativa['brazilian'])\n",
    "#print(tabela_c_relativa['wandering'])"
   ]
  },
  {
   "cell_type": "code",
   "execution_count": 15,
   "metadata": {},
   "outputs": [
    {
     "name": "stdout",
     "output_type": "stream",
     "text": [
      "honestly amount bullshit surrounding delayed choice quantum eraser makes clear case sabines particular style being warranted perhaps even necessary  she gets hate because there other instances where her contrarian nature runs totally contrary what experts say  what we have pretty good reason believe her hot takes often foster misunderstanding can sometimes see her acolytes calling bullshit on say string theory or dark matter when they clearly havent taken time understand\n",
      "Sem Laplace: \n",
      " Chemistry \n",
      "\n"
     ]
    }
   ],
   "source": [
    "frase_teste = cleanup_stopwords('honestly amount bullshit surrounding delayed choice quantum eraser makes clear case sabines particular style being warranted perhaps even necessary\\n\\nshe gets hate because there other instances where her contrarian nature runs totally contrary what experts say  what we have pretty good reason believe her hot takes often foster misunderstanding can sometimes see her acolytes calling bullshit on say string theory or dark matter when they clearly havent taken time understand')\n",
    "print(frase_teste)\n",
    "print('Sem Laplace: \\n', algoritmo_1(frase_teste), '\\n')\n",
    "# print('Com Laplace: \\n', algoritmo_laplace(frase_teste))"
   ]
  },
  {
   "cell_type": "code",
   "execution_count": 16,
   "metadata": {},
   "outputs": [
    {
     "name": "stdout",
     "output_type": "stream",
     "text": [
      ">lower chance doesnt mean no chance\\n\\nAs OP said his friend isnt an idiot I would assume he knows this but what it boils down to really is how much contact you have with people which he isnt saying\\n\\n>The mRNA gets replicated in the cells cytoplasmribosome Your DNA is inside the nucleus of the cell and whenever something needs to be expressed a copy of the DNA is made and then transported out of the nucleus When its transported out its the mRNA form Its the same here except being made in the cells nucleus its introduced via a shot As far as I know its the same mechanism that stops excessive expression\\n\\nHmm so Im not an expert but this doesnt sound right the mRNA isnt anything but a message for your body Your body uses that message to produce proteins that the rest of your body will then fight off I think the concern is that theres no way to control the amount of proteins your body creates so SOME people create a massive amount of proteins which end up collecting in certain parts of the body \\n\\nWhat is excessive expression\\n\\n>Theres nothing to support that Nothing scientific not even theoretical There is a bad flu going around this year thats true though\\n\\nI agree Personal observation  experience is one of the absolute worst forms of scientific evidence\\n\\n>That was a surprise for me too But the endpoints and outcomes of the protocol were approved and the trial results met the efficacy and safety standards None of which were altered because of COVID These are done by independent review boards and have to declare no conflicts of interest There has also been failed mRNA COVID vaccines too but thats less in the news Sanofi Merck and GSK\\n\\nTechnically I believe the vaccines are still in phase 4 Correct me if Im wrong But to add to that even looking at the MINIMUM timelines for each phase its over 2 years Im not sure when exactly they started but I dont think it was October 2019\\n\\n>I cant speak on this particular local doctors experience or anything But the adverse events of the vaccines are readily available for you to review\\n\\nNow this is a tough one Again it kind of goes back to personal experiences but at the same time this is all so new and so much data at coming in all at once it would be next to impossible to determine ALL of the adverse effects Adding to that unless science have developed a time machine long term effects even though extremely unlikely would be exactly impossible to know\n",
      "Concentration is what mass of a compound you have per unit volume of solvent if i have a concentration of 1 gL in water that means I have 1 gram of my compound for every liter of water\\n\\nPurity on the other hand just refers to how much other stuff is in a compound For example a lot of the compounds I acquire for lab work are 999 pure That means for every 100 g of the compound 01 g is contamination of things that arent the compound I bought \\n\\nPurity can relate to concentration as your actual concentration will be slightly lower than your calculated concentration when preparing solutions For my 1 gL solution if the compound I added to water was 999 pure the actual concentration of the solution is 0999 gL as the other 0001 gL is not my desired compound\n",
      "Part of the issue is your eyes rather than limitations of VR Ultimately all light coming into your eyes is focused onto your retinas which are 2D surfaces So even in your current 3D world you see a 2D representation of it In a 4D world you would also see a 2D slice\\n\\nNow imagine you live in a 2D world on a piece of paper here your retina would be a line segment If someone proposed adding a 3rd dimension in a simulation youd need a way of rotating your field of view upwards so the line segment could receive information from out of the plane but youd still only see in 1D This upwards rotation would be an alien concept to you much like the operation needed to go from 3D to 4D is to us \\n\\nHaving said that yes I think you could define some operation that would allow you to move through a 4th dimension in a video game What that would look like I have no idea However you would still be looking at a reduced representation of 4D space youd render 3 dimensions and then see that in 2D \\n\\nTheres a few videos on YouTube of simple shapes in 4D try searching 4D simulation Its mind boggling\n",
      "I have seen very rare local site reactions painless swelling itching and extremely rare  I have seen 2 since the first large scale deployment and I see more than 400 people a month in a respiratory illness urgent care lymph node swelling in the armpit on the side of the injection I have not read any case reports of cancer in remission suddenly being “reactivated” after the mRNA based vaccines Also cancer “in remission” is a relative thing as is the definition of “cure” in the field of oncology as such it would be very difficult to show causation from a biologically implausible source \\nmRNA vaccines use a standard metabolic pathway for what it is designed to do If your partially informed friend is concerned about the biology of the mRNA vaccines suggest the adenovirus vector based product\\nFor all the hand waving smoke and mirrors in healthcare the honest truth is the biggest impacts on population health and longevity come from managing vaccine preventable illness and indoor plumbing\\nGet the shot or don’t But make the choice based on good science not feelings and Facebook But remember play stupid games win stupid prizes The risk of reinfection from SARS COV2 is real the risk of death is very real and not small Death from respiratory failure is not a good death Choose wisely\n",
      "I’m familiar with Hoppes from a past life  back then I stored the bottles in a hermetically sealed metal container actually an old ammunition box I wouldn’t keep bottles of it in the house mainly because of the risk of dropping the bottle and breaking it I’m also familiar with safety data sheets and in the UK the ‘Control of Substances Hazardous to Health’ from my time in labs Solvents such as amyl acetate one of the components can attack some plastics so probably that component leached through the plastic zip bag The smell is quite penetrating so that’s probably what you can smell I doubt if you will have any adverse effects as the double bagging would have reduced the amount of solvent escaping considerably Some people can smell it at lower concentrations than others but judging from your description it seems unlikely that you had a significant exposure Faintly smelling it doesn’t sound to me to be a lot if exposure You can google exposure limits of the different components you’ll see in the safety data sheet for further information\\nKeep your closet door open and open the window in that room for a while The smell should slowly dissipate If I were you I would store solvents like that in your garage if you have one Metal NATO ammo boxes are great for storage as they have rubber seals and are very robust  I’ve used them for years\n",
      "My biological sciences degree was easy in years 1 and 2 I was one of the brighter students and got high 80 marks on most assignments \\n\\n\\nIn year 3 I got my first high 60 mark and luckily managed to average just under mid 70 marks for the degree classification courses \\n\\n\\nIve never heard of a median that low Go and speak to half dozen final year students and find out their grade progression over the years If it does go up for all of them then you could continue there I certainly dont get that as I dont know anyone who has ever gone to a university where the courses get easier over time That doesnt make sense how highly valued is this degree course compared to other universities \\n\\n\\nIf the progression is as I have said and you enjoy philosophy or urban planning plus you have an idea of career progression and a philosophy degree up degree can get you there then Id look at changing as quickly as possible You have some catching up to do and youll need to chat to the course organisers for those subjects to see how best to do this \\n\\n\\nThe other option is seeing if its not too late to pull out and restart next year without penalties Probably not but worth asking \\n\\n\\nWhatever you do decide quickly Talk to those students first ideally tomorrow Then talk to your tutor and the alternative course organisers Good luck\n",
      "Technically gophers have furlined cheek pouches and most of the critters that people call gophers are not actually gophers but ground squirrels\\n\\nGroundhogs prairie dogs and marmots are all different species of ground squirrels  In fact there are several different species of each of those types\\n\\nGophers are relatively small rodents in the Family Geomyidae live almost entirely underground and do not live in colonies  They feed on plant roots not seeds and are rarely seen by people coming to the surface only at night to push dirt out of their burrows  They are often mistaken for moles but those are something else entirely in a different Order and eat mostly bugs and worms\\n\\nThe various ground squirrels are rodents in the Family Sciuridae  They live in communal burrows with some species having hundreds or even thousands of individuals in the colony  They mostly eat seeds and some leaves and flowers plus bugs eggs nuts or discarded French fries  They gather food on the surface during the day retreating to their burrows at night as protection from predators and to hibernate through the winter\n",
      "Ok so Ek=12 m v ^2 If the mass of the second cart increases that would obviously increase m \\nHowever we know m1u1  m2u2 = m1v1  m2v2 If we change the mass of m2 but dont change the mass or velocity of cart 1 then m1u1 would be the same m2u2 and m1v1 would be 0 as the carts are expected to be stationary or is it Im unsure about this This would lead to a decrease in v2 to satisfy conservation of momentum if Im correct\\n\\nHowever when I do Ek = 12 m v^2 using  the mass and velocities of cart 2 it does not equal the initial kinetic energy of using Ek = 12 m v^2 when I use the mass and velocities of cart 1 Am I doing something wrong because isnt kinetic energy meant to be same Intially and finally\\n\\nSorry if this was a little confusing to understand\n",
      "1 I dont know much about sublingual liquid forumulations but I believe that the active ingredient would need to either already be in solution or be delivered as a micronized powder in suspension In the latter case the smaller particles would presumably dissolve readily\\n2 The vitamins you refer to are not attached to the excipients they are aggregated together which is a physical phenomenon Think of the vitamin as a marble being placed in a cup with smaller beads the excipient then add some flour and water and the resulting clump is analogous how the drug is formulated That said yes the vitamin will release from the clump and enter the bloodstream\\n3 I dont understand your third question A nebulizer works by converting a liquid or suspension containing the vitamin into a fine mist which is inhaled into the lungs If its a suspension the particulates are extremely fine and when deposited in the lungs allow the vitamin to cross the alveolar and fine bronchial membranes into surrounding tissues and the bloodstream\n",
      "Weve been letting out the fossil fart for over a 100 years now  Assuming we can get [this]httpswwwieaorgfuelsandtechnologieselectricity down to 0 by 2050 which Im warily optimistic about actually we would still have to use all of it for over a hundred years with our 100 efficient\\ carbon sequesters to return to anything close to preindustrial levels of CO2 concentration in the atmosphere  and this is assuming that the other major releases from heating and production will be green by then too  As Im sure you know all of the known methods of sequestering get less efficient as the concentration goes down  utilization of flora included  And the efficiency of sequestering is nowhere near 100 to begin with of course\\n\\n\\ The fart was 100 efficient in converting the fossil fuels to atmospheric CO2 luckily for us weve had the natural sequestration of the flora and seas on our side all that time cutting about 50 of our yearly fart\\n\\n[Many]httpsenwikipediaorgwikiArctic_methane_emissions [things]httpsenwikipediaorgwikiOcean_acidification are ignored in this doomsday prophecy  most of which only serve to make the situation worse\n",
      "There’s an interesting neutron lifetime “puzzle” where different types of experiments measure different values for the lifetime Bottle experiments like this one which measure neutrons that do not decay measure a lifetime about 10 s less than beam experiments which measure neutrons that do decay This could be due to experimental error or a 1 branching ratio to some exotic decay channel This result doesn’t help resolve this puzzle\\n\\nImproved precision helps probe CKM unitarity Also the neutron lifetime is an important parameter in Big Bang nucleosynthesis because it determines the ratio of protons to neutrons prior to the beginning of formation of heavier nuclei\\n\\nThe neutron source is rad hot We use a 800 MeV proton beam to produce spallation neutrons and then cool them to UCN energy levels Solid D2 is used in the final step to downscatter cold neutrons to ultracold neutrons This all happens under a shield stack of concrete and steel\n",
      "Well what you are saying is completely true But he has millions of subscribers actually if you look in a bit different perspective todays internet viewers always want some cool stuff as entertainment Doing this might make them come back again and again and the viewers might get a little bit interested in the subject first rather than directly pursuing it professionally\\n\\nSame with me throughout childhood I have watched Astronomy shows especially Strip the Cosmos and How the Universe Works Also You Have Been Warned That has made the baseline for my interests so I still become happy while studying the subjects formally at school which might also be true once I get into college\\n\\nOne of the other interests I had was Paleontology that is the study of fossils dinosaurs etc I stopped consuming its shows also didnt read much books about them at an early age that much so the passion for it kinda died\\n\\nWell these kinds of videos are still 100s of times better than wasting time on those cringy Tiktoks\\n\\nI hope you understood my viewpoint \n",
      "Yes you are measuring things  Two differing reference frames time and The speed of the bullet in those reference frames For starters\\n\\nHow they get synced together not a good phrase but Im going with it isnt by doubling the speed of the bullet  It is by using a Lorentz Transformation  When the above posters talk about blue shifted light coming from the bullet this is related  Due to the nature spacetime warping at relativistic speeds the energies involved become a hindrance thus creating a cost for objects of mass in typical spacetime system where they cant reach c  As it creates an asymptotic energy cost to reach c  Leaving us with a situation where it would look to the observer always less than c  \\n\\nSo the observer would see as you correctly said the bullet travel from the gun to them in 10 seconds  \\n\\nBut\\n\\nThe bullet would take a different time differing reference frames and all that  \\n\\nSo how do we rectify the two  Which is where I think your question lies  \\n\\nEvery time step 1 sec light or some bit of information leaves the bullet AT the speed of light and reaches the observer  It will always reach them first  So for the entire trip light is signaling the arrival of the bullet before the bullet in the bullets reference frame to the observer in the observers reference frame  And since the bullet only goes 05c and none faster those bits of photons going c tell us the bullet never went c regardless of how we experienced it  \\n\\nLuckily we have blue shift and other measurements to tell us this rather accurately  Because if we see hear feel the bullet we have measured it\n",
      "Ill attempt to answer your question in the most straight forward and simplistic way I can  Ill avoid getting too detailed so you can wrap your mind around the basic concept of viruses \\n\\n\\n\\nViruses dont want anything or have goals motives desires or intent Viruses exist to only to replicate \\n\\nViruses are completely reliant on a host to do the replication for them \\n\\nVirulence is a human created term to categorize the severity of illness caused by a viral infection \\n\\nSome viruses cause little if any ill effect on the host\\n\\nSome viruses cause the host to fall ill for prolonged periods of time \\n\\nSome viruses can infect a host for the duration of the hosts life \\n\\nSome viruses can cause severe acute illness followed by death \\n\\nSome viruses infect a host just once but leave the host forever scarred or with significant longterm health issues \\n\\nMany viruses are host specific meaning they can only infect a certain species  \\n\\nViruses infect very specific cellular systems within the host species  \\n\\nThoes infected cells are hijacked by the viral genetic information and given instruction to replicate the virus over and over and over again until the infected cell bursts with millions of copies of the virus  \\n\\nThe replicated viral copies quickly infect the adjoining cells and the process repeats until either all the cells are destroyed or the immune system of the host gets the viral invasion under control \\n\\nMutations during the replication process drive the evolution and success of viruses \\n\\nThe more the virus is able to replicate the higher the probability of a mutation occurring \\n\\nMutation are caused by errors made in the replication process  Nearly all mutations are unsuccessful deadends for the virus \\n\\nSome chance random mutations may make the virus more successful \\n\\nA beneficial mutation may give a virus ability to replicate at a greater rate in greater numbers infect different cellular systems or even infect other species\\n\\nWhen a virus mutates to infect a new  species it becomes a novel virus for the new hosts \\n\\nA novel virus can be highly virulent on a new host because the new host has no immunity to combat the virus \\n\\nA novel virus can replicate unchecked within the new host specie because there is no programed immune response to combat the novel viral infection  \\n\\nWhen a virus is given the opportunity to replicate unimpeded the probability of a successful mutations increases \\n\\nAs the virus mutates through host replication it may become more virulent on the host \\n\\nIf a virus is overly virulent on its host it often leads to an evolutionary dead end  in other words if all the hosts are killed by a virus the virus wont be able to replicate and will go extinct\\n\\nOver time natural selection tends to favor the mutations that make virus more transmissible over mutations that make it more virulent \\n\\nThe most successful viruses are ones that have evolved to be highly transmissible but have minimal virulent effects on the host \\n\\nSome viruses can be highly virulent on certain individuals in the host population and have no virulent impact on other individuals within the same population \\n\\nOver time the genetic traits in thoes unaffected individuals will be passed along to subsequent generations and become the dominant trait within the host population  \\n\\nThis relationship between viruses and their hosts has been ongoing for hundreds of millions of years Its known as an evolutionary arms race \\n\\nViruses have always and will continue to always be one of the selection factors driving the evolution and diversity of species on our planet  \\n\\n\\n\\nAgain I tried to make the information very simple and loose  I left our a tremendous amount of information in hopes to provide some insight without confusion\n",
      "When the ball rebounds away from you the magnitude of the impulse change in momentum is the same for you and the ball but in opposite directions\\nImpulse is proportional to the mass and the change in velocity which means the change in velocity is inversely proportional to the mass\\nYou have more mass than the ball no offence so your change in velocity is smaller than the balls\\nNow the rebound happens over the same timeframe for both you and the ball it is the duration of time where the ball is in contact with you during the rebound\\nAcceleration is the change in velocity divided by the time it took to change\\nTherefore the acceleration is higher for the ball than it is for you because the change in velocity is higher and it happens across the same timeframe\\n\\nI hope that helps Someone could probably explain it better\n",
      "> currently I’m doing maths chem and physics but do you think that’s enough to get a job that pays well\\n\\nYes but that depends on your definition of pays well and if youre willing to work a job that is unrelated to your major I could have gone straight from grad school to a physics postdoc that would have paid 60k70k but that just isnt enough money to satisfy me My area of study in physics didnt line up well with physics industry read semiconductors and solidstate So I left physics and sold my skills to the highest bidder\\n\\nBig tech and big finance understand that there are many people who graduate with STEM degrees who want to go into nonSTEM industry to make more money I knew very little finance coming into my current finance job and on a daytoday basis I use very little finance in my current finance job Everything I use is something that I learned on the job My company doesnt care They hired me because Im smart and then they taught me all the finance that I needed to do my job\\n\\nThose majors demonstrate that you are at least somewhat smart If youre smart and you can demonstrate this in an interview and you have some basic programming skills then you can get a decent finance job If you want to go into tech instead then you need better than basic programming skills Statistically speaking big finance and big tech are where STEM majors go if they dont want to work in STEM but want to make the most money which is why I keep mentioning those two fields\\n\\nEDIT grammar\n",
      ">He is an intelligent guy and Not one of those covid deniersconspiracy dumb\\\\\\\\\\\\n\\nIts important to understand that most antivaxxers like most climate change deniers arent dumbshits Theyre average and even intelligent people who have overestimated their knowledge including their ability to assess knowledge in a subject area I think if we understood that wed not only make wiser decisions ourselves but also be much kinder toward others\\n\\nYour friend doesnt need answers to technical questions He needs to understand that science isnt about what one person thinks him or one doctor or one paper  it operates through consensus and the consensus on this topic seems to be very clearly that\\n\\n1 Vaccination is important for people who live where diseases like COVID spread easily which is most places these days\\n2 The most commonlyused COVID vaccines are very safe and\\n3 COVID the disease is not very safe  and in fact many people with minimal symptoms are showing longterm cognitive deficits\\n\\nMy own background is in quantum physics When I feel inclined to offer up an opinion on COVID measures or climate models I try to imagine how Id feel if some epidemiologist posted to Facebook that he disagrees with my last paper because he thinks I misunderstand the Schrödinger equation\n",
      "But the countless stories of people “floating out” however they choose to describe it of their body when dead and being able to observe and hear what’s going on in other rooms or at significant distances from their bodies is something curious People have been able to relay conversations or describe what was happening while they were pronounced dead when they by all known scientific reasoning should not have been able to do that People have met other family members that they had never met in real life describe them to living family members who confirmed identity with pictures There’s a lot of detail in these experiences that give glimpses into something “more” not saying it’s God or whatever just that it’s worth looking into with an open mind \\n\\nI’ll admit that at first I found NDE stories comforting after leaving religion bc I have had personal experiences that lead me to believe that there is more I felt it couldn’t be the Judeo Christian god that’s all such nonsense and bonkers I’ve come to the personal conclusion that it doesn’t matter what we believe only how we live honestly even that doesn’t “matter” Whether there’s something after this life or not we DO have this tangible life right now and it’s what we should put all our focus toward Not wondering or fearing what happens after this life that’s silly and wasteful So now I just find the NDE topic and the study of psychedelics pretty fascinating Because it IS a glimpse into our brains and psychology Whether it’s spiritual or physical it’s interesting either way\n",
      "To calculate it you should probably work backwards start with the neutralization reaction then the reaction to produce the nitric acid I think its the Ostwald process Make sure to balance the equations \\n\\nBy using the yield of the Ostwald process you can find the ratio of ammonia for the nitric acid to the ammonia used in the final reaction\\n\\nThen you should convert the molar ratios into mass ratios between the ammonia and the ammonium nitrate\\n\\nThis should hopefully work I wasnt quite sure how much you might of forgotten so I just brain dumped my thought process I might check this calculation on paper to see if Ive forgotten any steps  or made a mistake\\n\\n\\n\\nEdit\\n\\nAfter actually checking the molar ratio of the Ostwald process it appears that I overcomplicated it\\n\\nAs the Ostwald process is 11 ammonianitric acid the whole process takes 2 ammonia for 1 ammonium nitrate\\n\\nSo you can calculate the mass of the product by just getting the moles of ammonia dividing by 2 and then multiplying by the molar mass of ammonium nitrate\n",
      "Well water itself is made of 2 hydrogen and 1 oxygen and gases can dissolve in water as well Look at soda drinks it has co2 in it Water is full of it…you could inhale water and get a tiny tiny tiny fraction of oxygen but you would not be able to keep up with the demand and water acts as an irritant in lungs because the structure isn’t suited to deal with getting oxygen from water You can get water into lungs easy but not so much getting it out…and in order to take another breathe you need to get it out so you drown because you can’t keep up with the demand You would need to breathe an ungodly amount of water per second to get enough oxygen and lungs just can’t do that\n",
      "So I take that as a No that if you put a supplement B vitamin Liquid in a nebulizer it wont work Or if you inject them directly into the blood it wont work either I was under the impression that nebulizer did break them down to individual atoms via vibrations or something But the nebulizer still can make the B vitamins carry it a steam by making them as a whole into small enough particles that can be carried and absorbed and if it gets to the LUNGS which are equipped to separate OXYGEN atoms from the other things in the air and absorb why cant it do the same for the vitamin supplement that have other ingredients mixed in with them that are attached and then get rid of those as it does with carbon hydrogen etc from oxygen and absorb the essential vitamins which your body recognizes  But if you inject them directly without first separating all the individual ingredients  and making them into a small particle it wont work Because once in the blood it cant separate or use enzymes to make it into a usable form particle And also the lungs can alter PH levels Vitamin C for example is made out of carbon oxygen and hydrogen So your telling me the lungs wont absorb vitamin C because it has hydrogen and carbon Doesnt the lungs absorb some carbon and hydrogen accidently  But then again your lungs do absorb smoke and all its chemicals from cigars into blood even though it is not meant to it still does\\n\\n>Why does it feel like Im doing your homework For your body to use them it needs to be broken down to individual atoms not particles You are probably better off posting to rChemistry because at this point that is what you are brushing up against You do realize that at these scales pretty much all chemistry including all your biological processes are powered by random chance of molecules bumping into one another The sheer numbers of atoms and molecules involved allow this to be possible That is also why most life relies on water because it is an excellent solvent which facilities the transportation of molecules leading to said chance encounters for interactions to occur It is an oversimplification but the chemistry in question can generally be seen as a microscopic mechanical process Molecules be they vitamins drugs or even parts of cells in your body fit together perfectly like 3D puzzle pieces when interacting Therefore said interactions arent going to be possible with particles nomatter how small until they are broken down into individual molecules Again at this point you are really talking chemistry more than biology As for PH levels affecting absorption rates yes it plays a huge role but again this will be dependent upon the vitamin in question Again this would depend on the vitamin in question some are water soluble whereas others are oil soluble Vibration on the molecular level is heat Such a miniscule amount of vibration on tiny granules isnt going to do much to change them This would be a physical change but common filler ingredient such as microcrystalline cellulose or maltodextrin are used for the aforementioned uniformity in granule size and wouldnt be affected by such vibrations but they will be broken down in your digestive system by chemical processes some as simple as being dissolved in water and other bodily fluids\n",
      "Thank You  If I assumed it was an electric heater what would the formula be\\n\\nYou are correct and though this is a sealed propane fireplace the 50000BTU of the burner looses 32 of it’s efficiency due to the chimney\\n\\nAlso the reason for the question is I have a ‘new’ fireplace installed that is higher BTU than the old yet yields no  heat The manufacture and installer and distributer all were over today filling the air with technogarbo of why I should expect a 50000 BTU fireplace to NOT HEAT A ROOM very well\\n\\nI did the math 50000x68=34000 BTU actual heat Now to demonstrate the lack of heat I converted this to Watts then showed a 1500watt electric heater was hotter than the fireplace \\n\\nWhat I would like to show a theoretical heat transfer in temperature gain\\n\\nThanks agin for the time\n",
      "> spirit of this sub\\n\\nClassifications in Biology range from the extremely specific to the incredibly vague For example it could identify a young male Blue Tit as well that or simply a member of the animal kingdom Each name and group is derived from the group before it and could not exist without a predecessor\\n\\nTherefore if we do not have vague classifactions of nature we have ignored what our specific names were built off of we have disrespected the history and hard work of many a biologist before us\\n\\nAs such since many other subs have the specifics down on naming things better than us already it should be up to us to give vague classifications for the very sake of biology As long as we remain technically correct we will have likely fulfilled this goal\\n\\nSo it could be said after jumping through many mental hoops that it is in the spirit of this sub to be vague about this as long as the other ID subs exist\\n\\nNot that anyone much cares it seems\n",
      "Yep you are missing another part of the story Correct the macronutrients are digested into the monomer units and absorbed into the bloodstream However the other part of the story is metabolism Metabolism is highly complex and involves many molecular conversions to produce various molecules the body might need at any one instance  \\n\\nA scenario where glucose might be converted to fat is eating food when your body already has sufficient energy If the body has sufficient energy there is no reason to break it down further to produce energy Instead glucose can be converted into glycogen which is a fuelstorage molecule \\n\\nGlycogen stores are limited but fat stores are virtually infinite so if you overeat your body tends to start producing fat stores For creation of fat stores glucose is converted into triglycerides basically fat and it is stored as fat in your body\n",
      "I think it was Bohr who said the universe is inherently unknowable Its hard to say what pressures we place on the space of ideas we have about the world without being able to examine things from a nonhuman perspective I think people find solace in attributing order and meaning to the patterns we observe and our place inside them That might be limiting us from a more integrated view of nature  the word uni verse already attributes a singular harmony to reality but its entirely possible its all a discordant chaotic mess in the end Im not sure where that leaves us considering we do still make an unreasonable level of progress as you say \\n\\nIts also possible the laws of the universe  which I would argue ultimately stem from the least action principle that is itself formulated in terms of the behavior of a presupposed system  are selforganizing and emergent in that they are imposed through consensus rather than absolution In that sense maybe there is no underlying structure or meaning beyond what is attributed and that alone makes it real Who knows \n",
      "So it sounds like your less confused about why its exothermic and more confused about how a metastable system can change phase exothermically But the thermodynamics doesnt care Thermodynamics only states how energy will change eventually theres absolutely no timeline on that change In other words thermodynamics states that when the solution crystallizes it will be exothermic by X amount That could happen immediately if you cool it too fast and dont achieve that metastable state or it could happen the moment you give a metastable state a nucleation site That energy is coming from all the interactions formed and lost lost interactions with water gained bonds between ions in this case so that energy comes only comes into play when it actually crystallizes \\n\\nIm not going to explain why crystallizing sodium acetate is exothermic here But if thats what you were really asking just say so and wed be happy to answer that\n",
      "Lets see how the BBC author did\\n\\n>a key component of the matter that makes up our everyday lives\\n\\nwell I dont think sterile neutrinos really are a key component of the matter that makes up our every day life and I say this as someone who loves neutrinos far more than average Every day life is about electrons photons up quarks down quarks and gluons You could maybe make a case to include muons\\n\\n>The search failed to find the particle known as the sterile neutrino\\n\\nokay sort of true but really they didnt test neutrino oscillations they tested the MiniBooNE low energy excess and disfavored that at solid significance\\n\\n> This will now direct physicists towards even more interesting theories to help explain how the Universe came to be\\n\\nthis is just making things up\\n\\n>That is because a sizeable proportion of physicists have been developing their theories on the basis that the existence of the sterile neutrino was a possibility \\n\\nThis is highly misleading this result does not rule out sterile neutrinos nor does it rule 1 eV sterile neutrinos rather it does not find evidence for the low energy excess that MiniBooNE saw which was often interpreted as evidence for a sterile neutrino Sterile neutrinos could still exist at 1 eV but with smaller mixing with active neutrinos or sterile neutrino could exist at any other mass range likely heavier or both In fact sterile neutrinos almost certainly exist somewhere but they are very tricky to probe\\n\\n>why the neutrino has such a tiny mass  which is what allows them to change flavour \\n\\nthe fact that their mass is tiny is not why they change flavor rather the fact that they have different masses and that the weak interaction produces a combination of several different mass states\\n\\n>its shadowy mirrorimage antimatter\\n\\nantimatter is not shadowy it interacts in essentially exactly the same way as regular matter\\n\\n>That result was confirmed by a separate experiment tin 2002\\n\\nthey cant even mention the experiment The paragraph is ambiguous but I assume from context that they are referring to SNO which measured solar neutrinos confirming the standard flavorflipping ugh that sounds so stupid  why cant they call it oscillations not the LSND anomalous result\\n\\n>They believed this form of the particle could explain the overproduction of electron neutrinos and crucially give an insight into why the particles change flavour \\n\\nA 1 eV sterile really doesnt explain why neutrinos oscillate in any particular way\\n\\nThe article actually winds its way through the leptogenesis problem pretty well implying a connection without out right saying it Im not sure if the very careful choice of words was intentional or just a happy accident\n",
      "Here is a writeup I made some time back after I went through this and then had friends do so Hope it helps\\n\\nPantry moth Indian meal moth Plodia interpunctella It is different from other meal moth species including the common meal moth Pyralis farinalis Adults are tricolored above wavy patterned below and with the tiny abdomen tip held at about 90 degrees to body plane Now pantropical and in warm temperate regions it may have originated in Central America\\n\\nTheir diet is unusually broad including grains and many foods made with at least some grain including cereals breads muffins pasta pet food bird seed but apparently also some nuts candy bars peanut butter possibly starches such as corn starch tapioca etc\\n\\nThe peak adult activity is around dusk During daytime the adults mostly remain inactive in dark spots eg crevices Adults are moderately attracted to light especially in the blue to violet range\\n\\nThey are readily detectable using pheremone traps scented tenttraps Deter them by using airtight adequate  food containers or double bagging as well as using essential oils and nontoxic pantry moth spray All stages including eggs are readily killed in a short time by temperatures over c 130°F eg in a car in the sun on a hot day or freezing for 72 hours\\n\\nUnlike most meal moths the larvae of this species readily chew through paper some plastics including processedcereal freshness liners and even thin cardboard Doublebagging with Ziplock bags is normally adequate unless populations are large Tupperware style containers only work if they completely seal airtight Put open food away promptly and avoid leaving pet food out more than a day or two\\n\\nEdit typos\n",
      "Disagree Im not a kneejerk antinuclear wingnut but given the dramatic progress in intermittent renewables over the past decade the usecase for nuclear is substantially smaller than many redditors seem to think it is Theres certainly a good case to be made for nuclear power for clean loadfollowing or baseload electricity generation but thats about it My experience is mostly limited to American energy policy but theres not much reason to believe other countries would have it substantially better when even the French nuclear industry is broadly declining\\n\\nDue to the numerous safety regulations governing nuclear power plant construction upkeep and decommissioning which for the record I think are a good thing nuclear power plants are expensive as hell and take forever to build kWh for kWh they simply cannot compete economically with cheap silicon PV Even if they could a primarily nuclear energy industry would require new power plants being finished across the country every few days just to keep up with the rate at which theyd be decommissioned Given how long they take to build its easy to see that the modern American nuclear industry is literally multiple orders of magnitude away from providing more than ancillary support to a broader green energy economy powered primarily by solar and wind\\n\\nIts not hard to imagine a universe where investment in nuclear energy deployment continued apace for the past few decades laying the foundation for a zerocarbon nuclear future But thats not the world we live in\n",
      "Thank you for the advice and apologies for my late response\\n\\nI can see what you mean there so in simpler terms it seems that the majority of the elements at least those which are solid at room temperature are quite unlikely to react with the noble gasses provided that no powerful oxidisers or catalysts are introduced and no extreme environmental factors are introduced am I understanding that right\\n\\nIm ever so grateful for the assistance you have offered me with how much I have learned here I am fairly confident that I can now finish writing the lore for the storage system in the story I thank you so much for your help as without it I would most likely have ran blindly into this and written so horribly inaccurate that it might never have recovered you are truly a generous person for offering your time towards answering what would under most circumstances be considered a silly question\n",
      "It is just a formal notation NO3^N means somehting like nitrogens in nitrate \\n\\nExample you are testing a 10 L soil sample for nitrate You get 1 mole of nitrate es result The mass number of nitrate is 62 u the mass number of nitrogen is 14 u If you are now calculation the mass concentration you would get \\n\\n cNO3^ = N62u per 10 L\\n or cNO3^N = N14u per 10 L\\n\\nnote N is the dimensionless avogadro number\\n\\nSo in easy words its nitrate just calculated like nitrogen This is often used in enviormental chemistry food chemistry and other related fields because upper limits are often defined via a max nitrogen equivalent This has the advantage that you dont need strict limits for eg nitrate and nitrit because both may vary a bit but still be good or bad but you can regulated via using limits for easily detectable species\n",
      "What even is intelligence I feel like its very illdefined because its hard to quantify There are multiple types of intelligence and within those types there are subtypes Is general intelligence simply the average of ones different types of intelligence I feel like intelligence may be impossible to quantify with the limited information that we can gather about someone For example Nickola Tesla was an intelligent individual but he was also delusional and had problems forming relationships which suggests that he had a low emotional intelligence Therefore I would say Tesla was in fact of average intelligence even though he was a very noteworthy individual who advanced various fields of science Perhaps intelligence can be defined by ones contributions to society but even that leaves a lot to be desired Can anyone recommend a book about what intelligence actually is Because Id be very interested in others thoughts on the subject\n",
      "I worked with a BA for a few years before going to grad school and it never seemed to be an issue no one has ever asked or commented about it and once you get experience people will care even less In my case the BA was because that was all my school offered and my course schedule was still pretty rigorous I took the harder version of things when possible just to flex but its not like employers knew that since they dont look at transcripts \\n\\nHowever the difference between having an internship vs graduating without one is a lot more significant If tuition isnt too insane it might be worth sticking around an extra year to fulfill a research requirement since after graduation its a lot harder to volunteer for experience\n",
      "I think the emergent property argument at least as I’ve heard Sean Carroll say in other contexts is something similar to how physicists view emergent properties in statistical mechanics That is to say there is no such thing as the temperature of a single atom nor the pressure of a single atom but rather these macroscopic properties of a gas say can be very accurately modeled as emerging from the many trillions of wellunderstood kinetic collisions of those atoms In this metaphor there is no such thing as a consciousness particle or consciousness field but rather it emerges when you reach some critical threshold of interacting neurons\\n\\nHe also uses some subtle arguments relating to the trade offs between a given force gravity EM and its reach of influence If a consciousness force could affect the brain it would have to be certainly much stronger than gravity and we’ve never detected such a force\\n\\nI do agree this is likely beyond his field of expertise but I don’t fault him or anyone for positing claims beyond their strict academic domain\n",
      "1 Carve a simple design in the pumpkin including the top and I like a back panel to access the interior Scoop out seeds and membranes Replace all pieces making sure they fit snugly\\n\\n2 In a weigh boat small plastic disposable dish add about 2030 g of calcium carbide \\n\\n3 Drillcut a small hole for a long stem igniter or I use hobby cannon fuse I line the hole in Al foil to prevent the water from the pumpkin to douse the fuse\\n\\n4 Place dish of CaC2 in the pumpkin and add water via a wash bottle Quickly close up the pumpkin and wait 58 seconds to ignite with a long stem igniter or 25 seconds if using fuse \\n\\n5 Make sure all people are 15 feet away for safety \\n\\n6 Disposal CaOH is a product so treat it carefully I remove unreacted CaC2 wearing gloves and then dispose of the pumpkin in the trash\n",
      "Largely clickbait\\n\\nThey compared two decays involving muons with analog decays involving electrons Theory predicts both to be equally likely because muons are basically heavier electrons and the mass difference doesnt matter here They saw some asymmetry but the measurement has a large uncertainty because the decays are rare in general\\n\\nImagine flipping a coin 9 times If you get 0 to 2 or 7 to 9 times heads would you conclude this coin is biased The chance to get such an extreme result with a fair coin is 18 Thats like the measurement result here It is pointing in the same direction as previous measurements we flipped other coins and saw similarly or even more surprising results but a 1 in 5 chance is really nothing big\n",
      "One thing I haven’t seen mentioned here is how many career paths a physics degree can unlock Several people in my graduate program left the field entirely to go into coding finance and yes engineering You’ll have way more options than you would think if you make it through and find you’re still leaning towards engineering \\n\\nI will say that for experimentalists nowadays there’s an increasing overlap between physics and engineering I’m in high energy and have found myself taking more and more courses in electronics circuit design and EE to get a better handle on the detectors I’m working with My friend in soft matter spends all day in the lab fabricating microrobots and basically lives in the engineering department I’m not entirely sure about cosmo but you may find yourself on projects that depend heavily on using physics for analysis and then an engineering mindset for detectorscope development \\n\\nIn any case I say choose physics  the skillset you’ll build will work for many more careers thank you think and you’ll still get to be an engineer in some sense\n",
      "Be careful about this type of advice to people outside of US In many places in Europe an engineering degree Ing is very different from a “science” masters Mgr and there are actual legal requirements and certifications that these degrees do not fulfill compared to each other\\n\\nIf a job requires “a masters degree” then they actually don’t require anything and you can apply with whatever basically equivalent posting of every job in US but if it requires an engineering degree it requires the certifications that are part of the degree You should not apply to a job that requires pharmacology Mgr with just some generic biology masters and you cannot not apply to a job that calls for a electrical engineering Ing with just some generic engineering masters which is usually not even a thing in many places in Europe\n",
      "Help Id GREATLY appreciate someones help Basically if a reaction is endothermic or exothermic does the change in temperature effect the rate of change throughout the reaction We did a lab in school where we recorded how the change in temperature effects rate I put a source of error that we were told to measure the temperature at the end and that I think it would be more accurate to get the temperature average throughout the whole reaction My teacher counted it as wrong I later talked to him and he really didnt seem confident in the topic Could someone link to some article proving one of us is right I understand it wouldnt have a huge effect but IMO its still la slight source of error Im also in grade 12 so my marks really matter to me Thanks\n",
      "Hmm Im not sure I mean it could have also been poorly drycleaned considering how long ago it was done I wouldnt say its the breakdown of fabric because every piece that smelled had a different fabric composition  All of them were something that would have been drycleaned though\\n\\nI dont think its mold because it doesnt wash away and everyone else thought it smelled insanely chemical as well\\n\\nWorking with the clothing for a while Ive gotten used to vintage smell and it really doesnt seem anything like it\\n\\nI do very much appreciate the other opinion though Ill give it some thought and see if maybe it could be something else Everything that was washed would be something that someone would be more likely to take to a drycleaners rather than wash the first being a 50s gown So Im not sure\n",
      "There are two possibilities and therefore two overall schools of thought \\n\\n\\nOne school postulates that consciousness is the fabric of the universe and everything else is secondary thats a very simplistic statement of course\\n\\n\\nThe second school favours the idea that consciousness comes from matter \\n\\n\\nTo my mind it seems logical that the second option has much more supportive evidence than the first although we have to be honest that we arent talking about conclusive evidence just suggestive \\n\\n\\nI would offer firstly the evidence that when matter is arranged in a more complex structure we see emergent properties ie qualities and functions that the individual components dont have The brain is the most complex structure in the universe and so the consciousness is very likely to be an emergent property of the brain \\n\\n\\nOther support for the second school is that we can alter consciousness by altering the brain andor its chemicals suggesting that the brain is the basis for the mind \\n\\n\\nOf course the first idea I presented is usually favoured by religiousspiritual people and Id suggest its because they want to believe in something bigger than a materialist view of the universe suggested by the the second idea However thats not disproof The neurologist D Hoffman believes in the first school of thought I think his argument has some holes and he has sent me some counter arguments to read but I havent had time to do so yet The great thing about him is that he wants to bring consciousness research into the realm of testable hypotheses and he believes his idea starts that Even if wrong and he expects that it might be he thinks it will give valuable information either way\n",
      "Why does it feel like Im doing your homework  For your body to use them it needs to be broken down to individual atoms or molecules not particles  You are probably better off posting to rChemistry because at this point that is what you are brushing up against  You do realize that at these scales pretty much all chemistry including all your biological processes are powered by random chance of molecules bumping into one another  The sheer numbers of atoms and molecules involved allow this to be possible  That is also why most life relies on water because it is an excellent solvent which facilities the transportation of molecules leading to said chance encounters for interactions to occur  It is an oversimplification but the chemistry in question can generally be seen as a microscopic mechanical process  Molecules be they vitamins drugs or even parts of cells in your body fit together perfectly like 3D puzzle pieces when interacting  Therefore said interactions arent going to be possible with particles nomatter how small until they are broken down into individual molecules  Again at this point you are really talking chemistry more than biology As for PH levels affecting absorption rates yes it plays a huge role but again this will be dependent upon the vitamin in question\n",
      ">He is <30 and lives a Healthy Lifestyle  very few alcohol consumption Daily Sport activities showers cold meditates bmi\\~21 so Not Really in the group of getting a severe covid course of invection\\n\\nlower chance doesnt mean no chance Im live a very healthy life style and have no health issues but came down the the recent flu despite not being sick for years I even had the flu shot few weeks ago I have a sore throat but no other issuesreally wish i didnt even have a sore throat\\n\\n>Since mrna vaccines transport the mrna via nanolipid particles they can possibly enter every cell of the Human Body and everyone is dependent of the one giving the Shot hitting muscle =ok hitting Arteries the mrna goes around everywhere and may settle in your brain or heart Cells causing severe damage\\n\\nNo The mRNA will not settle in your brain or heart cells causing damage The mRNA gets replicated in the cells cytoplasmribosome Your DNA is inside the nucleus of the cell and whenever something needs to be expressed a copy of the DNA is made and then transported out of the nucleus When its transported out its the mRNA form Its the same here except being made in the cells nucleus its introduced via a shot As far as I know its the same mechanism that stops excessive expression\\n\\n>He Heard the immune response to ‚normal‘ infections like Common colds gets messed up and in General the complete immune System may gets erroreus and doesnt work properly as it does now in our cliqueFamily Friends many have coughCommon cold Right now me included \\[all vaccinated\\] while he is totally fine and he sees This as a confirmstion of his believe\\n\\nTheres nothing to support that Nothing scientific not even theoretical There is a bad flu going around this year thats true though\\n\\n>He acknowledges that mrna vaccines are Not new but questiones why all other previous tries to developrelease a mrna vaccine couldnt get past phase3 studies\\n\\nThat was a surprise for me too But the endpoints and outcomes of the protocol were approved and the trial results met the efficacy and safety standards None of which were altered because of COVID These are done by independent review boards and have to declare no conflicts of interest There has also been failed mRNA COVID vaccines too but thats less in the news Sanofi Merck and GSK\\n\\n>a local doctor told him that since many are vaccinated he measures an increase in People coming in with swollen lymphknots autoimmune deseases and Even cancer Patients where their cancer has been in remission a Long Time but Game back nearly instantaneous After the vaccination on top many People feel tiredLethargic\\n\\nI cant speak on this particular local doctors experience or anything But the adverse events of the vaccines are readily available for you to review\n",
      "It is going to be really hard to find a computational chem position without a phD May be tailor your resume to fit the job you are applying to The jobs you are applying to now lab techs data analysts scientist 12 research assistants they are all path differently meaning if you go into a lab tech role you are probably going to be stuck in one department The other thing is from the jobs you mention a lot of people with different degrees and others without degree but have experience will be applying to them like engineers or those with 10 years experience The amount of jobs for Chemistry really depends on what skillset you have to offer too Do you know how to operate or fix certain instruments then you might have some leg up with the competition It is pretty competitive not going to lie\n",
      "If you define sex as the biological program to procreate then anything not heterosexual within two sex species will be a mistake or another term used However if the activity is pleasurable and continued over time then you could begin to make the argument that while reproductively a dead end the behaviour is common through life and this represents a new social norm \\nYou need to find gay dolphins or other species that maintain the behaviour through life and at the very least theyd to indulge in sexual activity both ways bisexuality \\nI dont know enough about any particular species to know this but itd be an interesting project \\nIf humans can have attraction for the same sex then I dont see theoretically why biologically it might not happen in other higher mammals\n",
      ">He is <30 and lives a Healthy Lifestyle  very few alcohol consumption Daily Sport activities showers cold meditates bmi\\~21 so Not Really in the group of getting a severe covid course of invection\\n\\nlower chance doesnt mean no chance Im live a very healthy life style and have no health issues but came down the the recent flu despite not being sick for years I even had the flu shot few weeks ago I have a sore throat but no other issuesreally wish i didnt even have a sore throat\\n\\n>Since mrna vaccines transport the mrna via nanolipid particles they can possibly enter every cell of the Human Body and everyone is dependent of the one giving the Shot hitting muscle =ok hitting Arteries the mrna goes around everywhere and may settle in your brain or heart Cells causing severe damage\\n\\nNo The mRNA will not settle in your brain or heart cells causing damage The mRNA gets replicated in the cells cytoplasmribosome Your DNA is inside the nucleus of the cell and whenever something needs to be expressed a copy of the DNA is made and then transported out of the nucleus When its transported out its the mRNA form Its the same here except being made in the cells nucleus its introduced via a shot As far as I know its the same mechanism that stops excessive expression\\n\\n>He Heard the immune response to ‚normal‘ infections like Common colds gets messed up and in General the complete immune System may gets erroreus and doesnt work properly as it does now in our cliqueFamily Friends many have coughCommon cold Right now me included \\[all vaccinated\\] while he is totally fine and he sees This as a confirmstion of his believe\\n\\nTheres nothing to support that Nothing scientific not even theoretical There is a bad flu going around this year thats true though\\n\\n>He acknowledges that mrna vaccines are Not new but questiones why all other previous tries to developrelease a mrna vaccine couldnt get past phase3 studies\\n\\nThat was a surprise for me too But the endpoints and outcomes of the protocol were approved and the trial results met the efficacy and safety standards None of which were altered because of COVID These are done by independent review boards and have to declare no conflicts of interest There has also been failed mRNA COVID vaccines too but thats less in the news Sanofi Merck and GSK\\n\\n>a local doctor told him that since many are vaccinated he measures an increase in People coming in with swollen lymphknots autoimmune deseases and Even cancer Patients where their cancer has been in remission a Long Time but Game back nearly instantaneous After the vaccination on top many People feel tiredLethargic\\n\\nI cant speak on this particular local doctors experience or anything But the adverse events of the vaccines are readily available for you to review\n",
      "Simply put inertia is the tendency of an object to keep doing what its doing Newtons first law of motion is also called the law of inertia commonly said as an object in motion stays in motion and an object at rest stays at rest unless acted upon by an outside unbalanced force In classical mechanics gravity is just another force so if the gravitational force isnt balanced out by some other force then the object will accelerate according to Newtons second law\\n\\nYou can also think of inertia as related to mass It is harder to slow down a train moving at 50 ms than it is to slow down a ball of paper moving at 50 ms And an object moving 1000 kms in deep space ie away from the influence of other objects gravity will continue to move 1000 kms in the same direction until something changes that \\n\\nPhysicists sometimes distinguish between inertial mass and gravitational mass though experimentally theyve always been measured to be the same thing In this case inertial mass is the mass you see in Newtons second law when written as F=ma and gravitational mass creating the gravitational potential in the equation U = Gmr Inertial mass would relate a force on an object to its overall acceleration whereas gravitational mass determines how much gravity an object has Though again as far as we can tell theyre the same\\n\\nInertia also increases without bound as you push an object closer and closer to the speed of light In other words it gets harder and harder to speed up an object as you push it closer and closer to the speed of light\\n\\nA final note on inertia theres also rotational inertia which is the rotational analog of mass Something with a higher moment of inertia is both harder to start spinning and harder to stop spinning Moment of inertia the official name for rotational inertia depends not only on the mass of the object but also the distribution of mass away from the axis of rotation A simple demonstration to see this is to take a meterstick and twirl it around its center vs trying to twirl it with the same force about one end Its a lot harder to sping around one end because the mass is on average further away from the axis of rotation\n",
      "Came here to say mostly the same thing you did but your part 3 did give me an idea If we could utilize reverse transcriptase to make an mRNA vaccine that inserted the spike protein code into our genetic code then our cells could regularly produce antigens possibly acting as our own passive boosters to viruses Now yes there are a lot of specific nuances to this idea but thats what research is for right Some issues to consider how to ensure that the new antigen gene gets put in a safe spot of our genome not splitting important genes ensuring regular but not too active transcription would it lead to a sort of tolerance to the antigen causing our bodies to no longer react to the antigen Probably much easier said than done but hey its an idea\n",
      "Well based on experience the bike never tilts to the left literally never so long as the bicycle is moving forwards it literally feels like a constant pull on my bike towards the right into the ground so that’s counterintuitive about the weight Thus I cannot lean to the right because the bike is already tilting right the moment i lift my hands off Ive been cycling long enuf without hands to be able to feel the bike tilting and i have to lean left if the weight was on the left I know its weird but it is the actual observation so there must be someway to explain it And just fyi the weight was probably around 500grams it was a food takeaway box and it wouldn’t shift my center of gravity by much at all wouldn’t it Considering me  bike weighs about 80kilos\\n\\nAnd you are right that i’d ultimately fall to my right in my example except I am actively counterbalancing by slanting my upper body and arms to the left\n",
      "Start simple \\n\\nModelling things like this usually involves calculating the result numerically because the analytic results can get out of hand quickly \\n\\nThe simplest numerical method is finite difference on a regular grid  youre essentially sampling the field at the grid points Since this is a vector field youd need a 3d value at each point You can convert the field equations to finite difference representations and then look at how the results depend on the grid spacing\\n\\nFEMM is based on the observation that a lot of the space will be oversampled lots of points in a relatively uninteresting bit of field in order to give enough points to the interesting bits So instead we can collect regions of space together and call each one an element and then put more smaller elements in the interesting bits of space and fewer in the empty bits This way the calculation effort is concentrated where it is needed \\n\\nThe cost though is that FEMM is far more complex to understand and involves choices about how you will set up your elements and whether you will dynamically add or change those elements as the calculation progresses eg adapting to the shape of the field or for timedependent calculations So Id recommend starting with finite difference then at least you have a solution you can compare a FEMM solution to\n",
      "Not quite\\n\\nA charged particle affects the nearby electromagnetic field We can express this using a potential but thats just a separate mathematical description of the same thing\\n\\nIf you were to measure this potential you have to introduce a second charged particle that gets affected by this potential When this happens the electromagnetic field will be excited in such a way that the two charged particles exchange photons to affect each others momentum\\n\\nDifferentiating between real and virtual photons is a bit vague anyway  in both cases all the photons can be seen as virtual photons since they are shortlived and not observed directly their existence is only inferred from the observation that the charged particles will exchange energy and momentum\n",
      "If its just water then what you see on the bottom could be just a limescale — the same as in some electric kettles and washing machines\\n\\nThe white powder is calcium carbonate CaCO₃ also known as chalk It accumulated because your water being too hard meaning that it contained too much of Mg^2 and Ca^2 ions dissolved in it — salts of these ions just precipitated in the water Limescale is barely soluble by water however I think that any remedy or way against limescale will make your cup good as new I just dont feel competent enough to give any specific advices how to remove it Use google Good luck \\^\\\\n\\nPS And probably consider pouring your water from different source — although hard water is pretty safe to drink it terribly affects all machines that require it to operate and all containers like in this case\n",
      "To be clear I have no issues with the concept that neutrinos oscillate I could quibble with some of the picks you made about which experiments to mention where but its unrelated to why Im interested in the strong statement you made about that meaning that theres almost certainly sterile neutrinos\\n\\nI think youre pretty clearly a theorist I doubt that even a phenomenologist would say something as bold as\\n\\n>They almost certainly have a Dirac mass term\\n\\nBut assuming youre talking to an idiot we accept experimentalists as a demonym why should I believe that your righthanded neutrino exists  Where could it come from Im also interested in what other particles you expect to come out if the Majorana thing turns out to be true\\n\\nAnd I guess the initial question stands do you really think that evidence of oscillation means there are almost certainly sterile neutrinos As I said Ive never heard anyone seriously make this argument before This could likely cause a yelling match in any relevant conference room in the world\n",
      "For a variety of reasons lithium based energy storage is nicer than hydrogen based\\n\\nPrimary reasons\\n\\n lithium battery based systems are quite a lot more efficient than hydrogen systems look up wells to wheels comparisons for hydrogen and battery cars\\n lithium batteries have a lot of use cases that fuel cells dont such as consumer electronics driving a lot of the initial rd for reducing costincreasing energy density\\n The infrastructure for direct electric cars home energy backup etc is already there Pretty much everyone has electricity available at home even in pretty rural areas There is almost no infrastructure for hydrogen anywhere\\n\\nThat being said hydrogen production may become more significant over the coming decades but probably not for use in fuel cells Its more likely it will be produced in larger volumes for chemical feedstock It will likely be from a mix of mostly steam cracked methane with a bit of electrolysiswhatever other method mixed in\n",
      "Well maybe I qualify My lab uses bioinformatics to understand deep evolution and major transitions Last Universal Common Ancestor Last Eukaryotic Common Ancestor symbiont to organelle transitions etc etc  We have various distance measures for genomes rRNAs protein sequences and protein folds We develop algorithms for finding homology and divergence Naturally we have very specific mathematical criteria that we use to define homology  homology is how we detect ancestry This is the thing  the concept of species and the definition of species is just not useful to us It is just not something that comes up ever If we needed a definition of species we would invent one but we dont need it so we have not invented it\\nI suppose in agricultural sciences or somewhere  like that there might be an operation definition but that is probably not going to apply to the universal tree of life\n",
      "One should keep in mind that most dark matter alternatives including this one actually include dark matter It says so right on the 2nd page of their paper\\n\\n> Consider requirement iii that is successful cosmology In 2 we have a new dof φ [] What should the expectation for a cosmological evolution of ϕ be The MOND law for galaxies is silent regarding this matter There is however another empirical law which concerns cosmology the existence of sizable amounts of energy density scaling precisely as a^−3\\n\\nIn other words they are saying that to get the cosmology right they need to add dark matter  that is what they are alluding to with the sizable amounts of energy They make their φ field play this role Its just like TeVeS the other major relativistic MOND theory where the scalar S field does the same thing\\n\\nThe popular press likes to frame the debate as dark matter vs modified gravity but its really dark matter vs dark matter plus modified gravity The hope is that adding a modification of gravity will help fit the galaxy rotation curves better at the cost of higher theoretical complexity If you read the paper the authors aren’t trying to do away with dark matter at all — their primary achievement is getting their modified gravity theory to work out despite the many theoretical obstacles\\n\\n\\n\\nEdit I also feel like I should respond to the other top comment which complains modifying gravity is less elegant than dark matter These days dark matter models are not about elegance at all theyre about minimality trying to account for it by adding just one or two kinds of particles with the simplest possible interactions focusing on the dumbest possible first guess There was an era where people to make dark matter elegantly fall out as a secondary consequence of adding 100 new particles in a grand theory that also solved every other problem in the Standard Model at once but that ship has sailed because those theories didnt work As scientists we should just follow the evidence without theoretical prejudice It just so happens that at the moment most of the evidence points towards dark matter\n",
      "Agreed on false equivalence I am not advocating MOND or suggesting that its a superior alternative to fit observational evidence   we indeed have sufficient models for this What I am suggesting however is that the largest technical breakthroughs in a theory tend to be hacks in the sense that without a broader framework they stitch together potentially disparate mathematical techniques in order to parsimoniously explain observations This usually does not produce a wellrounded coherent theory with a multitude of new predictions that fits neatly into all observed models for a converse example see general relativity which did this perfectly \\n\\nA solution to the horizon problem which I wouldnt consider hackish is one that has some kind of underlying conceptual impetus for why another adhoc scalar quantum field is a sensible addition to our universal framework akin to why spacetime is a sensible view of the universe This is admittedly phiosophical and I am not suggesting that inflaton fields or the higgs boson are bad physics  obviously they are far from it Instead I am suggesting that these models hint at a deeper narrative we havent grasped and that is reflected in their simplicity and disjointedness\n",
      "I have not personally lived there but my family is from there so I heard lots of stories On days when it’s no where near above freezing you can def leave stuff out but you have to remember that 0c is a fine line so most freezers are well below that You wouldn’t want to just leave stuff out in the Sun as it would collect that heat on the surface and spoil even on days with almost no sun Burying is a better option or an insulated chest in a cage They kept meat outside in chests since a slaughtered cow makes a crazy amount of meat so an underground insulated chest was good for a large portion of the year to free up space But pretty much anything that can be eaten will be found by animals so cages were a must My dad said he had seen pictures and movies over the year where rabbits and stuff were hanging on wires to drain or dry and didn’t understand where that would be as stuff would get taken almost immediately by bears or wolves \\n\\nFinally I want to point out Alaska is HUGE The big cities are pretty far south and have nice and warm summers My father’s family was from close to the arctic circle though\\n\\nEdit well I messed up the first part that was supposed to go something like  there aren’t many people who live in Antarctica so I’ll give you my story about my family living on the arctic circle \\n\\nAnd while I’m at it I put the part about Alaska being big because so is Antarctica There are parts of Antarctica that thaw in the summer and many more that get enough direct sunlight to spoil milk in addition to the animals there as well\n",
      "By the looks it looks like youre adding AgNO3 to a beaker of Potassium Chromate K2CrO4\\n\\nIm guessing so because Ag2CrO4 has a distinct orange color precipitate whereas most of the other chromate precipitates are yellow including the solutions like K2CrO4\\n\\n2AgNO3 aq  K2CrO4 aq > Ag2CrO4 s  2KNO3 aq\\n\\nI hope my answer helps\\n\\nEdit  uExact_Reward5318 provided the complete answer down below I will post it here as well Thank you for the upvotes\\n\\nMost likely a solution of sodium chloride added w potassium chromate as there is a competing reaction chloride and chromate with the silver which make the orange color disappear because Ksp of silver is higher than Ksp of chromate\\n\\nThis is a common titration technique used for determine concentration of sodium chloride but is no longer in favor since the chromium from chromate can pose a health risk and not environmental friendly You can find out more by googling Mohr titration\n",
      "What do you mean about getting the mixture to the adsorbent All that you have to do is put the adsorbent outside Often theres probably a fan or something used to make the air blow through it more quickly but in principle this wouldnt even be required but it will make the process more efficient since you will have the gas flowing through more quickly\\n\\nThe sorption process is the collecting of the CO2 from the atmosphere They are the exact same thing I even said this in an earlier comment\\n\\nThe last part of your comment starts feeling conspiratorial They whole sequestration sector is ultimately about giving the masses at least a thread of hope If you actually believe this is true I encourage you to write a journal article about the apparently obvious faults of carbon capture so that way the people who work on it in good faith can be alerted to the futility of their effort and they can shift their focus elsewhere\n",
      "The crux of this exchange to me will be left at you talking about the adsorbant chemistry mostly quite correctly and I have no need to disagree with that part but still beside my point  and it is my point given that the first comment about the fart was from me me talking about the physics thermodynamics entropy that involves the challenge of getting the adsorbee to the adsorbant and how we can estimate that total energy cost  All in all I dont think we ever really saw eye to eye and therefore it might not be quite appropriate to agree to disagree but I still thank you for not going berserk at any point ie for arguing in a civil manner   Its a refresher  Personally this was no more wasted effort than most I come across on reddit  you can always learn something of yourself at the very least   Cheers\n",
      "I graduated with a degree in chemical engineering and a minor in chemistry in 2017 The classes I took for the minor were mostly around organic synthesis class on mechanisms class on methods class on retrosynthetic strategies but I took a couple of other classes too basically the 1 of most classes you can think of except for pchem While I was in college I didnt do any research and didnt form relationships with professors which in hindsight was obviously pretty dumb My grades were good at least\\n\\nSince graduating Ive been working in a lab in I guess industry doing mostly formulationsrelated stuff largely in a box as well as a couple of other projects in general Although the work that I do on a daily basis is literally chemistry and literally research a lot of it is grunt work I do feel decently confident in the lab though and feel like Ive accumulated general lab  chemistry skills here and there\\n\\nThe pay is solid and I enjoy people at my company in general but the job itself is unsatisfying The pandemic has kind of encouraged me not to quit at least in the short term\\n\\nAnyway would attempting to get into a masters program in chemistry be a good idea Bad idea Am I misunderstanding the concept of a masters altogether Ignoring that I will again have to very awkwardly beg professors for the third professorwritten letter of rec who probably remembered me 4 years ago when I was first getting a job and asking but may not now does the lack of specifically academic research hurt Does the fact that chemistry was my minor and not my major hurt I also dont have much interest in what I am currently doing and wouldnt want to do research related directly to it  instead hopefully something related to organic synthesis  chemistry loosely or strongly\\n\\nFor those that read this wall of text thanks for your patience\n",
      "Little ray of hope online resources are really good for teaching some of that ie most of the maths required\\n\\nThe actual physicsphysical chem side is slightly trickier to learn alone and is really useful to have clear face to face discussions \\n\\nId ask the rest of your class if they think the teaching standard is acceptable and go to the lecturer first eg some of us like X but dont like the way you do Y or this bit your teaching hasnt been clear Or we dont appreciate you wasting half the lecture time talking about a pandemic we are all living through\\n\\nIf youre lucky it should stop there and things should change If they dont you have every right to make a polite complaint Especially since this is a required course for you its important you understand not just be able to BS your way through an exam\n",
      "I’m going to be honest if you can use your chemistry degree to springboard onto something science adjacent patent development business scientific writingpublishing The technical part of your degree will make you a very interesting candidate Chemistry in the US especially is an oversaturated field even for PhD and Master students I can’t imagine how tough it is at the BS level \\n\\nThe roughest part is with a BS career advancement at the bench \\nin the lab will be extremely limited and you will be far less compensated than a generic “business administration” graduate Unless you absolutely love love love chemistry and lab work it really isn’t worth it in my opinion\\n\\nI’m not saying chemistry was a bad choice you just did the best with the information you had I did the same thing and got a graduate degree for further measure and unless you are from a top 10 grad school getting anywhere to give you the time of day is an absolute nightmare I’m finally making the switch out of the lab myself to a scienceadjacent field and couldn’t be happier\\n\\nAs people have said “maybe” it is your resume and maybe that’s a component but it’s more than likely you’re just encountering trying to get into a supersaturated field\n",
      "In this visualization I show the wavefront propagation of a coherent light beam ie a simple laser after passing through a holographic film on where I previously recorded the relative information corresponding to the phase and amplitude of the object to be reproduced\\n\\nPrecisely the recorded film needs to reproduce the Fourier transform of the object up to an arbitrary phase factor\\n\\nAn experimental technique for recording the hologram is interferometry that is a second wavefront mutually coherent with the first and of known amplitude and phase is added to the wavefront produced by illuminating the object we want to reconstruct The holograms can also be entirely generated by a computer like the ones shown here\\n\\nThe standard recording material for the holographic film is a silver halide emulsion Spatial light modulators which are based on a LCD can be used for creating realtime varying holograms Finally with the advent of nanofabrication techniques today we can also create metasurfaces to do the task and mold optical wavefronts into almost any arbitrary profile over several wavelengths\\n\\nThis technique can be used as well for displaying an arbitrary 3D object but for a more quality reconstruction a bit more complex setup is going to be required for example by performing oblique illumination on the holographic film\\n\\n[The source code I implemented for propagating the wavefront and creating the holograms can be found here]httpsgithubcomrafaelfuenteDiffractionSimulationsAngularSpectrumMethod\\n\\nHappy Halloween to everyone 🎃\n",
      "First of all its not about the total amount of CO2 in the atmosphere  its about the excess which is only about a third of that number preindustrial levels of atmospheric CO2 were 280 ppm current levels are 420 ppm\\n\\nSecondly it isnt meant to be the one magic solution to solve all the CO2 problems in the world its about every bit that helps\\n\\nAlso equating that to an electricity price gives about [5 cents per kWh]httpswwwwolframalphacominputi=2810024permetrictonne29280475kg2FkWh29 for using this method of carbon capture based on the average emission of about 475 g per kWh worldwide which is quite a bit about a 1020 price increase but as worldwide energy production shifts to renewable sources this price will also go down\n",
      "The process isn’t being reversed The CO2 is being bound in a different environment than it was in when it was coal or natural gas or whatever else \\n\\nAgreed that we need to move to renewables but capturing carbon from the atmosphere would also be a very useful way to eliminate historical emissions There was another recent thread on carbon capture on this subreddit where someone raised a similar energy concern People who are working on carbon capture are well aware of the energy required to capture the carbon It is one of the central quantities in evaluating the feasibility of a given carbon capture technology that researchers are trying to optimize\n",
      "I think weve converged on most points\\n\\nFor the last one neutrinos have mass This is well established at many many sigma There is good agreement in the socalled solar parameters between solar oscillations measured by SNO Borexino SuperK and others with longbaseline reactor measurements by KamLand The former measurement will improve considerably with DUNE and the latter with JUNO The socalled atmospheric parameters show even more impressive agreement with atmospheric measurements by SuperK and IceCube longbaseline accelerator measurements by MINOS NOvA and T2K and medium baseline reactor measurements by Daya Bay and RENO This paints a clear picture that neutrinos oscillate which guarantees that at least two of them have mass\\n\\nWhat does that mass look like from a model building point of view The fact that there are lots of options is exactly why neutrinos represent the biggest open questions in particle physics They almost certainly have a Dirac mass term from a Yukawa coupling to the Higgs field same as the rest of the fermions This guarantees at least two new gauge singles ie right handed sterile neutrinos The story is obviously more complicated than that since we dont know if lepton number is a good symmetry If it is not then there is also a Majorana mass term with presumably additional fermionic gauge singlets\\n\\nOf course model builders have developed many more interesting models to give neutrinos mass some of which dont include right handed neutrinos but they do all include several additional particles anyway\n",
      "Well I was gonna say you could level it out bilaterally and symmetrically with a diy tracking device ie homing locator Super compact microchip processor and release that nosey governmental beast and I dont think itll love you enough to come back 😉but at least theyll get the message Lima CharlieI e Loud and clearsmileso load a quality track app and reverse the limits on the processors ability to control the microbeast and if you wanna be a super smartass and leave a message in a bottle so to speak with a  Oh shitwait a min  unless you  meant it chipped one of its wings in the literal sensewell If thats the case the only thing small thin and light enough to repair whatever damage its incurred would probably be to find a dead one use an exact o knife and surgically cut out whatever part needs replacing and make sure not to overlap the area too much because of the weight  But keep in mind the adhesive you use will probably as heavy if not heavier than the replacement part itself and in turn would hamper the poor things ability to navigate If it could get off the ground at all yea yea I definitely have too much time on my hands and that coupled with an overactive imagination makes for some pretty interesting Conversations for lack of a better term Nevertheless if you think its too weak to survive the surgery then you might want to start considering a mercy kill  Idk any other term for step on it that sounds socially acceptable😬\\nBut keep me updated on this moral dilemma  I guess its the curiosity on both sides of the dilemma God bless hope all goes accordingly 😊☝️\\nP a  Ive never actually witnessed a dragonfly walk before so idk what to say about its walking funny 😬 peace\n",
      "There are various definitions of varying complexity and therefore results depending on what it is specifically that youre after  For example in a COOH group do  you have 2 acceptors or 1 Some definitions will give you 2 some will give you 1\\n\\nCheminformatics software packages can spit out a number easily You just need to know whats going on under the hood\\n\\nYou first need to translate the structure to a form that a computer can understand then you could define a hydrogen bond donor as\\n\\n Lipinksi rules OH or NH\\n Daylight rules Any nonnegatively charged heteroatom with an attached hydrogen\\n Morgan fingerprint rules any neutral aromatic N with 1 hydrogen or any aliphatic N with a valence of 3 with at least 1 attached hydrogen or any aliphatic N with a valence of 4 and a charge of 1 with at least 1 attached hydrogen or any neutral aliphatic O or S with an attached hydrogen\\n\\nx200B\\n\\nExamples of hydrogen bond acceptor definitions are\\n\\n Lipinksi rules O or N\\n Daylight rules A heteroatom with no positive charge including negatively charged oxygen or sulfur Excluding halogens heteroaromatic oxygen sulfur and pyrrole nitrogen Excluding higher oxidation levels of N P or S Including PIII\\n Morgan fingerprint rules any aliphatic O or S with a valence of 2 with no attached hydrogens any aliphatic O or S with a charge of 1 any aliphatic N with a valence of 3 as long as its not attached to a carbon thats double bonded to an O N S or P any neutral aromatic O or S as long as its not attached to an aromatic N or an aromatic C thats attached to an aromatic N any aliphatic O or S with a valence of 2 and 1 attached hydrogen as long as there isnt a C double bonded to N S O or P within 2 bond lengths\\n\\nx200B\\n\\nThese are just a few examples that work for 2D structure drawings\\n\\nIf you actually want 3D geometries or to figure out whether a hydrogen bond actually exists between 2 atoms  then things get more complicated\n",
      "Well thats what Im asking Under the right conditions can nitrogen14 accept a neutron to become nitrogen15 without losing the proton and becoming carbon14 Nitrogen14 captures neutrons that uranium238 could be capturing to become fissile plutonium239 after undergoing betadecay leading to decreased efficiency \\n\\nBut actually thats precisely why itd be inefficient if nitrogen15 could be made by neutron capture in a reactor The more energy put out from uranium nitride with a N15 isotope over uranium dioxide would be lost making the N15 from N14 in the reactor So Itd be stupid anyway I was just thinking in basic chemistry knowledge that maybe the nitrogen had something to do with its enthalpy not too much about the nitrogen blocking uranium238 capturing a neutron But then that leads to more questions Nevermind lol\\n\\nI think uranium nitride with just plain old nitrogen14 would produce more energy in a reactor than the uranium dioxide since theres more uranium in the crystal lattice right Like I said its beyond my level of knowledge at the moment I was just thinking out loud pretty much\n",
      "Pressure building up in the bottle as the air inside it warms up This is a fundamental behaviour of all materials It’s especially pronounced in gasses and fluids since their molecules aren’t stuck together like solids\\n\\nWe can express this as the ideal gas law\\n\\nPressure x Volume of container = amount of gas x Conversion ratio x Temperature \\n\\nSince the amount of air isn’t changing and the volume of container isn’t either change to temperature has a directly proportional effect on the pressure of the bottle\\n\\nEventually the pressure overcomes the weight of the lid and latch\\n\\nIt then equalizes pressure gas leaves the system and the lid falls closing\\n\\nActually similar to how the coolant in your car engine gets distributed There is a flow regulator they call a thermostat that as it gets warmer it expands and lets through more coolant starting at some designated temp If it gets cool it provides less coolant It’s a self regulating system and how your car engine always stays at the same temp once it’s heated up\n",
      "My knowledge of the nutrition literature is very sketchy further back than the year 2000\\n\\nThe 9 essential amino acids were known by the 1940s Its the same 9 essential amino acids for humans cows chickens and all animals No animal is an essential amino acid producer theyre all middlemen In evolution creatures that evolved to eat plants or other animals lost the same set of metabolic pathways early over 1000 million years ago\\n\\nNutritional requirements for protein have become better defined with time Id recommend the WHOs [Protein and Amino Acid Requirements in Human Nutrition]httpappswhointirisbitstreamhandle1066543411WHO_TRS_935_engpdfjsessionid=42513E10FE32E690D087BCDF2725806Csequence=1 from 2007 for the still current consensus\\n\\nThe requirements are fairly fixed by lean body mass and its still common for some elderly to fall short mostly because theyre sedentary and eat so few calories in total that the dietary proportions that served them in youth no longer provide enough protein to support immune function Theres no requirement for the elderly to consume animal products but for those who consume fewer calories in total the requirement for protein may rise from the \\~10 of calories required in younger people to 1520 of calories The additional protein could come from eggs  cheese or from legumes and tofu\\n\\nThere was an [interesting paper from 2014]httpswwwsciencedirectcomsciencearticlepiiS155041311400062X which found mild protein restriction was associated with protection against chronic disease and mortality but only up to age 65 to 70 After that higher protein intake in the 1020 range improved survival I think in this study were seeing both some benefit from mild protein restriction in preventing cardiovascular and metabolic disease in middle age and also a benefit of ensuring enough protein for our immune cells to proliferate in response to infection in the elderly\\n\\nI eat a plant based diet for health and became fascinated with the nutrition and health literature about a decade ago Because plant based diets can be unbalanced I was concerned about the essential amino acids likely to be deficient The key requirement for  is 30 mgkgday of lysine and 15 mgkgday for methionine  cysteine from table 49 of the WHO document cited above Meet those and its pretty much assured the other essential amino acids will be adequate In practice it generally means most plant based eaters need 23 servings of legumes daily to ensure adequate lysine People with weirder diets like alcoholics may need more protein heavy foods\n",
      "A small part of it has to do with gyroscopic procession which takes a lot of explanation to understand but the main force behind a footballs stability is that it rotates around its axis of minumum inertia \\n\\nTake your phone and spin it in the air around its long axis This is the exact same physical state as the football The mass of the ball is distributed closest to the axis so it is least likely to deviate from a spin\\n\\nIf any force were to cause it to wobble it would want to return to its its smallest moment of inertia at first and this would be guarded by gyroscopic procession which causes all movement parallel to the axis of rotation to occur processed 90 degrees forward along the direction of rotation Any outside force instead of spinning the ball would just cause it to wobble\\n\\nI hope this helps\n",
      "The light you see from fire has no mass Likewise heat is a type of light not visible to the human eye so it too has no mass\\n\\nThe little bits in that fire that are emitting the light have mass and thus have a gravitational pull\\n\\nFire is weird because what we think of as one thing is actually a chemical reaction between many things\\n\\nItem of note Light or Photons can act as if they have a gravitational pull see below reply and thats a whole other thing but for most general macroscopic purposes you can consider photons as having no mass and no gravitational pull  \\n\\n\\nEdit Clarified the item of note to better reflect the point made by uSeis_K\n",
      "They are saying effectively that you need really big evidence to claim that consciousness is caused by a physical law that we dont know about yet  Saying that we dont know what causes consciousness does not disprove that it is caused by known physical laws  Animals are deterministic systems so even if we dont know the mechanism that causes consciousness we can be certain that consciousness follows the same physical laws that all other matter follows\\n\\nIn other words we dont know how the ice cream truck makes ice cream but we do know that it isnt through some magical force that only ice cream trucks have  Its through the same physical systems that exist throughout the universe eg temperature chemical bonding etc\\n\\nWe also do not know how birds fly  But that doesnt mean that physics does not apply to birds\n",
      "Could you elaborate more on your second law of thermodynamics claim And also more broadly why you think the energy required to capture carbon must be greater than or equal to the energy we gained from it initially After looking more into it I’m a little more skeptical \\n\\nYou can see here httpswwweiagovtoolsfaqsfaqphpid=73t=11 that different sources produce different amounts of carbon dioxide for the same amount of energy produced When climeworks or anyone else captures CO2 there will be a fixed energy cost It won’t vary based on whether the CO2 being captured came from burning coal or natural gas or from some natural process All of these will generate CO2 with different amounts of energy produced Like I said before carbon capture isn’t trying to reverse the initial carbon emission process The CO2 ends up bound in a different molecule or solid than it initially was before it was emitted In fact when gas phase CO2 binds to a typical adsorbent it is energetically favored for the CO2 to be bound so that energy will be released in the form of heat This heating up of the material upon CO2 adsorption is actually problematic sometimes since the heat has to be dissipated for more CO2 to bind depending on the way CO2 binds to the material \\n\\nIn this type of adsorbing set up the main energy cost is associated with desorption of the CO2 The energy inputted to desorb the CO2 is completely independent of the energy gained when the coal or oil was burned The energy needed to desorb the bound CO2 depends only on the specifics of the adsorbing materials and we are capable of generating materials with a large range of adsorption enthalpies\n",
      "Hey I have several questions for a fictional book I’m writing\\n\\n  \\n1  What would theoretically happen if matter was destroyed Would the energy that said matter contained E=mc\\^2 be released assuming energy wasn’t destroyed \\n\\n2 Adding to question 1 is it theoretically  it possible to destroy a black hole And what might happen if we did Would all the energy from that compressed matter cause a massive explosion   \\n\\n\\n3 Say someone were to compress a solar systems worth of distance around themselves WITHOUT disturbing their surroundings—As in ignoring any factors like gravity that may disturb his surroundings All of this distance is compressed into an inch around themselves Think of it like an aura covering his body entirely If your average joe were to throw a punch at him would his hand slow down because it’s attempting to travel a solar systems worth of distance over the distance of 1 inch \\n\\n4 Adding on to the previous question say joe were to close that distance halfway before the man compressed distance around him Would Joe’s hand be ripped to shreds because his hand is not being enough to travel that distance Or would Joe’s hand be ripped off his arm and crushed into a small space Or would Joe‘s hand be pushed back and slowed down\\n\\nThank You to anyone who helps me out\n",
      "Firstly university studying biology second i never said that you or anyone should eat i just said it can technically be considered a magic mushroom although it is not psychedelic Also there are more deaths from alcohol then from that mushroom but you still shouldnt do it and the the cultures that do it arent like primitive island cultures but rather northern Europe and Asia like Finland or Russia and Lithuania although the practice has been mostly forgotten And this isnt something Ive just heard or like its probably in your case your grandma said to stay clear of that mushroom you can look it up in the Wikipedia  even tho yes Wikipedia isnt the most thrust worthy source or some scientific articles and as I said I know people who have taken the on several occasions whit out consequences but I still wouldnt recommend it just stating facts Also anyone knows that if you boil that mushroom all the toxins dissolve in the water and you can just eat it for nutrients but it isnt considered particularly tasty thats why novone really does that\n",
      "Its hard to talk about consciousness without getting into metaphysics\\n\\nThat might be one of the toughest obstacles facing this type of research Im of the opinion that there is a lot of overlap between the woowoo a pejorative of which I only recently learned the meaning and whatever you want to call the weird interdisciplinary junction of all legitimate fields that would be required to give an empirical description of consciousness I dont think its unreasonable to think the Buddhists got a lot of things right or that psychedelics offer an incredible opportunity to learn how consciousness operates Theres plenty of research from a variety of academic fields that supports claims of this sort\\n\\nNeuroscientists biophysicists and mathematicians can get along well enough to create a healthy discursive space but when you add philosophers or even worse psychonautsor the worst psychonaut philosophers into the mix the company grows cold This is why I get so upset when I hear statements from prominent scientists such as Philosophy is dead which I believe is almost wordforword something Hawking once said\n",
      "Industrial medicinal chemistry here not in the US but therell be some commonalities\\n\\nYoud start doing synthetic organic chemistry while they teach you the med chem the chemistry is often simpler and less cutting edge than what youre probably doing for your PhD but the priority is getting the compound out for testing as fast as possible There will be challenging targets or projects which need more effort and synthetic skill these tend to get tackled as a team but there is the opportunity for individuals to make their mark People tend to pick up the med chem quite quickly just from being immersed in it as time goes by youll learn to design compounds and analyse the assay data For me getting the data back on something you designed or made and seeing it progress through the assays is a really fun part of the job\\n\\nEquipment and timesaving kit are more readily available Whereas academia has little funding and lots of student time industry is timepoor and willing to spend money to make the best use of it Industry loves new technology and will often invest in it quite heavily More time is spent on admin and meetings than in academia and there are far more rules and policies to follow\\n\\nSalary is usually pretty good and should be much better than a PhD stipend most companies have bonuses and stock options too Careers development again depends on the company but large firms are usually quite good at helping you develop your career the way you want to such as specialising in synthesis med chem or people management Hours will depend on the company culture  some of my US colleagues work quite long days but on the whole its likely to be less hours than a PhD\n",
      "Honestly I knew that this wouldnt be true but the main reason I asked it was to see what people with a better understanding would say to counteract it to give me a better understanding of why its not that and what makes it different to the other forces This is a much better structured answer than the last guy haha shows your intelligence and understanding in the field isnt just for your own ego\\n\\nAnd yes theres definitely a lot out there but the main theory I know of is with bulk that expands across the universe in some kinda of 4th5th dimension and its universal scale is the reason for Gravitys weakness and thats one of the things theyre trying to uncover with the LHC But idk on the surface without a deeper understanding it seems pretty far fetched really makes me want to delve deeper into it to try and wrap my head around it\n",
      "Thank you and I will add that while covid is deadly and absolutely horrendous Had I taken my chances and caught covid because I am irresponsible for being on vaccinated I would have medical acceptance and full government disability\\n\\nBut because I got it from the shot I get absolutely no help and no acknowledgment Doctors are terrified and just keep referring you to other doctors as far as treatment and financial help goes its a much worse position to be in\\n\\nThis is my biggest problem I understand its a rare issue but the fact that theres absolutely no safety net and apparently no research on it is disgusting\\n\\nAccepting research on it would be admitting that this is happening so a lot of the ivy League places put their nose up at it never in a million years what Ive expected this was the outcome of an adverse reaction\n",
      "Well pardon me for still not understanding because im a real basic cyclist and high school physics person But I have noticed in my observation there seems to be nothing related to counterbalancing the shift in the center of gravity Remember the weight is always on the left handlebar See your answer starts off with me tilting right to correct the center of gravity BUT the very instant i lift my hands off the handlebars from a well balanced moving bicycle i can feel the bike start to progressively tilt right It’s kind of like I feel an invisible force pulling me to the right\\n\\nEven more interestingly i could tilt my body left first while still holding the handlebar to balance then lift my hands off and the bicycle will continue to cycle straight perfectly balanced If i start off perfectly balanced and lift my hands off then the bicycle will start tilting to the right which after a set amount of tilt I will start responding and leaning my body to the left to counter the tilt\\n\\nConsider this similar observation I made as well when cycling without hands if strong wind comes at me at 90 degrees from my right to left my bike starts tilting right against the wind These are all too counterintuitive for me to understand what is going on\n",
      "Well if you are getting 1000 ppm O2 within a minute you either have a fairly big leak or your O2 sensor has gone bad Or both The classic test for the sensor is to open up some diethylzinc in the box and see if it smokes indicating O2 > \\~10 ppm I am hesitant to recommend this because if that 1000 ppm is real you will coat everything in the box with zinc oxide dust and maybe start a fire You could maybe do a ketyl test if you have the reagents If you have a spare O2 sensor I would go ahead and replace the current one and see what happens\\n\\nA few questions did you turn off the gas circulation before opening the MeI and did you purge thoroughly after it was resealed MeI is going to absolutely wreck the box catalyst if you are not careful The O2 sensor may also be sensitive to MeI  those sensors typically have a lifetime of 6 months  2 years but they have somewhat sensitive surfaces that can be poisoned by exposure to certain chemicals\\n\\nFinal question is the H2O also shooting up or is it just the O2 If it is both that points to a leak but if it is just O2 I would suspect the sensor\n",
      "D you are definately a hardass about this i agree  but thats definately not a good thing a yea bc I didnt feel to point it out b you made it more serious than necessary so i switched from character to actually explaining Most of your stuff only holds up for your interpretation of things you are know basics of science but not so much with humans it seems\\n\\nyou should read my first comment and watch the video again and act as you dont know nothing beyond that video if you mix limited information with a meta level of dunning kruger than you get it funny that you write you just look dumb and STILL dont get it D \\n\\nJust let it go kanye your educational support is of greater value\n",
      "Not the same molecules Im working with but no other functional groups present should have any interference I found two methods for selectively protecting a phenol in the presence of a primary alcohol  one with trityl very difficult product to isolate and low yield and one method doing a very similar transformation protecting with ethyl carbonate mesylating the primary OH and reacting with DEA to add the amine and deprotect in one step Very low yield Also tried tosylating and similar outcome Did a reaction with PBr3 and got the primary alcohol selectively transformed but low yield and not sure if Ill have difficulty adding the amine there in the presence of a phenol One of the major byproducts Ive gotten when attempting to add amine is the elimination product to get a monosubstituted alkene so Ive tried using different bases to deprotonate the DEA but doesnt seem to be helping Maybe the DEA would be reactive enough on its own without additional base to promote substitution instead of elimination Not sure\n",
      "As Homo sapiens our primary evolutionary niche is being highly social pack animals with tool use  One can argue that the first human who picked up a stick or built a sack for food was using technology  Ergo had we never developed tool use Homo sapiens would likely have been overcome and outinterbred by Homo neanderthalensis who also developed tool use and social pack behavior  Some member of the Homo genus would likely be here with sapience intact but their outlook on the world might be very different  \\n\\nEvolution isnt about more advanced its about best suited for its niche  A human and a hagfish are equally well evolved for their niches  in fact the hagfish may be considered more highly evolved due to the noted human difficulties with bipedalism and the fact that hagfishes designs havent had to change in million of years because they work so well\\n\\nAlso playing with eugenicsbased morality eg who deserves to live if technology is absent ubermensch fantasies isnt a good look regardless of age\n",
      "Polyethylene itself isnt toxic And if burn properly and fully to CO2 and H2O its quite safe The probleme starts when you get to burning irl in imperfect conditions which can lead to formation of intermediary oxidation products Some of which are quite unhealthy\\n\\nOn the second part  no PET and paraffins are close but not the same As well as there are a lot of different PE derivatives as well\\n\\nPS another thing about comparison with candle wax  method of burning really matter When you burn a candle via wick  you favour really as complete burn as possible mainly to get more flame and less sought If you were to burn PE in the same way aka completely not via a wick you are mostly safe again But when youre just burning a raw pile of plastic such conditions often favour certain unhealthy byproducts\n",
      ">Would you be able to program it or do you have to remake film to give a different diffraction pattern each time\\n\\nThe film after being revealed cannot be modified But as uduckfat01 commented [here]httpswwwredditcomrPhysicscommentsqjnzsjcommenthit15xnutm_source=shareutm_medium=web2xcontext=3 an alternative is using a spatial light modulator With the adequate one you can even change the hologram in realtime 🙂\\n\\n>How would you physically make this holographic film\\n\\nIn the example I cited silver halide emulsion the physical process is exactly the same as the oldfashioned photographic films\\n\\nSpatial light modulators can use a liquid crystal display LCD which controls the phase and intensity of the light in each pixel through the use of a medium with circular birefringence Applying a specific voltage to each pixel you can vary the value of the circular birefringence of the medium and locally modify the phase and intensity of the output wavefront\n",
      "Ah I see\\n\\nNo we dont think that the extra kinetic energy is the difference Beam experiments use cold neutrons and bottle experiments use ultracold neutrons Cold neutrons travel around 2200 ms or roughly 7e6 c c is the speed of light Ultracold neutrons are much slower so we can approximate them as stationary\\n\\nAt 7e6 c time dilation is a 25e11 effect which is much smaller than the 1e2 effect that we are trying to understand Anything other than time dilation wouldnt work as an explanation If you boost yourself into the frame of motion of the cold neutron that neutron is now stationary or ultracold in our approximation Any decay must be allowed in the boosted frame in order to be allowed in the lab frame\n",
      "The blood lost during menstruation is not direct bleeding from blood vessels or arteries\\n\\nThe Uterus builds up a lining of enriched blood  minerals it’s called the endometrium lining this is what is shed during menstruation\\n\\nThe endometrial lining is the body’s way of preparing for pregnancy If a fertilised egg was to implant in the uterus the endometrium would be used to nourish the implanted cells  blastocyst which would then grow  a placenta  amniotic sac \\n\\nThe average blood loss is 80150 ml per week of their periods which last 3 to 7 days the average being 5 days  some can be 914 days\\n\\nWorking on averages most women lose about 80 ml per month That’s 960 ml per year not even a litre or about a pint  a half but the endometrium lining is regenerated every month \\n\\nThe menstrual cycle is 28 days long for most women days 17 Building of new lining starts  ovulation occurs on day1016 average is day 14 if no ovum fertilisation occurs the ovum is reabsorbed into the lining which is then shed from day 2128\\n\\nEdit to correct math brain fart\n",
      "Space doesnt literally curve like a trampoline with a bowling ball on it We call it curvature because its the closest realworld analogy to the way distances and angles no longer add up the way they would in flat Euclidean space\\n\\nFor example if I told you I had a triangle whose angles added up to 200deg instead of 180deg the only way this could happen in the real world is if the triangle is curved Lines on it would only be straight in the sense that they follow the surface of the triangle  anyone looking from outside would see that they were not straight because the surface is curved\\n\\nBut this doesnt really translate when talking about space We say its curved but there isnt really an outside for us to look at if from Theres no direction that it curves into\n",
      "you seem to have a great grasp of the chemistry but youre forgetting thermodynamics and by extension economics\\n\\nwed either have to burn carbon defeating the point or use tons of renewables in about the least efficient way possible its a cool project and it would be a cool chemE project but it would never scale up in a way that would make a dent in climate change \\n\\nits ultimately an energy storage scheme and we have way more efficient storage technologies with way more developed infrastructure\\n\\nstill i think its a pretty interesting bit of chemical reasoning just for its own sake is that route used for industrial hydrazine production\n",
      "Well the only way to removeneytralize a compound is by changing it to something else\\n\\nMetabolizing something is chemically changing it to something else just using natural biocuemical processes You can hypothetically chemically modify it too but youll likely mess with the entire tissue its in For example you could incinerate the hell out of the compound but everything around its messed up too You could use acids to degrade it but those acids will mess with the around tissue too\\n\\nYou could maaybe get some sort of high affinity compound specific to the said compound bind that high affinity complementary compound to a magnetic nanoparticle and  diffuse that through something and then recollect the particles but if its a tissue those nanoparticles arent going to be able to spread as ubiquitously If it was just a solution then sure but not something like muscle tissue Also recollecting nanoparticles through muscle tissue using a magnet woildnt likely work or would at least be very painful\n",
      "Thallium possesses several closed shells of d and felectrons but once they are completely filled they tend to become irrelevant hence the comparison of distance to xenon and radon is a bit inaccurate A very important aspect is the inert pair effect of selectrons It simply states that as you go to higher rows e g within the 3rd main group from boron to aluminium to gallium to indium and finally to thallium the selectrons become increasingly more difficult to access The effect originates from quantum mechanics This means in essence that the tendency of being most stable in the I compared to the III state increases with increasing mass of the element In other words removing both selectrons from the valence shell of thallium is more difficult than for indium gallium aluminium or boron The same trend applies also to the 4th and somewhat to the 5th main group Negative oxidation states are for  elements of the 3rd main group exceedingly rare because their electromegativities are relatively low This means that the valence shell of thallium for example is barely capable of accommodating one additional electron negatively charged thallium ions are therefore rarely formed It may be possible that stuff like CsTl exists but I would not bet on it\n",
      "The 2021 Ig Nobel prize may have been remote but it wasn’t remotely the least interesting There were a plethora of interesting scientific works in the prizes \\[1\\] Particularly interesting for me was the prize for physics and kinetic which were related  These prizes were for attempting to understand how human crowds selforganize\\n\\nThe physics prize \\[2\\] looked at modeling human crowds and showed that by tracking actual human interactions that we can be described quite well with simple longrange sight and shortrange interaction terms Using this fluid dynamics approach they showed good agreement in describing real interactions The same group previously attempted to direct pedestrians but was not very successful \\[3\\] suggesting we still need to develop how to introduce external forces\\n\\nThe kinetics prize \\[4\\] was given for investigating the effect of people on phones in crowds No shocker here they are the worst and slow everyone down But it is still important to understand how this happens if we wish to potentially minimize the effects\\n\\nIf you prefer to read some popular science articles on these topics youcan check out these from physorg \\[56\\]\\n\\n\\[1\\] [wwwimprobablecom]httpwwwimprobablecom\\n\\n\\[2\\] [wwwjournalsapsorgpreabstract101103PhysRevE98062310]httpswwwjournalsapsorgpreabstract101103PhysRevE98062310\\n\\n\\[3\\] [wwwcollectivedynamicseuindexphpcodarticleviewA34]httpswwwcollectivedynamicseuindexphpcodarticleviewA34\\n\\n\\[4\\] [wwwscienceorgdoi101126sciadvabe7758]httpwwwscienceorgdoi101126sciadvabe7758\\n\\n\\[5\\] [wwwphysorgnews201812pedestrianscmcomfortzonecollisionshtml]httpswwwphysorgnews201812pedestrianscmcomfortzonecollisionshtml\\n\\n\\[6\\] [wwwphysorgnews202103distractedpedestrianspeoplehtml]httpswwwphysorgnews202103distractedpedestrianspeoplehtml\n",
      "Yeah that’s what I was mainly talking about too Did you read my post past the first example It applies about the same for flue streams as it does to atmospheric CO2 which is why I brought it up The fundamental point is that when it comes to capturing carbon the way the CO2 was generated doesn’t affect the energy required to capture it at all \\n\\nIf you just feel like skimming the rest of this see the paragraphs I say are the most important one It provides links to journal articles which directly address what thermodynamic processes are important in determining the limits of direct air capture One passage from one of the journal articles directly addresses and contradicts your claim\\n\\nDo you think that people who research carbon capture whether from coalnatural gas plants or from the atmosphere are just missing this very straightforward energy argument you’re making Process chemistry analysis of the feasibility of carbon capture is done on all of these different capture environments Have these people missed out on the apparent massive flaw in direct air capture If you read such a paper it even talks about energy requirements and related concerns for carbon capture A conclusion you won’t find in this analysis is that “carbon capture is pointless because the energy required to capture the carbon is too high” You can read this article httpswwwfrontiersinorgarticles103389fenrg202000092full Note the following quotation “Based on these studies DAC is currently considered as an energyintensive and costly approach for removing CO2 from the atmosphere However researchers believe that the high cost and energy consumption in such systems are mostly due to the immaturity of the technology and hence DAC may be eventually considered as a viable option for removing CO2 from the atmosphere” There’s no suggestion that DAC is futile because of thermodynamics restrictions Perhaps you have a reservation about this journal I know it’s maybe a little controversial  my main experience with it has been with a very high quality review article I read in it on a different topic though in which case I’m sure you can find other articles on this topic in other journals although the corresponding author’s google scholar looks legitimate enough \\n\\nThese next 2 paragraphs are the most important part of my reply\\n\\nYou can also check out httpsdoiorg101021acschemrev6b00173 which is a very well cited review on direct air capture They even have a thermodynamics section toward the end Note that they even mention the second law of thermodynamics but the process they are applying it to is CO2 binding to the adsorbent and then having it unbind Citation 28 of that paper directly addresses a theoretical lower bound for the energy requirements in section 21 Here’s a link for a pdf of it httpshalshsarchivesouvertesfrhalshs00003926document The paragraphs at the start of section 2 explain how the relevant thermodynamic process doesn’t involve whatever it was that initially put the CO2 there but rather have to do with adsorption and desorption from the material Note how they don’t even mention the source of the CO2 in the atmosphere \\n\\nThat article in citation 28 even has this quotation “The ∼4 GJtC minimum may be compared to the carbonspecific energy content of fossil fuels coal oil and natural gas have about 40 50 and 70 GJtC respectively Thus if the energy for air capture is provided by fossil fuels then the amount of carbon captured from the air can—in principle—be much larger than the carbon content of the fuel used to capture it The fuel carbon can of course be captured as part of the process rather than being emitted to the air” This directly shows that your claim is incorrect \\n\\nI’m not trying to be argumentative for its own sake your claim sounded intuitive enough that I figured people might read it think it sounded right and then move on with a very misinformed opinion on direct air capture In another thread on this subreddit I even saw a similar claim to the one you made being made so it seems like others find this type of argument compelling but I’m not sure where it’s coming from \\n\\nRegarding your other point I don’t understand why the main thing you responded to had to do with the greenhouse effect either Obviously CO2 is a greenhouse gas My point was that the CO2 that gets captured may or may not be in an excited vibrational state when it gets captured Ultimately it doesn’t even matter for the rest of the argument though The 2 main paragraphs above show that your thermodynamic argument is incorrect with peerreviewed journal articles\n",
      "The unit cell for bismuth is rhombohedral but that doesnt actually tell you very much about the macroscopic crystal To grow a large bismuth hopper like this you want to hit a sweet spot of crystallization speed so that your crystal is hefty but still has that distinctive growth pattern In my experience the trick is to have a big crucible of molten bismuth just above the melting point and to use a seed crystal to dredge a big chunk of bismuth from the center of the melt before the entire thing has a chance to freeze solid\\n\\nFun fact about bulk bismuth it is one of few materials for which the solid phase is less dense than the liquid like water\n",
      "A PhD is not the same kind of struggle as a BS program There is a completely different level of selfreliance and drive that is required to get through a research project where you are more or less completely responsible for the outcome Often there’s nothing that can you can look up or read that will give you the answer to your specific problem otherwise it wouldn’t be research 90 of the work you do may yield negative results and you have to be ok with coming into work everyday and “failing” despite your best efforts and as others have said even enjoy the process\\n\\nI would definitely recommend trying to get hired as an undergrad researcher in one of the groups in your department It’s really the only way to know for sure if you would enjoy that kind of work It can be incredibly rewarding if you are ok with the grind\n",
      "Hey man not sure why people are up in arms if this is truly not for a grade which I hope it is not OH proton signals are typically funky and broad because they exchange with solvent they are somewhat acidic so that statement is telling you the singlet belongs to the OH proton The small signal at 78 ppm in the C NMR is from solvent if it was run in a chlorinated solvent otherwise it may be from your analyte what would make a C appear at higher ppm So now you can use the MW along with the fact you have a Cl and O to play around with some structures which match your H and C NMR\\n\\nEdit Im certain the small peak in the C NMR is solvent so ignore it You should have been told the solvent it was run in CDCl3 shows up around 77 ppm on C NMR\n",
      "I can attest from personal experience it is impossible to ride with more than a small amount of weight Im sure many a child has figured out the hard way that letting go of the handlebars while an external force is acting on them such as wind a bag of groceries or a dog leash is an extremely bad idea The precise effect depends on the bicycle geometry  the fork angle wheel offset handlebar width handle bar offset from the axis of steering the riders weight and position For example shorter handlebar offsets causes lateral loads to contribute more to leaning the bike whereas longer offsets causes the load to produce more steer and offset the weight from the steering axis considerably The tires trail affects how the bike handles at a given steer and lean angle Most of the time though the slackened steering produces a reversed castor wheel effect a bag of groceries on one side will mostly tend to just steer very severely that direction in an attempt to reach the local minima of the slanted steering axis Depending on the exact geometry skill weight etc its possible to just nohands around in a circle with a weight on one bar where the steering force is counteracted by the centripetal normal force as that weight is directly analogous to a rider applying the same load with their hands to enter a turn however this represents a singular selfstable state If the bag is swinging around dramatically from the unsteadiness it would produce you now have this crazy doublependulum chaotic system The question gets more interesting when you add a dog leash to the equation as the force can now act along angles that the bike was not designed to selfstabilize against The leash can be pulling out of a turn while the bike is attempting to steer into it which can cause sudden inversions in the force vectors along an unexpected axis leading to undesireable behavior such as the wheel suddenly being oversteered or the bike leaning out of a turn while steering into it One can easily experiment with this unusual dynamic system with just two bikes  by riding one and pushing another beside yourself by the handlebars you can feel how changing the position of your hand on the bar changes how the driving slowing banking and steering forces all get mixed up\n",
      "Everything is a carcinogen Our own body produces carcinogens by creating ATP It’s a question of exposing your body to something that damages your DNA faster than your body can make repairs There are some things like asbestos where even just one fiber can cause cancer but most things it’s how much you’re exposed to Peanut butter for instance is a carcinogen but 40 tablespoons of peanut butter has the same cancer risk as a single cigarette And it’s all risk there isn’t a guarantee that anything will for sure cause cancer But a single drop of nail polish on your bedsheet is really not enough of a cancer risk to even blink at But something else that’s important is that being stressed a lot is a bigger health issue than spilling nail polish If you are worried that you will damage your relationship with your family by telling them you spilled a little nail polish you need a professional therapist to help you with your anxiety A therapist is an awesome person to have in your life they help you direct your thoughts so that you’re not so burdened by your anxiety\n",
      ">So what happens to it if we continue moving the screen back beyond the target focal length\\n\\nThe image starts to distort However the lens shown in the setup isnt required at all I just used it here to fit the animation in the simulation plane If you dont use a lens the image is formed at infinite\\n\\nBut generally the farfield condition `a^2  L \\ λ  >> 1` is enough to get a highresolution image where\\n\\n a is the characteristic size of the hologram\\n L is the distance of the screen from the hologram\\n λ  is the incident wavelength\\n\\nIf that is the condition the image just gets bigger as you increase the screen distance\\n\\n[I made an entire video explaining and visualizing]httpsrafaelfuentegithubiosimulatinglightdiffractionwithlensesvisualizingfourieropticshtml in detail what you asked  🙂\n",
      "Why would this be a process you attempt in situ Youre telling me youll design an entirely new nuclear reactor based entirely on the idea that it might maybe form something somewhat beneficial I mean youre talking about introducing a fuel rod a reflector and a gas  into a reactor Just with fuel rod and reflector you would at a minimum need to completely overhaul a reactor to swap it out to your newly designed fuel rod and reflector Plus youd need to introduce a gas stream into the system which gets very complicated Cooling efficiency would change dramatically so I really dont see any other option than complete redesign Im also not sure what youre doing about cladding Every fuel rod I know of is encased in a cladding material that would prevent the formation of the uranium nitride you want since that uranium is not exposed to the NH3 Im willing to bet that a basic solution is not ideal for the system either \\n\\nI dont know the decay chains of everything so Ill just take your word that a neutron will create 15N Presumably that will be most efficient at a certain neutron velocity so why wouldnt you take a nitrogen source to something like a spallation neutron source or just another reactor theres a few designed as neutron sources where you can convert it to 15N with significantly higher efficiency Plus then youre designing a reactor around a known advancement rather than around something that might maybe create that advancement\n",
      "So I guess that’s where this conversation ends I cannot provide proof or verifiable evidence I know this in my heart to be true Label me a conspirator I’ll take it because I understand that’s what I sound like Label people who believe in religion or ghosts as crazy Just because the science or stats are being censored doesn’t mean they aren’t real The government has lied to us so many times before I can get into why I think stats and real news are being censored but again conspiracy \\n\\nI don’t live by the facts of today’s news sources It’s not reliable I don’t hate on those who do as it doesn’t make sense why the news would try and lie to people about something this big COVID\\n\\n I’m not very articulate over text It’s hard to accurately explain my logic and thought process and why I think what I do over Reddit I have sources but to the average person they aren’t from major news stations or lesser of value \\n\\nIf you want me to provide you some information message me\\n\\nThat is proof or verifiable evidence to people who are ignorant to real facts They will say my facts are propaganda or false narrative\n",
      "A second is defined in SI as a unit of proper time  that is whatever one is timing has to be next to the clock such that all of the relativistic effects affect them both and thus cancel out\\n\\nIn practice of course we need to time events that are not in exactly the same conditions as    the standard clocks themselves And even the standard clocks in different national laboratories are not in exactly the same gravitational potential Therefore for realization of a practically useful time standard such as [International Atomic Time]httpsenwikipediaorgwikiInternational_Atomic_Time the relativistic corrections are necessary The second of International Atomic Time is defined at the gravitational potential of the mean sea level Other time scales used for example for astronomical calculations use different conventions\n",
      "Shes a contrarian who wants to tear down anything she sees as being hyped In this particular case shes totally right to do so Honestly the amount of bullshit surrounding the delayed choice quantum eraser makes it a clear case for Sabines particular style being warranted and perhaps even necessary\\n\\nShe gets hate because there are other instances where her contrarian nature runs totally contrary to what the experts say  and what we have pretty good reason to believe Her hot takes often foster misunderstanding and you can sometimes see her acolytes calling bullshit on say string theory or dark matter when they clearly havent taken the time to understand why people believe in these things Also there are accusations that she is intentionally divisive to increase her popular appeal and sell more books which is probably partially true\n"
     ]
    },
    {
     "data": {
      "text/html": [
       "<div>\n",
       "<style scoped>\n",
       "    .dataframe tbody tr th:only-of-type {\n",
       "        vertical-align: middle;\n",
       "    }\n",
       "\n",
       "    .dataframe tbody tr th {\n",
       "        vertical-align: top;\n",
       "    }\n",
       "\n",
       "    .dataframe thead th {\n",
       "        text-align: right;\n",
       "    }\n",
       "</style>\n",
       "<table border=\"1\" class=\"dataframe\">\n",
       "  <thead>\n",
       "    <tr style=\"text-align: right;\">\n",
       "      <th></th>\n",
       "      <th>Comment</th>\n",
       "      <th>Topic</th>\n",
       "      <th>algo1_certa</th>\n",
       "      <th>algoL_certa</th>\n",
       "      <th>algo1</th>\n",
       "      <th>algoL</th>\n",
       "    </tr>\n",
       "  </thead>\n",
       "  <tbody>\n",
       "    <tr>\n",
       "      <th>0</th>\n",
       "      <td>Wait wouldn’t the wings rip off before the res...</td>\n",
       "      <td>Biology</td>\n",
       "      <td>False</td>\n",
       "      <td>True</td>\n",
       "      <td>Chemistry</td>\n",
       "      <td>Biology</td>\n",
       "    </tr>\n",
       "    <tr>\n",
       "      <th>1</th>\n",
       "      <td>It's pretty much the same idea behind people a...</td>\n",
       "      <td>Biology</td>\n",
       "      <td>False</td>\n",
       "      <td>True</td>\n",
       "      <td>Physics</td>\n",
       "      <td>Biology</td>\n",
       "    </tr>\n",
       "    <tr>\n",
       "      <th>2</th>\n",
       "      <td>Yeah, good to know. We had a crazy infestation...</td>\n",
       "      <td>Biology</td>\n",
       "      <td>False</td>\n",
       "      <td>True</td>\n",
       "      <td>Physics</td>\n",
       "      <td>Biology</td>\n",
       "    </tr>\n",
       "    <tr>\n",
       "      <th>3</th>\n",
       "      <td>It’s a kiwi doggy</td>\n",
       "      <td>Biology</td>\n",
       "      <td>True</td>\n",
       "      <td>False</td>\n",
       "      <td>Biology</td>\n",
       "      <td>Chemistry</td>\n",
       "    </tr>\n",
       "    <tr>\n",
       "      <th>4</th>\n",
       "      <td>You're absolutely right about the flu not kill...</td>\n",
       "      <td>Biology</td>\n",
       "      <td>False</td>\n",
       "      <td>True</td>\n",
       "      <td>Chemistry</td>\n",
       "      <td>Biology</td>\n",
       "    </tr>\n",
       "    <tr>\n",
       "      <th>5</th>\n",
       "      <td>As long as the don't start having fire spurts ...</td>\n",
       "      <td>Biology</td>\n",
       "      <td>False</td>\n",
       "      <td>False</td>\n",
       "      <td>Chemistry</td>\n",
       "      <td>Chemistry</td>\n",
       "    </tr>\n",
       "    <tr>\n",
       "      <th>6</th>\n",
       "      <td>Beneficial to peoples gardens but are very bad...</td>\n",
       "      <td>Biology</td>\n",
       "      <td>False</td>\n",
       "      <td>True</td>\n",
       "      <td>Physics</td>\n",
       "      <td>Biology</td>\n",
       "    </tr>\n",
       "    <tr>\n",
       "      <th>7</th>\n",
       "      <td>No, Triatoma can transmit Chagas, assassin bug...</td>\n",
       "      <td>Biology</td>\n",
       "      <td>False</td>\n",
       "      <td>True</td>\n",
       "      <td>Chemistry</td>\n",
       "      <td>Biology</td>\n",
       "    </tr>\n",
       "    <tr>\n",
       "      <th>8</th>\n",
       "      <td>I don’t think it’s a hormone mediated response...</td>\n",
       "      <td>Biology</td>\n",
       "      <td>False</td>\n",
       "      <td>True</td>\n",
       "      <td>Chemistry</td>\n",
       "      <td>Biology</td>\n",
       "    </tr>\n",
       "    <tr>\n",
       "      <th>9</th>\n",
       "      <td>I was under the impression that the silicate b...</td>\n",
       "      <td>Chemistry</td>\n",
       "      <td>False</td>\n",
       "      <td>False</td>\n",
       "      <td>Biology</td>\n",
       "      <td>Physics</td>\n",
       "    </tr>\n",
       "    <tr>\n",
       "      <th>10</th>\n",
       "      <td>Well this will see a resurgence after today's ...</td>\n",
       "      <td>Physics</td>\n",
       "      <td>False</td>\n",
       "      <td>True</td>\n",
       "      <td>Biology</td>\n",
       "      <td>Physics</td>\n",
       "    </tr>\n",
       "    <tr>\n",
       "      <th>11</th>\n",
       "      <td>I wonder if r/contamfam could help</td>\n",
       "      <td>Biology</td>\n",
       "      <td>True</td>\n",
       "      <td>True</td>\n",
       "      <td>Biology</td>\n",
       "      <td>Biology</td>\n",
       "    </tr>\n",
       "    <tr>\n",
       "      <th>12</th>\n",
       "      <td>🤣 I never actually thought to look it up. She ...</td>\n",
       "      <td>Chemistry</td>\n",
       "      <td>False</td>\n",
       "      <td>False</td>\n",
       "      <td>Physics</td>\n",
       "      <td>Biology</td>\n",
       "    </tr>\n",
       "    <tr>\n",
       "      <th>13</th>\n",
       "      <td>This method isn’t reliable since the copper su...</td>\n",
       "      <td>Chemistry</td>\n",
       "      <td>False</td>\n",
       "      <td>True</td>\n",
       "      <td>Physics</td>\n",
       "      <td>Chemistry</td>\n",
       "    </tr>\n",
       "    <tr>\n",
       "      <th>14</th>\n",
       "      <td>Another book people typically read along with ...</td>\n",
       "      <td>Physics</td>\n",
       "      <td>False</td>\n",
       "      <td>False</td>\n",
       "      <td>Biology</td>\n",
       "      <td>Chemistry</td>\n",
       "    </tr>\n",
       "  </tbody>\n",
       "</table>\n",
       "</div>"
      ],
      "text/plain": [
       "                                              Comment      Topic algo1_certa  \\\n",
       "0   Wait wouldn’t the wings rip off before the res...    Biology       False   \n",
       "1   It's pretty much the same idea behind people a...    Biology       False   \n",
       "2   Yeah, good to know. We had a crazy infestation...    Biology       False   \n",
       "3                                   It’s a kiwi doggy    Biology        True   \n",
       "4   You're absolutely right about the flu not kill...    Biology       False   \n",
       "5   As long as the don't start having fire spurts ...    Biology       False   \n",
       "6   Beneficial to peoples gardens but are very bad...    Biology       False   \n",
       "7   No, Triatoma can transmit Chagas, assassin bug...    Biology       False   \n",
       "8   I don’t think it’s a hormone mediated response...    Biology       False   \n",
       "9   I was under the impression that the silicate b...  Chemistry       False   \n",
       "10  Well this will see a resurgence after today's ...    Physics       False   \n",
       "11                 I wonder if r/contamfam could help    Biology        True   \n",
       "12  🤣 I never actually thought to look it up. She ...  Chemistry       False   \n",
       "13  This method isn’t reliable since the copper su...  Chemistry       False   \n",
       "14  Another book people typically read along with ...    Physics       False   \n",
       "\n",
       "   algoL_certa      algo1      algoL  \n",
       "0         True  Chemistry    Biology  \n",
       "1         True    Physics    Biology  \n",
       "2         True    Physics    Biology  \n",
       "3        False    Biology  Chemistry  \n",
       "4         True  Chemistry    Biology  \n",
       "5        False  Chemistry  Chemistry  \n",
       "6         True    Physics    Biology  \n",
       "7         True  Chemistry    Biology  \n",
       "8         True  Chemistry    Biology  \n",
       "9        False    Biology    Physics  \n",
       "10        True    Biology    Physics  \n",
       "11        True    Biology    Biology  \n",
       "12       False    Physics    Biology  \n",
       "13        True    Physics  Chemistry  \n",
       "14       False    Biology  Chemistry  "
      ]
     },
     "execution_count": 16,
     "metadata": {},
     "output_type": "execute_result"
    }
   ],
   "source": [
    "validacao = test\n",
    "validacao['algo1_certa'] = 'NaN'\n",
    "validacao['algoL_certa'] = 'NaN'\n",
    "validacao['algo1'] = 'NaN'\n",
    "validacao['algoL'] = 'NaAAAN'\n",
    "\n",
    "for i, frase in enumerate(test.Comment):\n",
    "    frase = cleanup(frase)\n",
    "    validacao['algo1'][i] = algoritmo_1(frase)\n",
    "    validacao['algoL'][i] = algoritmo_laplace(frase)\n",
    "  \n",
    "    if validacao['algo1'][i] == validacao['Topic'][i]:\n",
    "        validacao['algo1_certa'][i] = True\n",
    "    else:\n",
    "        validacao['algo1_certa'][i] = False\n",
    "\n",
    "    if validacao['algoL'][i] == validacao['Topic'][i]:\n",
    "        validacao['algoL_certa'][i] = True\n",
    "    else:\n",
    "        validacao['algoL_certa'][i] = False\n",
    "\n",
    "validacao.head(15)"
   ]
  },
  {
   "cell_type": "code",
   "execution_count": 19,
   "metadata": {},
   "outputs": [
    {
     "name": "stdout",
     "output_type": "stream",
     "text": [
      "Acertos sem Laplace: \n",
      "22.0%\n",
      "\n",
      "Acertos com Laplace:\n",
      "64.0%\n"
     ]
    }
   ],
   "source": [
    "certos_algo1 = validacao.algo1_certa.value_counts(True)\n",
    "certos_algoL = validacao.algoL_certa.value_counts(True)\n",
    "\n",
    "print('Acertos sem Laplace: ')\n",
    "print(f'{certos_algo1[True].round(2)*100}%')\n",
    "print('\\nAcertos com Laplace:')\n",
    "print(f'{certos_algoL[True].round(2)*100}%')"
   ]
  },
  {
   "cell_type": "code",
   "execution_count": 18,
   "metadata": {},
   "outputs": [
    {
     "name": "stdout",
     "output_type": "stream",
     "text": [
      "algo1\n",
      "Physics      686\n",
      "Biology      648\n",
      "Chemistry    466\n",
      "Name: count, dtype: int64\n",
      "\n",
      "\n",
      "algo1\n",
      "Physics      686\n",
      "Biology      648\n",
      "Chemistry    466\n",
      "Name: count, dtype: int64\n"
     ]
    }
   ],
   "source": [
    "pd.crosstab(test.Topic, test.algo1, normalize=True)\n",
    "print(test.algo1.value_counts())\n",
    "print('\\n')\n",
    "print(test.algo1.value_counts())"
   ]
  },
  {
   "cell_type": "markdown",
   "metadata": {},
   "source": [
    "___\n",
    "### Concluindo"
   ]
  },
  {
   "cell_type": "code",
   "execution_count": null,
   "metadata": {},
   "outputs": [],
   "source": []
  },
  {
   "cell_type": "code",
   "execution_count": null,
   "metadata": {},
   "outputs": [],
   "source": []
  },
  {
   "cell_type": "code",
   "execution_count": null,
   "metadata": {},
   "outputs": [],
   "source": []
  },
  {
   "cell_type": "markdown",
   "metadata": {},
   "source": [
    "___\n",
    "### Qualidade do Classificador a partir de novas separações das mensagens entre Treinamento e Teste\n",
    "\n",
    "Caso for fazer esse item do Projeto"
   ]
  },
  {
   "cell_type": "code",
   "execution_count": null,
   "metadata": {},
   "outputs": [],
   "source": []
  },
  {
   "cell_type": "code",
   "execution_count": null,
   "metadata": {},
   "outputs": [],
   "source": []
  },
  {
   "cell_type": "code",
   "execution_count": null,
   "metadata": {},
   "outputs": [],
   "source": []
  },
  {
   "cell_type": "markdown",
   "metadata": {},
   "source": [
    "___\n",
    "## Aperfeiçoamento:\n",
    "\n",
    "Leia atentamente a rubrica colocada no enunciado do Projeto 1 (última página). <br>\n",
    "Trabalhos que conseguirem pelo menos conceito B vão evoluir em conceito dependendo da quantidade de itens avançados:\n",
    "\n",
    "* IMPLEMENTOU outras limpezas e transformações que não afetem a qualidade da informação contida nas mensagens, mas tendem a melhorar na classificação das mensagens. Ex: stemming, lemmatization, stopwords.\n",
    "* CONSIDEROU arquivo com três categorias na classificação das variáveis (OBRIGATÓRIO PARA QUARTETOS, sem contar como item avançado)\n",
    "* CONSTRUIU o cálculo das probabilidades corretamente utilizando bigramas E apresentou referência sobre o método utilizado.\n",
    "* EXPLICOU porquê não pode usar novas mensagens classificadas pelo próprio classificador como amostra de treinamento\n",
    "* PROPÔS diferentes cenários para Naïve Bayes fora do contexto do projeto (pelo menos dois cenários diferentes, exceto aqueles já apresentados em sala pelos professores: por exemplo, filtro de spam)\n",
    "* REFLETE criticamente sobre os resultados obtidos, identificando limitações do modelo e sugerindo possíveis melhorias ou diferentes abordagens com indicações concretas de como implementar (indicar como fazer e indicar material de pesquisa).\n",
    "* DOCUMENTOU bem o código, com explicações claras para cada etapa do processo, incluindo o raciocínio por trás das decisões de modelagem e das transformações de dados.\n"
   ]
  },
  {
   "cell_type": "markdown",
   "metadata": {},
   "source": [
    "___\n",
    "## Referências"
   ]
  },
  {
   "cell_type": "markdown",
   "metadata": {},
   "source": [
    "[Naive Bayes and Text Classification](https://arxiv.org/pdf/1410.5329.pdf)  **Mais completo**\n",
    "\n",
    "[A practical explanation of a Naive Bayes Classifier](https://monkeylearn.com/blog/practical-explanation-naive-bayes-classifier/) **Mais simples**"
   ]
  },
  {
   "cell_type": "code",
   "execution_count": null,
   "metadata": {},
   "outputs": [],
   "source": []
  }
 ],
 "metadata": {
  "kernelspec": {
   "display_name": "Python 3 (ipykernel)",
   "language": "python",
   "name": "python3"
  },
  "language_info": {
   "codemirror_mode": {
    "name": "ipython",
    "version": 3
   },
   "file_extension": ".py",
   "mimetype": "text/x-python",
   "name": "python",
   "nbconvert_exporter": "python",
   "pygments_lexer": "ipython3",
   "version": "3.11.5"
  }
 },
 "nbformat": 4,
 "nbformat_minor": 4
}
