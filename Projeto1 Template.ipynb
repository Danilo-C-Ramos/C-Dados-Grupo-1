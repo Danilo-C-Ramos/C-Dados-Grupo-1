{
 "cells": [
  {
   "cell_type": "markdown",
   "metadata": {},
   "source": [
    "# Projeto 1 - Ciência dos Dados"
   ]
  },
  {
   "cell_type": "markdown",
   "metadata": {},
   "source": [
    "Nome: Danilo Ramos\n",
    "\n",
    "Nome: Leonardo Veras\n",
    "\n",
    "Nome: Thomas Ganut"
   ]
  },
  {
   "cell_type": "markdown",
   "metadata": {},
   "source": [
    "Atenção: Serão permitidos grupos de até 4 pessoas, mas com uma rubrica mais exigente. "
   ]
  },
  {
   "cell_type": "markdown",
   "metadata": {},
   "source": [
    "___\n",
    "Carregando algumas bibliotecas:"
   ]
  },
  {
   "cell_type": "code",
   "execution_count": 113,
   "metadata": {},
   "outputs": [],
   "source": [
    "%matplotlib inline\n",
    "import pandas as pd\n",
    "import matplotlib.pyplot as plt\n",
    "import numpy as np\n",
    "import os\n",
    "from IPython.display import display\n",
    "import re"
   ]
  },
  {
   "cell_type": "code",
   "execution_count": 114,
   "metadata": {
    "scrolled": false
   },
   "outputs": [
    {
     "name": "stdout",
     "output_type": "stream",
     "text": [
      "Esperamos trabalhar no diretório\n",
      "c:\\Users\\leovm\\OneDrive - Insper - Institudo de Ensino e Pesquisa\\Insper\\Ciencia dos Dados\\Projeto 1\\C-Dados-Porreta\n"
     ]
    }
   ],
   "source": [
    "print('Esperamos trabalhar no diretório')\n",
    "print(os.getcwd())"
   ]
  },
  {
   "cell_type": "markdown",
   "metadata": {},
   "source": [
    "Carregando a base de dados com as mensagens dos seus arquivos:"
   ]
  },
  {
   "cell_type": "code",
   "execution_count": 115,
   "metadata": {},
   "outputs": [
    {
     "data": {
      "text/html": [
       "<div>\n",
       "<style scoped>\n",
       "    .dataframe tbody tr th:only-of-type {\n",
       "        vertical-align: middle;\n",
       "    }\n",
       "\n",
       "    .dataframe tbody tr th {\n",
       "        vertical-align: top;\n",
       "    }\n",
       "\n",
       "    .dataframe thead th {\n",
       "        text-align: right;\n",
       "    }\n",
       "</style>\n",
       "<table border=\"1\" class=\"dataframe\">\n",
       "  <thead>\n",
       "    <tr style=\"text-align: right;\">\n",
       "      <th></th>\n",
       "      <th>Comment</th>\n",
       "      <th>Topic</th>\n",
       "    </tr>\n",
       "  </thead>\n",
       "  <tbody>\n",
       "    <tr>\n",
       "      <th>0</th>\n",
       "      <td>If you pile up electrons in a hypothetical cha...</td>\n",
       "      <td>Physics</td>\n",
       "    </tr>\n",
       "    <tr>\n",
       "      <th>1</th>\n",
       "      <td>Is it the infamous kill-you-dead Brazilian wan...</td>\n",
       "      <td>Biology</td>\n",
       "    </tr>\n",
       "    <tr>\n",
       "      <th>2</th>\n",
       "      <td>What a dumb fucking question. No you moron the...</td>\n",
       "      <td>Biology</td>\n",
       "    </tr>\n",
       "    <tr>\n",
       "      <th>3</th>\n",
       "      <td>Yes!  Humans in North America have really led ...</td>\n",
       "      <td>Biology</td>\n",
       "    </tr>\n",
       "    <tr>\n",
       "      <th>4</th>\n",
       "      <td>Take my award. What an underrated comment.</td>\n",
       "      <td>Chemistry</td>\n",
       "    </tr>\n",
       "  </tbody>\n",
       "</table>\n",
       "</div>"
      ],
      "text/plain": [
       "                                             Comment      Topic\n",
       "0  If you pile up electrons in a hypothetical cha...    Physics\n",
       "1  Is it the infamous kill-you-dead Brazilian wan...    Biology\n",
       "2  What a dumb fucking question. No you moron the...    Biology\n",
       "3  Yes!  Humans in North America have really led ...    Biology\n",
       "4         Take my award. What an underrated comment.  Chemistry"
      ]
     },
     "execution_count": 115,
     "metadata": {},
     "output_type": "execute_result"
    }
   ],
   "source": [
    "arquivo_treino = 'dados_treino_QUARTETO_Danilo_Leonardo_Thomas.csv'\n",
    "train = pd.read_csv(arquivo_treino)\n",
    "\n",
    "train.head(5)"
   ]
  },
  {
   "cell_type": "code",
   "execution_count": 116,
   "metadata": {},
   "outputs": [
    {
     "data": {
      "text/html": [
       "<div>\n",
       "<style scoped>\n",
       "    .dataframe tbody tr th:only-of-type {\n",
       "        vertical-align: middle;\n",
       "    }\n",
       "\n",
       "    .dataframe tbody tr th {\n",
       "        vertical-align: top;\n",
       "    }\n",
       "\n",
       "    .dataframe thead th {\n",
       "        text-align: right;\n",
       "    }\n",
       "</style>\n",
       "<table border=\"1\" class=\"dataframe\">\n",
       "  <thead>\n",
       "    <tr style=\"text-align: right;\">\n",
       "      <th></th>\n",
       "      <th>Comment</th>\n",
       "      <th>Topic</th>\n",
       "    </tr>\n",
       "  </thead>\n",
       "  <tbody>\n",
       "    <tr>\n",
       "      <th>0</th>\n",
       "      <td>Wait wouldn’t the wings rip off before the res...</td>\n",
       "      <td>Biology</td>\n",
       "    </tr>\n",
       "    <tr>\n",
       "      <th>1</th>\n",
       "      <td>It's pretty much the same idea behind people a...</td>\n",
       "      <td>Biology</td>\n",
       "    </tr>\n",
       "    <tr>\n",
       "      <th>2</th>\n",
       "      <td>Yeah, good to know. We had a crazy infestation...</td>\n",
       "      <td>Biology</td>\n",
       "    </tr>\n",
       "    <tr>\n",
       "      <th>3</th>\n",
       "      <td>It’s a kiwi doggy</td>\n",
       "      <td>Biology</td>\n",
       "    </tr>\n",
       "    <tr>\n",
       "      <th>4</th>\n",
       "      <td>You're absolutely right about the flu not kill...</td>\n",
       "      <td>Biology</td>\n",
       "    </tr>\n",
       "  </tbody>\n",
       "</table>\n",
       "</div>"
      ],
      "text/plain": [
       "                                             Comment    Topic\n",
       "0  Wait wouldn’t the wings rip off before the res...  Biology\n",
       "1  It's pretty much the same idea behind people a...  Biology\n",
       "2  Yeah, good to know. We had a crazy infestation...  Biology\n",
       "3                                  It’s a kiwi doggy  Biology\n",
       "4  You're absolutely right about the flu not kill...  Biology"
      ]
     },
     "execution_count": 116,
     "metadata": {},
     "output_type": "execute_result"
    }
   ],
   "source": [
    "test = pd.read_csv('dados_teste_QUARTETO_Danilo_Leonardo_Thomas.csv')\n",
    "test.head(5)"
   ]
  },
  {
   "cell_type": "markdown",
   "metadata": {},
   "source": [
    "___\n",
    "## Classificador automático\n"
   ]
  },
  {
   "cell_type": "markdown",
   "metadata": {},
   "source": [
    "Faça aqui uma descrição do seu assunto e o contexto referente aos rótulos cujas mensagens (ou reviews) deverão ser classificadas.\n",
    "\n",
    "Será desenvolvido um sistema automático, utilizando o Teorema de Bayes, para classificar textos científicos em física, química e biologia. Uma prova de conceito será implementada para treinar e testar o classificador, garantindo a separação clara dos textos nas respectivas áreas."
   ]
  },
  {
   "cell_type": "markdown",
   "metadata": {},
   "source": [
    "___\n",
    "### Montando um Classificador Naive-Bayes\n",
    "\n",
    "Considerando apenas as mensagens da planilha Treinamento, ensine  seu classificador."
   ]
  },
  {
   "cell_type": "code",
   "execution_count": 117,
   "metadata": {},
   "outputs": [],
   "source": [
    "def cleanup(text):\n",
    "    \"\"\"\n",
    "        Função de limpeza muito simples que troca alguns sinais básicos por espaços\n",
    "    \"\"\"\n",
    "    #import string\n",
    "    punctuation = '[´\"!-.:?;$'')(&€™/]' # Note que os sinais [] são delimitadores de um conjunto.\n",
    "    pattern = re.compile(punctuation)\n",
    "    text_subbed = re.sub(pattern, '', text)\n",
    "    return text_subbed"
   ]
  },
  {
   "cell_type": "code",
   "execution_count": 118,
   "metadata": {},
   "outputs": [],
   "source": [
    "for i, frase in enumerate(train.Comment):\n",
    "    train.Comment[i] = cleanup(frase.lower())"
   ]
  },
  {
   "cell_type": "code",
   "execution_count": 119,
   "metadata": {},
   "outputs": [],
   "source": [
    "train_physics = train.loc[train.Topic == 'Physics']\n",
    "train_biology = train.loc[train.Topic == 'Biology']\n",
    "train_chemistry = train.loc[train.Topic == 'Chemistry']"
   ]
  },
  {
   "cell_type": "code",
   "execution_count": 120,
   "metadata": {},
   "outputs": [],
   "source": [
    "list_chemistry: list = []\n",
    "for frase in train_chemistry.Comment:\n",
    "    frase = frase.split()\n",
    "    for word in frase:\n",
    "        list_chemistry.append(word)\n",
    "\n",
    "serie_chemistry = pd.Series(list_chemistry)\n",
    "\n",
    "\n",
    "list_physics: list = []\n",
    "for frase in train_physics.Comment:\n",
    "    frase = frase.split()\n",
    "    for word in frase:\n",
    "        list_physics.append(word)\n",
    "\n",
    "serie_physics = pd.Series(list_physics)\n",
    "\n",
    "\n",
    "list_biology: list = []\n",
    "for frase in train_biology.Comment:\n",
    "    frase = frase.split()\n",
    "    for word in frase:\n",
    "        list_biology.append(word)\n",
    "\n",
    "serie_biology = pd.Series(list_biology)"
   ]
  },
  {
   "cell_type": "code",
   "execution_count": 121,
   "metadata": {},
   "outputs": [],
   "source": [
    "list_train: list = []\n",
    "for frase in train.Comment:\n",
    "    frase = frase.split()\n",
    "    for word in frase:\n",
    "        list_train.append(word)\n",
    "        \n",
    "serie_train = pd.Series(list_train)"
   ]
  },
  {
   "cell_type": "code",
   "execution_count": 122,
   "metadata": {},
   "outputs": [
    {
     "name": "stdout",
     "output_type": "stream",
     "text": [
      "0.3012356545583805 0.3779207149869664 0.3208436304546532\n",
      "1.0\n"
     ]
    }
   ],
   "source": [
    "P_C = len(serie_chemistry)/len(serie_train)\n",
    "P_B = len(serie_biology)/len(serie_train)\n",
    "P_P = len(serie_physics)/len(serie_train)\n",
    "print(P_C, P_B, P_P)\n",
    "print(P_C + P_B + P_P)\n"
   ]
  },
  {
   "cell_type": "code",
   "execution_count": 123,
   "metadata": {},
   "outputs": [
    {
     "name": "stdout",
     "output_type": "stream",
     "text": [
      "the               0.053559\n",
      "to                0.026505\n",
      "a                 0.024711\n",
      "of                0.022643\n",
      "is                0.021040\n",
      "                    ...   \n",
      "gaps              0.000021\n",
      "commenting        0.000021\n",
      "pressurevacuum    0.000021\n",
      "blocking          0.000021\n",
      "duckstream        0.000021\n",
      "Name: proportion, Length: 6760, dtype: float64\n"
     ]
    }
   ],
   "source": [
    "# #Treinamento\n",
    "tabela_c_relativa = serie_chemistry.value_counts(True)\n",
    "tabela_p_relativa = serie_physics.value_counts(True)\n",
    "tabela_b_relativa = serie_biology.value_counts(True)\n",
    "print(tabela_p_relativa)\n",
    "\n",
    "tabela = serie_train.value_counts()\n",
    "\n",
    "# Physics\n",
    "tabela_P_raw = serie_physics.value_counts()\n",
    "tabela_P_freq = tabela_P_raw.sum()\n",
    "tabela_P_voc = tabela_P_raw.count()\n",
    "\n",
    "# Chemistry\n",
    "tabela_C_raw = serie_chemistry.value_counts()\n",
    "tabela_C_freq = tabela_C_raw.sum()\n",
    "tabela_C_voc = tabela_C_raw.count()\n",
    "\n",
    "# Biology\n",
    "tabela_B_raw = serie_biology.value_counts()\n",
    "tabela_B_freq = tabela_B_raw.sum()\n",
    "tabela_B_voc = tabela_B_raw.count()\n",
    "\n",
    "stop_words = tabela.index[:15].tolist()\n",
    "#print(stop_words)\n",
    "\n",
    "def cleanup_stopwords(frase):\n",
    "    punctuation = '[´\"!-.:?;$'')(&€™/]' # Note que os sinais [] são delimitadores de um conjunto.\n",
    "    pattern = re.compile(punctuation)\n",
    "    text_subbed = re.sub(pattern, '', frase)\n",
    "    text_subbed = text_subbed.lower()\n",
    "    for palavra in stop_words:\n",
    "        text_subbed = text_subbed.replace((f' {palavra} '), ' ')\n",
    "\n",
    "    return text_subbed\n",
    "frase_teste = 'My name is the Leo, and I play a lot of Minecraft!'\n",
    "#print(cleanup_stopwords(frase_teste))"
   ]
  },
  {
   "cell_type": "markdown",
   "metadata": {},
   "source": [
    "___\n",
    "### Verificando a performance do Classificador\n",
    "\n",
    "Agora você deve testar o seu classificador com a base de Testes."
   ]
  },
  {
   "cell_type": "code",
   "execution_count": 124,
   "metadata": {},
   "outputs": [],
   "source": [
    "for i, frase in enumerate(test.Comment):\n",
    "    test.Comment[i] = cleanup(frase.lower())\n",
    "\n",
    "\n",
    "def algoritmo_1(frase: str):\n",
    "    probFraseDadoP = 1\n",
    "    probFraseDadoC = 1\n",
    "    probFraseDadoB = 1\n",
    "    \n",
    "\n",
    "    for palavra in frase.split():\n",
    "        if palavra in serie_train:\n",
    "            probFraseDadoP *= tabela_p_relativa[palavra]\n",
    "            probFraseDadoC *= tabela_c_relativa[palavra]\n",
    "            probFraseDadoB *= tabela_b_relativa[palavra]\n",
    "        else:\n",
    "            probFraseDadoP *= 0.00001\n",
    "            probFraseDadoC *= 0.00001\n",
    "            probFraseDadoB *= 0.00001\n",
    "        \n",
    "    prob_P_dado_frase = probFraseDadoP * P_P\n",
    "\n",
    "    prob_C_dado_frase = probFraseDadoC * P_C\n",
    "    prob_B_dado_frase = probFraseDadoB * P_B\n",
    "\n",
    "    \n",
    "    if  prob_P_dado_frase > prob_C_dado_frase:\n",
    "        if prob_P_dado_frase > prob_B_dado_frase:\n",
    "            return 'Physics'\n",
    "        else:\n",
    "            return 'Biology'\n",
    "    else:\n",
    "        if prob_C_dado_frase > prob_B_dado_frase:\n",
    "            return 'Chemistry'\n",
    "        else:\n",
    "            return 'Biology'\n",
    "        \n",
    "\n",
    "\n",
    "#frases_physics = test.loc[test.Topic == 'Physics']\n",
    "#frases_chemistry = test.loc[test.Topic == 'Chemistry']\n",
    "#frases_biology = test.loc[test.Topic == 'Biology']\n",
    "\n"
   ]
  },
  {
   "cell_type": "code",
   "execution_count": 125,
   "metadata": {},
   "outputs": [],
   "source": [
    "def algoritmo_laplace(frase: str):\n",
    "    alpha = 1 #Suavizador de Laplace\n",
    "    probFraseDadoP = 1\n",
    "    probFraseDadoC = 1\n",
    "    probFraseDadoB = 1\n",
    "\n",
    "    for palavra in frase.split():\n",
    "        if palavra in serie_train:\n",
    "            probFraseDadoP *= (tabela_P_raw[palavra] + alpha) / (tabela_P_freq + alpha * tabela_P_voc)\n",
    "            probFraseDadoC *= (tabela_C_raw[palavra] + alpha) / (tabela_C_freq + alpha * tabela_C_voc)\n",
    "            probFraseDadoB *= (tabela_B_raw[palavra] + alpha) / (tabela_B_freq + alpha * tabela_B_voc)\n",
    "        else:\n",
    "            probFraseDadoP *= alpha / (tabela_P_freq + alpha * tabela_P_voc)\n",
    "            probFraseDadoC *= alpha / (tabela_C_freq + alpha * tabela_C_voc)\n",
    "            probFraseDadoB *= alpha / (tabela_B_freq + alpha * tabela_B_voc)\n",
    "        \n",
    "    prob_P_dado_frase = probFraseDadoP * P_P\n",
    "    prob_C_dado_frase = probFraseDadoC * P_C\n",
    "    prob_B_dado_frase = probFraseDadoB * P_B\n",
    "\n",
    "\n",
    "    if  prob_P_dado_frase > prob_C_dado_frase:\n",
    "        if prob_P_dado_frase > prob_B_dado_frase:\n",
    "            return 'Physics'\n",
    "        else:\n",
    "            return 'Biology'\n",
    "    else:\n",
    "        if prob_C_dado_frase > prob_B_dado_frase:\n",
    "            return 'Chemistry'\n",
    "        else:\n",
    "            return 'Biology'"
   ]
  },
  {
   "cell_type": "code",
   "execution_count": 126,
   "metadata": {},
   "outputs": [
    {
     "name": "stdout",
     "output_type": "stream",
     "text": [
      "Sem Laplace: \n",
      " Biology \n",
      "\n",
      "Com Laplace: \n",
      " Chemistry\n"
     ]
    }
   ],
   "source": [
    "frase_teste = cleanup_stopwords('For sure, were still pushing the frontiers our understanding. And no being in the field of quantum optics, Ill admit my statement falls short here. However, Ive yet to see any \"magic\" from quantum optics abused to make a marvel movie more \"sciencey\" for people. Meanwhile, well-understood phenomena that are easy to think about for waves continues to be magical because master must be little balls.'.lower())\n",
    "#print(frase_teste)\n",
    "print('Sem Laplace: \\n', algoritmo_1(frase_teste), '\\n')\n",
    "print('Com Laplace: \\n', algoritmo_laplace(frase_teste))"
   ]
  },
  {
   "cell_type": "code",
   "execution_count": 131,
   "metadata": {},
   "outputs": [
    {
     "data": {
      "text/html": [
       "<div>\n",
       "<style scoped>\n",
       "    .dataframe tbody tr th:only-of-type {\n",
       "        vertical-align: middle;\n",
       "    }\n",
       "\n",
       "    .dataframe tbody tr th {\n",
       "        vertical-align: top;\n",
       "    }\n",
       "\n",
       "    .dataframe thead th {\n",
       "        text-align: right;\n",
       "    }\n",
       "</style>\n",
       "<table border=\"1\" class=\"dataframe\">\n",
       "  <thead>\n",
       "    <tr style=\"text-align: right;\">\n",
       "      <th></th>\n",
       "      <th>Comment</th>\n",
       "      <th>Topic</th>\n",
       "      <th>algo1_certa</th>\n",
       "      <th>algoL_certa</th>\n",
       "      <th>algo1</th>\n",
       "      <th>algoL</th>\n",
       "    </tr>\n",
       "  </thead>\n",
       "  <tbody>\n",
       "    <tr>\n",
       "      <th>0</th>\n",
       "      <td>if you pile up electrons in a hypothetical cha...</td>\n",
       "      <td>Physics</td>\n",
       "      <td>False</td>\n",
       "      <td>False</td>\n",
       "      <td>Biology</td>\n",
       "      <td>Chemistry</td>\n",
       "    </tr>\n",
       "    <tr>\n",
       "      <th>1</th>\n",
       "      <td>is it the infamous killyoudead brazilian wande...</td>\n",
       "      <td>Biology</td>\n",
       "      <td>True</td>\n",
       "      <td>False</td>\n",
       "      <td>Biology</td>\n",
       "      <td>Chemistry</td>\n",
       "    </tr>\n",
       "    <tr>\n",
       "      <th>2</th>\n",
       "      <td>what a dumb fucking question no you moron ther...</td>\n",
       "      <td>Biology</td>\n",
       "      <td>True</td>\n",
       "      <td>False</td>\n",
       "      <td>Biology</td>\n",
       "      <td>Chemistry</td>\n",
       "    </tr>\n",
       "    <tr>\n",
       "      <th>3</th>\n",
       "      <td>yes  humans in north america have really led t...</td>\n",
       "      <td>Biology</td>\n",
       "      <td>True</td>\n",
       "      <td>False</td>\n",
       "      <td>Biology</td>\n",
       "      <td>Chemistry</td>\n",
       "    </tr>\n",
       "    <tr>\n",
       "      <th>4</th>\n",
       "      <td>take my award what an underrated comment</td>\n",
       "      <td>Chemistry</td>\n",
       "      <td>False</td>\n",
       "      <td>True</td>\n",
       "      <td>Biology</td>\n",
       "      <td>Chemistry</td>\n",
       "    </tr>\n",
       "    <tr>\n",
       "      <th>...</th>\n",
       "      <td>...</td>\n",
       "      <td>...</td>\n",
       "      <td>...</td>\n",
       "      <td>...</td>\n",
       "      <td>...</td>\n",
       "      <td>...</td>\n",
       "    </tr>\n",
       "    <tr>\n",
       "      <th>4195</th>\n",
       "      <td>i don’t know but the sooner you can get it to ...</td>\n",
       "      <td>Biology</td>\n",
       "      <td>NaN</td>\n",
       "      <td>NaN</td>\n",
       "      <td>NaN</td>\n",
       "      <td>NaN</td>\n",
       "    </tr>\n",
       "    <tr>\n",
       "      <th>4196</th>\n",
       "      <td>this man is a troll though the real culprit ar...</td>\n",
       "      <td>Biology</td>\n",
       "      <td>NaN</td>\n",
       "      <td>NaN</td>\n",
       "      <td>NaN</td>\n",
       "      <td>NaN</td>\n",
       "    </tr>\n",
       "    <tr>\n",
       "      <th>4197</th>\n",
       "      <td>there needs to be some automod that removes th...</td>\n",
       "      <td>Biology</td>\n",
       "      <td>NaN</td>\n",
       "      <td>NaN</td>\n",
       "      <td>NaN</td>\n",
       "      <td>NaN</td>\n",
       "    </tr>\n",
       "    <tr>\n",
       "      <th>4198</th>\n",
       "      <td>yeah this should be the official name  a ducks...</td>\n",
       "      <td>Physics</td>\n",
       "      <td>NaN</td>\n",
       "      <td>NaN</td>\n",
       "      <td>NaN</td>\n",
       "      <td>NaN</td>\n",
       "    </tr>\n",
       "    <tr>\n",
       "      <th>4199</th>\n",
       "      <td>ok next question could parts of the mrna vacci...</td>\n",
       "      <td>Biology</td>\n",
       "      <td>NaN</td>\n",
       "      <td>NaN</td>\n",
       "      <td>NaN</td>\n",
       "      <td>NaN</td>\n",
       "    </tr>\n",
       "  </tbody>\n",
       "</table>\n",
       "<p>4200 rows × 6 columns</p>\n",
       "</div>"
      ],
      "text/plain": [
       "                                                Comment      Topic  \\\n",
       "0     if you pile up electrons in a hypothetical cha...    Physics   \n",
       "1     is it the infamous killyoudead brazilian wande...    Biology   \n",
       "2     what a dumb fucking question no you moron ther...    Biology   \n",
       "3     yes  humans in north america have really led t...    Biology   \n",
       "4              take my award what an underrated comment  Chemistry   \n",
       "...                                                 ...        ...   \n",
       "4195  i don’t know but the sooner you can get it to ...    Biology   \n",
       "4196  this man is a troll though the real culprit ar...    Biology   \n",
       "4197  there needs to be some automod that removes th...    Biology   \n",
       "4198  yeah this should be the official name  a ducks...    Physics   \n",
       "4199  ok next question could parts of the mrna vacci...    Biology   \n",
       "\n",
       "     algo1_certa algoL_certa    algo1      algoL  \n",
       "0          False       False  Biology  Chemistry  \n",
       "1           True       False  Biology  Chemistry  \n",
       "2           True       False  Biology  Chemistry  \n",
       "3           True       False  Biology  Chemistry  \n",
       "4          False        True  Biology  Chemistry  \n",
       "...          ...         ...      ...        ...  \n",
       "4195         NaN         NaN      NaN        NaN  \n",
       "4196         NaN         NaN      NaN        NaN  \n",
       "4197         NaN         NaN      NaN        NaN  \n",
       "4198         NaN         NaN      NaN        NaN  \n",
       "4199         NaN         NaN      NaN        NaN  \n",
       "\n",
       "[4200 rows x 6 columns]"
      ]
     },
     "execution_count": 131,
     "metadata": {},
     "output_type": "execute_result"
    }
   ],
   "source": [
    "validacao = train\n",
    "validacao['algo1_certa'] = 'NaN'\n",
    "validacao['algoL_certa'] = 'NaN'\n",
    "validacao['algo1'] = 'NaN'\n",
    "validacao['algoL'] = 'NaN'\n",
    "\n",
    "for i, frase in enumerate(test.Comment):\n",
    "    frase = cleanup_stopwords(frase)\n",
    "    validacao['algo1'][i] = algoritmo_1(frase)\n",
    "    validacao['algoL'][i] = algoritmo_laplace(frase)\n",
    "  \n",
    "    if validacao['algo1'][i] == validacao['Topic'][i]:\n",
    "        validacao['algo1_certa'][i] = True\n",
    "    else:\n",
    "        validacao['algo1_certa'][i] = False\n",
    "\n",
    "    if validacao['algoL'][i] == validacao['Topic'][i]:\n",
    "        validacao['algoL_certa'][i] = True\n",
    "    else:\n",
    "        validacao['algoL_certa'][i] = False\n",
    "\n",
    "validacao"
   ]
  },
  {
   "cell_type": "code",
   "execution_count": 132,
   "metadata": {},
   "outputs": [
    {
     "name": "stdout",
     "output_type": "stream",
     "text": [
      "Acertos sem Laplace: \n",
      "17.0%\n",
      "\n",
      "Acertos com Laplace:\n",
      "15.0%\n"
     ]
    }
   ],
   "source": [
    "certos_algo1 = validacao.algo1_certa.value_counts(True)\n",
    "certos_algoL = validacao.algoL_certa.value_counts(True)\n",
    "\n",
    "print('Acertos sem Laplace: ')\n",
    "print(f'{certos_algo1[True].round(2)*100}%')\n",
    "print('\\nAcertos com Laplace:')\n",
    "print(f'{certos_algoL[True].round(2)*100}%')"
   ]
  },
  {
   "cell_type": "code",
   "execution_count": 135,
   "metadata": {},
   "outputs": [
    {
     "name": "stdout",
     "output_type": "stream",
     "text": [
      "algo1\n",
      "Biology    1800\n",
      "Name: count, dtype: int64\n",
      "\n",
      "\n",
      "algoL\n",
      "Chemistry    1564\n",
      "Biology       165\n",
      "Physics        71\n",
      "Name: count, dtype: int64\n"
     ]
    }
   ],
   "source": [
    "# pd.crosstab(test.Topic, test.algo1, normalize=True)\n",
    "print(test.algo1.value_counts())\n",
    "print('\\n')\n",
    "print(test.algoL.value_counts())"
   ]
  },
  {
   "cell_type": "markdown",
   "metadata": {},
   "source": [
    "___\n",
    "### Concluindo"
   ]
  },
  {
   "cell_type": "code",
   "execution_count": null,
   "metadata": {},
   "outputs": [],
   "source": []
  },
  {
   "cell_type": "code",
   "execution_count": null,
   "metadata": {},
   "outputs": [],
   "source": []
  },
  {
   "cell_type": "code",
   "execution_count": null,
   "metadata": {},
   "outputs": [],
   "source": []
  },
  {
   "cell_type": "markdown",
   "metadata": {},
   "source": [
    "___\n",
    "### Qualidade do Classificador a partir de novas separações das mensagens entre Treinamento e Teste\n",
    "\n",
    "Caso for fazer esse item do Projeto"
   ]
  },
  {
   "cell_type": "code",
   "execution_count": null,
   "metadata": {},
   "outputs": [],
   "source": []
  },
  {
   "cell_type": "code",
   "execution_count": null,
   "metadata": {},
   "outputs": [],
   "source": []
  },
  {
   "cell_type": "code",
   "execution_count": null,
   "metadata": {},
   "outputs": [],
   "source": []
  },
  {
   "cell_type": "markdown",
   "metadata": {},
   "source": [
    "___\n",
    "## Aperfeiçoamento:\n",
    "\n",
    "Leia atentamente a rubrica colocada no enunciado do Projeto 1 (última página). <br>\n",
    "Trabalhos que conseguirem pelo menos conceito B vão evoluir em conceito dependendo da quantidade de itens avançados:\n",
    "\n",
    "* IMPLEMENTOU outras limpezas e transformações que não afetem a qualidade da informação contida nas mensagens, mas tendem a melhorar na classificação das mensagens. Ex: stemming, lemmatization, stopwords.\n",
    "* CONSIDEROU arquivo com três categorias na classificação das variáveis (OBRIGATÓRIO PARA QUARTETOS, sem contar como item avançado)\n",
    "* CONSTRUIU o cálculo das probabilidades corretamente utilizando bigramas E apresentou referência sobre o método utilizado.\n",
    "* EXPLICOU porquê não pode usar novas mensagens classificadas pelo próprio classificador como amostra de treinamento\n",
    "* PROPÔS diferentes cenários para Naïve Bayes fora do contexto do projeto (pelo menos dois cenários diferentes, exceto aqueles já apresentados em sala pelos professores: por exemplo, filtro de spam)\n",
    "* REFLETE criticamente sobre os resultados obtidos, identificando limitações do modelo e sugerindo possíveis melhorias ou diferentes abordagens com indicações concretas de como implementar (indicar como fazer e indicar material de pesquisa).\n",
    "* DOCUMENTOU bem o código, com explicações claras para cada etapa do processo, incluindo o raciocínio por trás das decisões de modelagem e das transformações de dados.\n"
   ]
  },
  {
   "cell_type": "markdown",
   "metadata": {},
   "source": [
    "___\n",
    "## Referências"
   ]
  },
  {
   "cell_type": "markdown",
   "metadata": {},
   "source": [
    "[Naive Bayes and Text Classification](https://arxiv.org/pdf/1410.5329.pdf)  **Mais completo**\n",
    "\n",
    "[A practical explanation of a Naive Bayes Classifier](https://monkeylearn.com/blog/practical-explanation-naive-bayes-classifier/) **Mais simples**"
   ]
  },
  {
   "cell_type": "code",
   "execution_count": null,
   "metadata": {},
   "outputs": [],
   "source": []
  }
 ],
 "metadata": {
  "kernelspec": {
   "display_name": "Python 3 (ipykernel)",
   "language": "python",
   "name": "python3"
  },
  "language_info": {
   "codemirror_mode": {
    "name": "ipython",
    "version": 3
   },
   "file_extension": ".py",
   "mimetype": "text/x-python",
   "name": "python",
   "nbconvert_exporter": "python",
   "pygments_lexer": "ipython3",
   "version": "3.11.5"
  }
 },
 "nbformat": 4,
 "nbformat_minor": 4
}
