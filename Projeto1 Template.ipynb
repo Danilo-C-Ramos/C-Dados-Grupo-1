{
 "cells": [
  {
   "cell_type": "markdown",
   "metadata": {},
   "source": [
    "# Projeto 1 - Ciência dos Dados"
   ]
  },
  {
   "cell_type": "markdown",
   "metadata": {},
   "source": [
    "Nome: Danilo Ramos\n",
    "\n",
    "Nome: Leonardo Veras\n",
    "\n",
    "Nome: Thomas Ganut"
   ]
  },
  {
   "cell_type": "markdown",
   "metadata": {},
   "source": [
    "Atenção: Serão permitidos grupos de até 4 pessoas, mas com uma rubrica mais exigente. "
   ]
  },
  {
   "cell_type": "markdown",
   "metadata": {},
   "source": [
    "___\n",
    "Carregando algumas bibliotecas:"
   ]
  },
  {
   "cell_type": "code",
   "execution_count": 75,
   "metadata": {},
   "outputs": [],
   "source": [
    "%matplotlib inline\n",
    "import pandas as pd\n",
    "import matplotlib.pyplot as plt\n",
    "import numpy as np\n",
    "import os\n",
    "from IPython.display import display\n",
    "import re"
   ]
  },
  {
   "cell_type": "markdown",
   "metadata": {},
   "source": [
    "Carregando a base de dados com as mensagens dos seus arquivos:"
   ]
  },
  {
   "cell_type": "code",
   "execution_count": 76,
   "metadata": {},
   "outputs": [
    {
     "name": "stdout",
     "output_type": "stream",
     "text": [
      "1800   (Tamanho das listas de treino e teste) \n"
     ]
    }
   ],
   "source": [
    "test = pd.read_csv('dados_teste_QUARTETO_Danilo_Leonardo_Thomas.csv')\n",
    "train = pd.read_csv('dados_treino_QUARTETO_Danilo_Leonardo_Thomas.csv')\n",
    "\n",
    "print(f'{len(test)}   (Tamanho das listas de treino e teste) ')"
   ]
  },
  {
   "cell_type": "markdown",
   "metadata": {},
   "source": [
    "___\n",
    "## Classificador automático\n"
   ]
  },
  {
   "cell_type": "markdown",
   "metadata": {},
   "source": [
    "Faça aqui uma descrição do seu assunto e o contexto referente aos rótulos cujas mensagens (ou reviews) deverão ser classificadas.\n",
    "\n",
    "Será desenvolvido um sistema automático, utilizando o Teorema de Bayes, para classificar textos científicos em física, química e biologia. Uma prova de conceito será implementada para treinar e testar o classificador, garantindo a separação clara dos textos nas respectivas áreas."
   ]
  },
  {
   "cell_type": "markdown",
   "metadata": {},
   "source": [
    "___\n",
    "### Montando um Classificador Naive-Bayes\n",
    "\n",
    "Considerando apenas as mensagens da planilha Treinamento, ensine  seu classificador."
   ]
  },
  {
   "cell_type": "code",
   "execution_count": 77,
   "metadata": {},
   "outputs": [],
   "source": [
    "punctuation = '[´`\"!-.:?;$''^~)(&€™/]'\n",
    "\n",
    "def cleanup(text):\n",
    "    pattern = re.compile(punctuation)\n",
    "    text_subbed = re.sub(pattern, '', text).replace((\"\\\\n\"),' ')\n",
    "    return text_subbed"
   ]
  },
  {
   "cell_type": "code",
   "execution_count": 94,
   "metadata": {},
   "outputs": [
    {
     "name": "stdout",
     "output_type": "stream",
     "text": [
      "['in the', 'of the', 'to the', 'to be', 'it is', 'on the', 'is a', 'this is', 'for the', 'i think', 'in a', 'the same', 'would be', 'is the', 'and the', 'thank', 'you', 'thank you']\n"
     ]
    }
   ],
   "source": [
    "# Define stop words\n",
    "\n",
    "list_train: list = []\n",
    "n = 2\n",
    "for frase in train.Comment:\n",
    "    frase = cleanup(frase)\n",
    "    frase = frase.split()\n",
    "    list_train.extend([' '.join(frase[i:i+n]) for i in range(len(frase)-n+1)])\n",
    "        # print([frase[i],frase[i+1],frase[i+2]])\n",
    "\n",
    "serie_train = pd.Series(list_train)\n",
    "tabela = serie_train.value_counts()\n",
    "\n",
    "stop_words = tabela.index[:15].tolist()\n",
    "for i in range(len(stop_words)):\n",
    "    stop_words[i] = stop_words[i].lower()\n",
    "stop_words.extend(['thank', 'you', 'thank you'])\n",
    "print(stop_words)\n"
   ]
  },
  {
   "cell_type": "code",
   "execution_count": 79,
   "metadata": {},
   "outputs": [],
   "source": [
    "def cleanup_stopwords(frase):\n",
    "    pattern = re.compile(punctuation)\n",
    "    text_subbed = re.sub(pattern, '', frase.lower())\n",
    "    text_subbed = text_subbed.replace((\"\\\\n\"),' ').replace((\"\\n\"),' ')\n",
    "    for palavra in stop_words:\n",
    "        text_subbed = text_subbed.replace((f' {palavra} '), ' ')\n",
    "\n",
    "    return text_subbed\n",
    "\n",
    "# print(cleanup_stopwords(' be able to a to I of and is in probably partially true thank you '))"
   ]
  },
  {
   "cell_type": "code",
   "execution_count": 80,
   "metadata": {},
   "outputs": [
    {
     "data": {
      "text/plain": [
       "there is no          0.000262\n",
       "alan alan alan       0.000248\n",
       "but i think          0.000197\n",
       "this is the          0.000197\n",
       "the fact that        0.000182\n",
       "                       ...   \n",
       "large scale it       0.000007\n",
       "on a large           0.000007\n",
       "place on a           0.000007\n",
       "takes place on       0.000007\n",
       "name a duckstream    0.000007\n",
       "Name: proportion, Length: 121189, dtype: float64"
      ]
     },
     "execution_count": 80,
     "metadata": {},
     "output_type": "execute_result"
    }
   ],
   "source": [
    "for i, frase in enumerate(train.Comment):\n",
    "    train.Comment[i] = cleanup_stopwords(frase.lower())\n",
    "\n",
    "list_train: list = []\n",
    "for frase in train.Comment:\n",
    "    frase = frase.split()\n",
    "    list_train.extend([' '.join(frase[i:i+n]) for i in range(len(frase)-n+1)])\n",
    "        \n",
    "serie_train = pd.Series(list_train)\n",
    "\n",
    "serie_train.value_counts(True)"
   ]
  },
  {
   "cell_type": "code",
   "execution_count": 81,
   "metadata": {},
   "outputs": [],
   "source": [
    "train_physics = train.loc[train.Topic == 'Physics']\n",
    "train_biology = train.loc[train.Topic == 'Biology']\n",
    "train_chemistry = train.loc[train.Topic == 'Chemistry']"
   ]
  },
  {
   "cell_type": "code",
   "execution_count": 82,
   "metadata": {},
   "outputs": [],
   "source": [
    "# Função para transformar frases em lista de palavras\n",
    "def frase_para_palavras(lista_frases):\n",
    "    lista_palavras = []\n",
    "    for frase in lista_frases:\n",
    "        lista_palavras.extend(frase.split())\n",
    "    return lista_palavras\n",
    "\n",
    "# Gerando as listas de palavras por tópico\n",
    "lista_physics = frase_para_palavras(train_physics.Comment)\n",
    "lista_biology = frase_para_palavras(train_biology.Comment)\n",
    "lista_chemistry = frase_para_palavras(train_chemistry.Comment)\n",
    "\n",
    "# Criando séries de frequência\n",
    "serie_physics = pd.Series(lista_physics)\n",
    "serie_biology = pd.Series(lista_biology)\n",
    "serie_chemistry = pd.Series(lista_chemistry)\n"
   ]
  },
  {
   "cell_type": "code",
   "execution_count": 83,
   "metadata": {},
   "outputs": [
    {
     "name": "stdout",
     "output_type": "stream",
     "text": [
      "P(C): 0.318, P(B): 0.401, P(P): 0.341\n",
      "P(C) + P(B) + P(P) = 1.06\n"
     ]
    }
   ],
   "source": [
    "P_C = len(serie_chemistry)/len(serie_train)\n",
    "P_B = len(serie_biology)/len(serie_train)\n",
    "P_P = len(serie_physics)/len(serie_train)\n",
    "\n",
    "print(f'P(C): {P_C:.3f}, P(B): {P_B:.3f}, P(P): {P_P:.3f}')\n",
    "print(f'P(C) + P(B) + P(P) = {P_C + P_B + P_P:.2f}')"
   ]
  },
  {
   "cell_type": "code",
   "execution_count": 84,
   "metadata": {},
   "outputs": [],
   "source": [
    "# Treinamento\n",
    "tabela_c_relativa = serie_chemistry.value_counts(True)\n",
    "tabela_p_relativa = serie_physics.value_counts(True)\n",
    "tabela_b_relativa = serie_biology.value_counts(True)\n",
    "\n",
    "voc = tabela.count()\n",
    "\n",
    "# Physics\n",
    "tabela_P_raw = serie_physics.value_counts()\n",
    "tabela_P_freq = tabela_P_raw.sum()\n",
    "tabela_P_voc = tabela_P_raw.count()\n",
    "\n",
    "# Chemistry\n",
    "tabela_C_raw = serie_chemistry.value_counts()\n",
    "tabela_C_freq = tabela_C_raw.sum()\n",
    "tabela_C_voc = tabela_C_raw.count()\n",
    "\n",
    "# Biology\n",
    "tabela_B_raw = serie_biology.value_counts()\n",
    "tabela_B_freq = tabela_B_raw.sum()\n",
    "tabela_B_voc = tabela_B_raw.count()\n"
   ]
  },
  {
   "cell_type": "markdown",
   "metadata": {},
   "source": [
    "___\n",
    "### Verificando a performance do Classificador\n",
    "\n",
    "Agora você deve testar o seu classificador com a base de Testes."
   ]
  },
  {
   "cell_type": "code",
   "execution_count": 85,
   "metadata": {},
   "outputs": [],
   "source": [
    "def algoritmo_1(frase: str) -> str:\n",
    "    probPalavraDadoP = probPalavraDadoC = probPalavraDadoB = 1\n",
    "    \n",
    "    for palavra in frase.split():\n",
    "        probPalavraDadoB *= tabela_b_relativa.get(palavra, 1e-6)\n",
    "        probPalavraDadoP *= tabela_p_relativa.get(palavra, 1e-6)\n",
    "        probPalavraDadoC *= tabela_c_relativa.get(palavra, 1e-6)\n",
    "\n",
    "    prob_P_dado_frase = probPalavraDadoP * P_P\n",
    "    prob_C_dado_frase = probPalavraDadoC * P_C\n",
    "    prob_B_dado_frase = probPalavraDadoB * P_B\n",
    "\n",
    "    if  prob_P_dado_frase > prob_C_dado_frase:\n",
    "        if prob_P_dado_frase > prob_B_dado_frase:\n",
    "            return 'Physics'\n",
    "        else:\n",
    "            return 'Biology'\n",
    "    else:\n",
    "        if prob_C_dado_frase > prob_B_dado_frase:\n",
    "            return 'Chemistry'\n",
    "        else:\n",
    "            return 'Biology'"
   ]
  },
  {
   "cell_type": "code",
   "execution_count": 86,
   "metadata": {},
   "outputs": [],
   "source": [
    "def algoritmo_laplace(frase: str):\n",
    "    alpha = 1 # Suavizador de Laplace\n",
    "    probPalavraDadoP = probPalavraDadoC = probPalavraDadoB = 1\n",
    "\n",
    "    for palavra in frase.split():\n",
    "        probPalavraDadoB *= (tabela_B_raw.get(palavra, 0) + alpha) / (tabela_B_freq + alpha * voc)\n",
    "\n",
    "        probPalavraDadoP *= (tabela_P_raw.get(palavra, 0) + alpha) / (tabela_P_freq + alpha * voc)\n",
    "\n",
    "        probPalavraDadoC *= (tabela_C_raw.get(palavra, 0) + alpha) / (tabela_C_freq + alpha * voc)\n",
    "\n",
    "             \n",
    "    prob_P_dado_frase = probPalavraDadoP * P_P\n",
    "    prob_C_dado_frase = probPalavraDadoC * P_C\n",
    "    prob_B_dado_frase = probPalavraDadoB * P_B\n",
    "\n",
    "    if  prob_P_dado_frase > prob_C_dado_frase:\n",
    "        if prob_P_dado_frase > prob_B_dado_frase:\n",
    "            return 'Physics'\n",
    "        else:\n",
    "            return 'Biology'\n",
    "    else:\n",
    "        if prob_C_dado_frase > prob_B_dado_frase:\n",
    "            return 'Chemistry'\n",
    "        else:\n",
    "            return 'Biology'"
   ]
  },
  {
   "cell_type": "code",
   "execution_count": 87,
   "metadata": {},
   "outputs": [],
   "source": [
    "# Algoritmo com Laplace utilizando log-probabilidades\n",
    "def algoritmo_laplace_log(frase: str, alpha=1):\n",
    "    lista_palavras = frase.split()\n",
    "    \n",
    "    # Inicializar log-probabilidades com log das probabilidades das classes\n",
    "    log_prob_P = np.log(P_P)\n",
    "    log_prob_C = np.log(P_C)\n",
    "    log_prob_B = np.log(P_B)\n",
    "    \n",
    "    for palavra in lista_palavras:\n",
    "        count_p = tabela_P_raw.get(palavra, 0)\n",
    "        log_prob_P += np.log((count_p + alpha) / (tabela_P_freq + alpha * voc))\n",
    "        \n",
    "        count_c = tabela_C_raw.get(palavra, 0)\n",
    "        log_prob_C += np.log((count_c + alpha) / (tabela_C_freq + alpha * voc))\n",
    "        \n",
    "        count_b = tabela_B_raw.get(palavra, 0)\n",
    "        log_prob_B += np.log((count_b + alpha) / (tabela_B_freq + alpha * voc))\n",
    "    \n",
    "    if log_prob_P > log_prob_C:\n",
    "        if log_prob_P > log_prob_B:\n",
    "            return 'Physics'\n",
    "        else:\n",
    "            return 'Biology'\n",
    "    else:\n",
    "        if log_prob_C > log_prob_B:\n",
    "            return 'Chemistry'\n",
    "        else:\n",
    "            return 'Biology'"
   ]
  },
  {
   "cell_type": "code",
   "execution_count": 88,
   "metadata": {},
   "outputs": [],
   "source": [
    "validacao = test.copy()\n",
    "validacao['algo1_certa'] = False\n",
    "validacao['algoL_certa'] = False\n",
    "validacao['algoL_log_certa'] = False\n",
    "\n",
    "validacao['algo1'] = 'NaN'\n",
    "validacao['algoL'] = 'NaN'\n",
    "validacao['algoL_log'] = 'NaN'\n",
    "\n",
    "for i, frase in enumerate(test.Comment):\n",
    "    frase = cleanup_stopwords(frase)\n",
    "    validacao.loc[i, 'algo1'] = algoritmo_1(frase)\n",
    "    validacao.loc[i, 'algoL'] = algoritmo_laplace(frase)\n",
    "    validacao.loc[i, 'algoL_log'] = algoritmo_laplace_log(frase)\n",
    "  \n",
    "    if validacao.loc[i, 'algo1'] == validacao.loc[i, 'Topic']:\n",
    "        validacao.loc[i, 'algo1_certa'] = True\n",
    "\n",
    "    if validacao.loc[i, 'algoL'] == validacao.loc[i, 'Topic']:\n",
    "        validacao.loc[i, 'algoL_certa'] = True\n",
    "\n",
    "    if validacao.loc[i, 'algoL_log'] == validacao.loc[i, 'Topic']:\n",
    "        validacao.loc[i, 'algoL_log_certa'] = True\n"
   ]
  },
  {
   "cell_type": "code",
   "execution_count": 89,
   "metadata": {},
   "outputs": [
    {
     "name": "stdout",
     "output_type": "stream",
     "text": [
      "Acertos sem Laplace: \n",
      "68.33%\n",
      "\n",
      "Acertos com Laplace:\n",
      "64.39%\n",
      "\n",
      "Acertos com Laplace com log:\n",
      "68.61%\n"
     ]
    }
   ],
   "source": [
    "acertos_algo1 = validacao.algo1_certa.value_counts(True)\n",
    "acertos_algoL = validacao.algoL_certa.value_counts(True)\n",
    "acertos_algoL_log = validacao.algoL_log_certa.value_counts(True)\n",
    "\n",
    "print('Acertos sem Laplace: ')\n",
    "print(f'{acertos_algo1[True]*100:.2f}%')\n",
    "print('\\nAcertos com Laplace:')\n",
    "print(f'{acertos_algoL[True]*100:.2f}%')\n",
    "print('\\nAcertos com Laplace com log:')\n",
    "print(f'{acertos_algoL_log[True]*100:.2f}%')"
   ]
  },
  {
   "cell_type": "code",
   "execution_count": 90,
   "metadata": {},
   "outputs": [
    {
     "data": {
      "text/html": [
       "<div>\n",
       "<style scoped>\n",
       "    .dataframe tbody tr th:only-of-type {\n",
       "        vertical-align: middle;\n",
       "    }\n",
       "\n",
       "    .dataframe tbody tr th {\n",
       "        vertical-align: top;\n",
       "    }\n",
       "\n",
       "    .dataframe thead th {\n",
       "        text-align: right;\n",
       "    }\n",
       "</style>\n",
       "<table border=\"1\" class=\"dataframe\">\n",
       "  <thead>\n",
       "    <tr style=\"text-align: right;\">\n",
       "      <th>algo1_certa</th>\n",
       "      <th>False</th>\n",
       "      <th>True</th>\n",
       "    </tr>\n",
       "    <tr>\n",
       "      <th>Topic</th>\n",
       "      <th></th>\n",
       "      <th></th>\n",
       "    </tr>\n",
       "  </thead>\n",
       "  <tbody>\n",
       "    <tr>\n",
       "      <th>Biology</th>\n",
       "      <td>146</td>\n",
       "      <td>591</td>\n",
       "    </tr>\n",
       "    <tr>\n",
       "      <th>Chemistry</th>\n",
       "      <td>229</td>\n",
       "      <td>369</td>\n",
       "    </tr>\n",
       "    <tr>\n",
       "      <th>Physics</th>\n",
       "      <td>195</td>\n",
       "      <td>270</td>\n",
       "    </tr>\n",
       "  </tbody>\n",
       "</table>\n",
       "</div>"
      ],
      "text/plain": [
       "algo1_certa  False  True \n",
       "Topic                    \n",
       "Biology        146    591\n",
       "Chemistry      229    369\n",
       "Physics        195    270"
      ]
     },
     "metadata": {},
     "output_type": "display_data"
    },
    {
     "data": {
      "text/html": [
       "<div>\n",
       "<style scoped>\n",
       "    .dataframe tbody tr th:only-of-type {\n",
       "        vertical-align: middle;\n",
       "    }\n",
       "\n",
       "    .dataframe tbody tr th {\n",
       "        vertical-align: top;\n",
       "    }\n",
       "\n",
       "    .dataframe thead th {\n",
       "        text-align: right;\n",
       "    }\n",
       "</style>\n",
       "<table border=\"1\" class=\"dataframe\">\n",
       "  <thead>\n",
       "    <tr style=\"text-align: right;\">\n",
       "      <th>algoL_certa</th>\n",
       "      <th>False</th>\n",
       "      <th>True</th>\n",
       "    </tr>\n",
       "    <tr>\n",
       "      <th>Topic</th>\n",
       "      <th></th>\n",
       "      <th></th>\n",
       "    </tr>\n",
       "  </thead>\n",
       "  <tbody>\n",
       "    <tr>\n",
       "      <th>Biology</th>\n",
       "      <td>61</td>\n",
       "      <td>676</td>\n",
       "    </tr>\n",
       "    <tr>\n",
       "      <th>Chemistry</th>\n",
       "      <td>352</td>\n",
       "      <td>246</td>\n",
       "    </tr>\n",
       "    <tr>\n",
       "      <th>Physics</th>\n",
       "      <td>228</td>\n",
       "      <td>237</td>\n",
       "    </tr>\n",
       "  </tbody>\n",
       "</table>\n",
       "</div>"
      ],
      "text/plain": [
       "algoL_certa  False  True \n",
       "Topic                    \n",
       "Biology         61    676\n",
       "Chemistry      352    246\n",
       "Physics        228    237"
      ]
     },
     "metadata": {},
     "output_type": "display_data"
    },
    {
     "data": {
      "text/html": [
       "<div>\n",
       "<style scoped>\n",
       "    .dataframe tbody tr th:only-of-type {\n",
       "        vertical-align: middle;\n",
       "    }\n",
       "\n",
       "    .dataframe tbody tr th {\n",
       "        vertical-align: top;\n",
       "    }\n",
       "\n",
       "    .dataframe thead th {\n",
       "        text-align: right;\n",
       "    }\n",
       "</style>\n",
       "<table border=\"1\" class=\"dataframe\">\n",
       "  <thead>\n",
       "    <tr style=\"text-align: right;\">\n",
       "      <th>algoL_log_certa</th>\n",
       "      <th>False</th>\n",
       "      <th>True</th>\n",
       "    </tr>\n",
       "    <tr>\n",
       "      <th>Topic</th>\n",
       "      <th></th>\n",
       "      <th></th>\n",
       "    </tr>\n",
       "  </thead>\n",
       "  <tbody>\n",
       "    <tr>\n",
       "      <th>Biology</th>\n",
       "      <td>64</td>\n",
       "      <td>673</td>\n",
       "    </tr>\n",
       "    <tr>\n",
       "      <th>Chemistry</th>\n",
       "      <td>320</td>\n",
       "      <td>278</td>\n",
       "    </tr>\n",
       "    <tr>\n",
       "      <th>Physics</th>\n",
       "      <td>181</td>\n",
       "      <td>284</td>\n",
       "    </tr>\n",
       "  </tbody>\n",
       "</table>\n",
       "</div>"
      ],
      "text/plain": [
       "algoL_log_certa  False  True \n",
       "Topic                        \n",
       "Biology             64    673\n",
       "Chemistry          320    278\n",
       "Physics            181    284"
      ]
     },
     "metadata": {},
     "output_type": "display_data"
    },
    {
     "name": "stdout",
     "output_type": "stream",
     "text": [
      " Taxa de acertos em biologia com Laplace: 0.9172320217096337 \n",
      " Taxa de acertos em biologia sem Laplace: 0.8018995929443691\n",
      "\n",
      "\n",
      " Taxa de acertos em física com Laplace: 0.5096774193548387 \n",
      " Taxa de acertos em física sem Laplace: 0.5806451612903226\n",
      "\n",
      "\n",
      " Taxa de acertos em química com Laplace: 0.4983277591973244 \n",
      " Taxa de acertos em química sem Laplace: 0.617056856187291\n"
     ]
    }
   ],
   "source": [
    "# Exibe as tabelas de contingência para as previsões dos algoritmos\n",
    "display(pd.crosstab(test.Topic, validacao.algo1_certa))\n",
    "display(pd.crosstab(test.Topic, validacao.algoL_certa))\n",
    "display(pd.crosstab(test.Topic, validacao.algoL_log_certa))\n",
    "\n",
    "# Calcula as taxas de acerto para os algoritmos\n",
    "taxa_acerto_1 = [validacao.algo1_certa.value_counts().iloc[0], validacao.algo1_certa.value_counts().iloc[1]]\n",
    "taxa_acerto_L = [validacao.algoL_certa.value_counts().iloc[0], validacao.algoL_certa.value_counts().iloc[1]]\n",
    "taxa_acerto_L_log = [validacao.algoL_log_certa.value_counts().iloc[0], validacao.algoL_log_certa.value_counts().iloc[1]]\n",
    "\n",
    "# Análise para Biologia\n",
    "validacao_biologia = validacao.loc[validacao.Topic == 'Biology']\n",
    "taxa_acerto_bio_L = validacao_biologia.algoL.value_counts(True).iloc[0]\n",
    "validacao_biologia_algoL_acertos = validacao_biologia.algoL.value_counts().iloc[0]\n",
    "taxa_acerto_bio_1 = validacao_biologia.algo1.value_counts(True).iloc[0]\n",
    "print(f' Taxa de acertos em biologia com Laplace: {taxa_acerto_bio_L}', '\\n', f'Taxa de acertos em biologia sem Laplace: {taxa_acerto_bio_1}')\n",
    "print('\\n')\n",
    "\n",
    "# Análise para Física\n",
    "validacao_physics = validacao.loc[validacao.Topic == 'Physics']\n",
    "taxa_acerto_ph_L = validacao_physics.algoL.value_counts(True).iloc[0]\n",
    "taxa_acerto_ph_1 = validacao_physics.algo1.value_counts(True).iloc[0]\n",
    "print(f' Taxa de acertos em física com Laplace: {taxa_acerto_ph_L}', '\\n', f'Taxa de acertos em física sem Laplace: {taxa_acerto_ph_1}')\n",
    "print('\\n')\n",
    "\n",
    "# Análise para Química\n",
    "validacao_chemistry = validacao.loc[validacao.Topic == 'Chemistry']\n",
    "taxa_acerto_ch_L = validacao_chemistry.algoL.value_counts(True).iloc[0]\n",
    "taxa_acerto_ch_1 = validacao_chemistry.algo1.value_counts(True).iloc[0]\n",
    "print(f' Taxa de acertos em química com Laplace: {taxa_acerto_ch_L}', '\\n', f'Taxa de acertos em química sem Laplace: {taxa_acerto_ch_1}')\n"
   ]
  },
  {
   "cell_type": "code",
   "execution_count": 91,
   "metadata": {},
   "outputs": [
    {
     "data": {
      "text/html": [
       "<div>\n",
       "<style scoped>\n",
       "    .dataframe tbody tr th:only-of-type {\n",
       "        vertical-align: middle;\n",
       "    }\n",
       "\n",
       "    .dataframe tbody tr th {\n",
       "        vertical-align: top;\n",
       "    }\n",
       "\n",
       "    .dataframe thead th {\n",
       "        text-align: right;\n",
       "    }\n",
       "</style>\n",
       "<table border=\"1\" class=\"dataframe\">\n",
       "  <thead>\n",
       "    <tr style=\"text-align: right;\">\n",
       "      <th>Topic</th>\n",
       "      <th>Biology</th>\n",
       "    </tr>\n",
       "    <tr>\n",
       "      <th>algoL_certa</th>\n",
       "      <th></th>\n",
       "    </tr>\n",
       "  </thead>\n",
       "  <tbody>\n",
       "    <tr>\n",
       "      <th>False</th>\n",
       "      <td>61</td>\n",
       "    </tr>\n",
       "    <tr>\n",
       "      <th>True</th>\n",
       "      <td>676</td>\n",
       "    </tr>\n",
       "  </tbody>\n",
       "</table>\n",
       "</div>"
      ],
      "text/plain": [
       "Topic        Biology\n",
       "algoL_certa         \n",
       "False             61\n",
       "True             676"
      ]
     },
     "metadata": {},
     "output_type": "display_data"
    },
    {
     "data": {
      "text/plain": [
       "<Figure size 640x480 with 0 Axes>"
      ]
     },
     "metadata": {},
     "output_type": "display_data"
    },
    {
     "data": {
      "image/png": "[encoded data removed]",
      "text/plain": [
       "<Figure size 900x600 with 1 Axes>"
      ]
     },
     "metadata": {},
     "output_type": "display_data"
    }
   ],
   "source": [
    "cross_L = pd.crosstab(validacao_biologia.Topic, validacao_biologia.algoL_certa)\n",
    "display(pd.crosstab(validacao_biologia.algoL_certa, validacao_biologia.Topic))\n",
    "plt.figure()\n",
    "\n",
    "fig, ax = plt.subplots(figsize=(9, 6))\n",
    "\n",
    "categorias = ['Biologia acertos', 'Biologia erros', 'Física acertos', 'Física erros', 'Química acertos', 'Química erros']\n",
    "posicoes = np.arange(1,len(categorias) + 1)\n",
    "\n",
    "ax.bar(1, taxa_acerto_bio_1 *100, edgecolor='black', color='limegreen')\n",
    "ax.bar(2, ((1 - taxa_acerto_bio_1)*100),edgecolor='black', color='darkgreen')\n",
    "\n",
    "ax.bar(3, taxa_acerto_ph_1*100, edgecolor='black', color='Red')\n",
    "ax.bar(4, ((1 - taxa_acerto_ph_1)*100),edgecolor='black', color='darkred')\n",
    "\n",
    "ax.bar(5, taxa_acerto_ch_1*100, edgecolor='black', color='royalblue')\n",
    "ax.bar(6, ((1 - taxa_acerto_ch_1)*100), edgecolor='black', color='navy')\n",
    "\n",
    "ax.set_facecolor('lightgray')\n",
    "\n",
    "# ax.pie(taxa_acerto_1, colors=['Green','Blue'], radius=0.4, center=(7, 0.4),\n",
    "#        wedgeprops={\"linewidth\": 1, \"edgecolor\": \"white\"}, frame=True)\n",
    "\n",
    "ax.set_ylim(0, 100)\n",
    "plt.xticks(posicoes, categorias, ha='center')\n",
    "plt.title('Gráfico de Acertos e Erros por Disciplina calculado pelo modelo sem laplace')\n",
    "plt.tight_layout()  # Ajusta para evitar sobreposição\n",
    "\n",
    "\n",
    "plt.show()"
   ]
  },
  {
   "cell_type": "code",
   "execution_count": 92,
   "metadata": {},
   "outputs": [
    {
     "data": {
      "text/html": [
       "<div>\n",
       "<style scoped>\n",
       "    .dataframe tbody tr th:only-of-type {\n",
       "        vertical-align: middle;\n",
       "    }\n",
       "\n",
       "    .dataframe tbody tr th {\n",
       "        vertical-align: top;\n",
       "    }\n",
       "\n",
       "    .dataframe thead th {\n",
       "        text-align: right;\n",
       "    }\n",
       "</style>\n",
       "<table border=\"1\" class=\"dataframe\">\n",
       "  <thead>\n",
       "    <tr style=\"text-align: right;\">\n",
       "      <th>Topic</th>\n",
       "      <th>Biology</th>\n",
       "    </tr>\n",
       "    <tr>\n",
       "      <th>algoL_certa</th>\n",
       "      <th></th>\n",
       "    </tr>\n",
       "  </thead>\n",
       "  <tbody>\n",
       "    <tr>\n",
       "      <th>False</th>\n",
       "      <td>61</td>\n",
       "    </tr>\n",
       "    <tr>\n",
       "      <th>True</th>\n",
       "      <td>676</td>\n",
       "    </tr>\n",
       "  </tbody>\n",
       "</table>\n",
       "</div>"
      ],
      "text/plain": [
       "Topic        Biology\n",
       "algoL_certa         \n",
       "False             61\n",
       "True             676"
      ]
     },
     "metadata": {},
     "output_type": "display_data"
    },
    {
     "data": {
      "text/plain": [
       "<Figure size 640x480 with 0 Axes>"
      ]
     },
     "metadata": {},
     "output_type": "display_data"
    },
    {
     "data": {
      "image/png": "[encoded data removed]",
      "text/plain": [
       "<Figure size 900x600 with 1 Axes>"
      ]
     },
     "metadata": {},
     "output_type": "display_data"
    }
   ],
   "source": [
    "cross_L = pd.crosstab(validacao_biologia.Topic, validacao_biologia.algoL_certa)\n",
    "display(pd.crosstab(validacao_biologia.algoL_certa, validacao_biologia.Topic))\n",
    "plt.figure()\n",
    "\n",
    "fig, ax = plt.subplots(figsize=(9, 6))\n",
    "\n",
    "categorias = ['Biologia acertos', 'Biologia erros', 'Física acertos', 'Física erros', 'Química acertos', 'Química erros']\n",
    "posicoes = np.arange(1,len(categorias) + 1)\n",
    "\n",
    "ax.bar(1, taxa_acerto_bio_L *100, edgecolor='black', color='limegreen')\n",
    "ax.bar(2, ((1 - taxa_acerto_bio_L)*100),edgecolor='black', color='darkgreen')\n",
    "\n",
    "ax.bar(3, taxa_acerto_ph_L*100, edgecolor='black', color='Red')\n",
    "ax.bar(4, ((1 - taxa_acerto_ph_L)*100),edgecolor='black', color='darkred')\n",
    "\n",
    "ax.bar(5, taxa_acerto_ch_L*100, edgecolor='black', color='royalblue')\n",
    "ax.bar(6, ((1 - taxa_acerto_ch_L)*100), edgecolor='black', color='navy')\n",
    "\n",
    "ax.set_facecolor('lightgray')\n",
    "\n",
    "ax.set_ylim(0, 100)\n",
    "plt.xticks(posicoes, categorias, ha='center')\n",
    "plt.title('Gráfico de Acertos e Erros por Disciplina calculado pelo modelo com laplace')\n",
    "plt.tight_layout()  # Ajusta para evitar sobreposição\n",
    "\n",
    "plt.show()"
   ]
  },
  {
   "cell_type": "code",
   "execution_count": 93,
   "metadata": {},
   "outputs": [
    {
     "data": {
      "text/plain": [
       "<Figure size 640x480 with 0 Axes>"
      ]
     },
     "metadata": {},
     "output_type": "display_data"
    },
    {
     "data": {
      "image/png": "[encoded data removed]",
      "text/plain": [
       "<Figure size 1200x1200 with 3 Axes>"
      ]
     },
     "metadata": {},
     "output_type": "display_data"
    }
   ],
   "source": [
    "plt.figure()\n",
    "\n",
    "fig = plt.subplots(figsize=(12, 12))\n",
    "\n",
    "plt.subplot(121)\n",
    "plt.pie(taxa_acerto_1, colors=['forestgreen','navy'], radius=1, center=(1, 1),\n",
    "        wedgeprops={\"linewidth\": 1, \"edgecolor\": \"white\"}, frame=False, labels=['Acertos Sem Laplace','Erros Sem Laplace'], labeldistance=1.3)\n",
    "plt.xlabel = 'Acertos e erros do algoritmo sem laplace'\n",
    "plt.legend(loc='lower left', bbox_to_anchor=(-0.3,0))\n",
    "\n",
    "plt.subplot(122)\n",
    "plt.pie(taxa_acerto_L, colors=['forestgreen','navy'], radius=1, center=(1, 1),\n",
    "        wedgeprops={\"linewidth\": 1, \"edgecolor\": \"white\"}, frame=False, labels=['Acertos Laplace','Erros Laplace'], labeldistance=1.3)\n",
    "plt.xlabel = 'Acertos e erros do algoritmo com laplace'\n",
    "\n",
    "plt.legend(loc='lower left', bbox_to_anchor=(-0.1,0))\n",
    "plt.show()"
   ]
  },
  {
   "cell_type": "markdown",
   "metadata": {},
   "source": [
    "___\n",
    "### Concluindo"
   ]
  },
  {
   "cell_type": "code",
   "execution_count": null,
   "metadata": {},
   "outputs": [],
   "source": []
  },
  {
   "cell_type": "code",
   "execution_count": null,
   "metadata": {},
   "outputs": [],
   "source": []
  },
  {
   "cell_type": "code",
   "execution_count": null,
   "metadata": {},
   "outputs": [],
   "source": []
  },
  {
   "cell_type": "markdown",
   "metadata": {},
   "source": [
    "___\n",
    "### Qualidade do Classificador a partir de novas separações das mensagens entre Treinamento e Teste\n",
    "\n",
    "Caso for fazer esse item do Projeto"
   ]
  },
  {
   "cell_type": "code",
   "execution_count": null,
   "metadata": {},
   "outputs": [],
   "source": []
  },
  {
   "cell_type": "code",
   "execution_count": null,
   "metadata": {},
   "outputs": [],
   "source": []
  },
  {
   "cell_type": "code",
   "execution_count": null,
   "metadata": {},
   "outputs": [],
   "source": []
  },
  {
   "cell_type": "markdown",
   "metadata": {},
   "source": [
    "___\n",
    "## Aperfeiçoamento:\n",
    "\n",
    "Leia atentamente a rubrica colocada no enunciado do Projeto 1 (última página). <br>\n",
    "Trabalhos que conseguirem pelo menos conceito B vão evoluir em conceito dependendo da quantidade de itens avançados:\n",
    "\n",
    "* IMPLEMENTOU outras limpezas e transformações que não afetem a qualidade da informação contida nas mensagens, mas tendem a melhorar na classificação das mensagens. Ex: stemming, lemmatization, stopwords.\n",
    "* CONSIDEROU arquivo com três categorias na classificação das variáveis (OBRIGATÓRIO PARA QUARTETOS, sem contar como item avançado)\n",
    "* CONSTRUIU o cálculo das probabilidades corretamente utilizando bigramas E apresentou referência sobre o método utilizado.\n",
    "* EXPLICOU porquê não pode usar novas mensagens classificadas pelo próprio classificador como amostra de treinamento\n",
    "* PROPÔS diferentes cenários para Naïve Bayes fora do contexto do projeto (pelo menos dois cenários diferentes, exceto aqueles já apresentados em sala pelos professores: por exemplo, filtro de spam)\n",
    "* REFLETE criticamente sobre os resultados obtidos, identificando limitações do modelo e sugerindo possíveis melhorias ou diferentes abordagens com indicações concretas de como implementar (indicar como fazer e indicar material de pesquisa).\n",
    "* DOCUMENTOU bem o código, com explicações claras para cada etapa do processo, incluindo o raciocínio por trás das decisões de modelagem e das transformações de dados.\n"
   ]
  },
  {
   "cell_type": "markdown",
   "metadata": {},
   "source": [
    "___\n",
    "## Referências"
   ]
  },
  {
   "cell_type": "markdown",
   "metadata": {},
   "source": [
    "[Naive Bayes and Text Classification](https://arxiv.org/pdf/1410.5329.pdf)  **Mais completo**\n",
    "\n",
    "[A practical explanation of a Naive Bayes Classifier](https://monkeylearn.com/blog/practical-explanation-naive-bayes-classifier/) **Mais simples**"
   ]
  },
  {
   "cell_type": "code",
   "execution_count": null,
   "metadata": {},
   "outputs": [],
   "source": []
  }
 ],
 "metadata": {
  "kernelspec": {
   "display_name": "Python 3 (ipykernel)",
   "language": "python",
   "name": "python3"
  },
  "language_info": {
   "codemirror_mode": {
    "name": "ipython",
    "version": 3
   },
   "file_extension": ".py",
   "mimetype": "text/x-python",
   "name": "python",
   "nbconvert_exporter": "python",
   "pygments_lexer": "ipython3",
   "version": "3.11.7"
  }
 },
 "nbformat": 4,
 "nbformat_minor": 4
}
