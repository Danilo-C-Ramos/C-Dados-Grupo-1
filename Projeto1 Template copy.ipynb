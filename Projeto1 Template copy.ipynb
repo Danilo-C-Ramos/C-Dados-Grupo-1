{
 "cells": [
  {
   "cell_type": "markdown",
   "metadata": {},
   "source": [
    "# Projeto 1 - Ciência dos Dados"
   ]
  },
  {
   "cell_type": "markdown",
   "metadata": {},
   "source": [
    "Nome: Danilo Ramos\n",
    "\n",
    "Nome: Leonardo Veras\n",
    "\n",
    "Nome: Thomas Ganut"
   ]
  },
  {
   "cell_type": "markdown",
   "metadata": {},
   "source": [
    "___\n",
    "<div id=\"indice\"></div>\n",
    "\n",
    "# Índice\n",
    "  - [Montando um classificador Naive-Bayes](#naive)\n",
    "  - [Verificando a performance do Classificador](#performance)\n",
    "  - [Conclusão](#conclusao)"
   ]
  },
  {
   "cell_type": "markdown",
   "metadata": {},
   "source": [
    "___\n",
    "Carregando algumas bibliotecas:"
   ]
  },
  {
   "cell_type": "code",
   "execution_count": 25,
   "metadata": {},
   "outputs": [],
   "source": [
    "%matplotlib inline\n",
    "import pandas as pd\n",
    "import matplotlib.pyplot as plt\n",
    "import numpy as np\n",
    "import os\n",
    "from IPython.display import display\n",
    "import re"
   ]
  },
  {
   "cell_type": "markdown",
   "metadata": {},
   "source": [
    "Carregando a base de dados com as mensagens dos seus arquivos:"
   ]
  },
  {
   "cell_type": "code",
   "execution_count": 26,
   "metadata": {},
   "outputs": [
    {
     "name": "stdout",
     "output_type": "stream",
     "text": [
      "1800   (Tamanho das listas de treino e teste) \n"
     ]
    }
   ],
   "source": [
    "test = pd.read_csv('dados_teste_QUARTETO_Danilo_Leonardo_Thomas.csv')\n",
    "train = pd.read_csv('dados_treino_QUARTETO_Danilo_Leonardo_Thomas.csv')\n",
    "\n",
    "print(f'{len(test)}   (Tamanho das listas de treino e teste) ')"
   ]
  },
  {
   "cell_type": "markdown",
   "metadata": {},
   "source": [
    "___\n",
    "<div id=\"clas_auto\"></div>\n",
    "\n",
    "## Classificador automático\n"
   ]
  },
  {
   "cell_type": "markdown",
   "metadata": {},
   "source": [
    "Será desenvolvido um sistema automático, utilizando o Teorema de Bayes, para classificar textos científicos em física, química e biologia. Uma prova de conceito será implementada para treinar e testar o classificador, garantindo a separação clara dos textos nas respectivas áreas."
   ]
  },
  {
   "cell_type": "markdown",
   "metadata": {},
   "source": [
    "___\n",
    "<div id=\"naive\"></div>\n",
    "\n",
    "## Montando um Classificador Naive-Bayes"
   ]
  },
  {
   "cell_type": "markdown",
   "metadata": {},
   "source": [
    "Criando uma primeira função para limpar os dados:"
   ]
  },
  {
   "cell_type": "code",
   "execution_count": 27,
   "metadata": {},
   "outputs": [],
   "source": [
    "punctuation = '[´`\"!-.:?;$''^~)(&€™/]'\n",
    "\n",
    "def cleanup(text):\n",
    "    pattern = re.compile(punctuation)\n",
    "    text_subbed = re.sub(pattern, '', text).replace((\"\\\\n\"),' ')\n",
    "    return text_subbed"
   ]
  },
  {
   "cell_type": "markdown",
   "metadata": {},
   "source": [
    "Criando uma série palavra a palavra dos dados de treino e separando Stop Words:\n",
    "\n",
    "Stop words são palavras do idioma que não indicam nada por si só, apenas servem para construir uma frase com sentido, como as palavras \"there\", \"we\" e \"do\".\n",
    "\n",
    "É ums estratégia interessante fazer a retidade de Stop Words para melhorar a performance do nosso classificador, como está explícito no texto \"Naive Bayes and Text Classification I Introduction and Theory\" do autor Sebastian Raschka, disponível em: https://arxiv.org/pdf/1410.5329\n",
    "\n",
    "Ao mesmo tempo, foi considerado a estratégia de tolenização e N-gramas, mostradas no mesmo texto elencado acima."
   ]
  },
  {
   "cell_type": "code",
   "execution_count": 28,
   "metadata": {},
   "outputs": [
    {
     "name": "stdout",
     "output_type": "stream",
     "text": [
      "149064\n",
      "['the', 'to', 'a', 'of', 'and', 'is', 'i', 'in', 'it', 'you', 'that', 'for', 'be', 'are', 'with', 'not', 'but', 'have', 'on', 'this', 'as', 'or', 'can', 'your', 'would', 'if', 'from', 'just', 'an', 'like', 'so', 'at', 'the', 'was', 'they', 'more', 'its', 'my', 'what', 'about']\n"
     ]
    }
   ],
   "source": [
    "# Define stop words\n",
    "\n",
    "list_train: list = []\n",
    "\n",
    "n = 1 #Número de N-gramas\n",
    "\n",
    "for frase in train.Comment:\n",
    "    frase = cleanup(frase)\n",
    "    frase = frase.split()\n",
    "    if len(frase) < 1:  # Teste tirando as frases muito curtas - não fez diferença\n",
    "        continue\n",
    "    list_train.extend([' '.join(frase[i:i+n]) for i in range(len(frase)-n+1)])\n",
    "        \n",
    "serie_train = pd.Series(list_train)\n",
    "print(len(serie_train))\n",
    "tabela = serie_train.value_counts()\n",
    "\n",
    "stop_words = tabela.index[:40].tolist()\n",
    "for i in range(len(stop_words)):\n",
    "    stop_words[i] = stop_words[i].lower()\n",
    "print(stop_words)\n"
   ]
  },
  {
   "cell_type": "code",
   "execution_count": 29,
   "metadata": {},
   "outputs": [],
   "source": [
    "#Preparando uma função de limpeza das frases com as Stop Words\n",
    "\n",
    "def cleanup_stopwords(frase, stop_words):\n",
    "    pattern = re.compile(punctuation)\n",
    "    text_subbed = re.sub(pattern, '', frase.lower())\n",
    "    text_subbed = text_subbed.replace((\"\\\\n\"),' ').replace((\"\\n\"),' ')\n",
    "    for palavra in stop_words:\n",
    "        text_subbed = text_subbed.replace((f' {palavra} '), ' ')\n",
    "\n",
    "    return text_subbed\n",
    "\n",
    "# print(cleanup_stopwords(' be able to a to I of and is in probably partially true thank you '))"
   ]
  },
  {
   "cell_type": "code",
   "execution_count": 30,
   "metadata": {},
   "outputs": [],
   "source": [
    "# Limpando os dados de treinamento\n",
    "for i, frase in enumerate(train.Comment):\n",
    "    train.Comment[i] = cleanup_stopwords(frase.lower(), stop_words)\n",
    "\n",
    "# Construindo uma série de N-gramas baseado nos dados de treino limpos\n",
    "\n",
    "list_train: list = []\n",
    "\n",
    "for frase in test.Comment:\n",
    "    frase = frase.split()\n",
    "    list_train.extend([' '.join(frase[i:i+n]) for i in range(len(frase)-n+1)])\n",
    "        \n",
    "serie_train = pd.Series(list_train)\n",
    "\n",
    "\n",
    "\n",
    "# serie_train.value_counts(True)"
   ]
  },
  {
   "cell_type": "code",
   "execution_count": 31,
   "metadata": {},
   "outputs": [],
   "source": [
    "#Separando as matérias do dataframe com filtros\n",
    "\n",
    "train_physics = train.loc[train.Topic == 'Physics']\n",
    "train_biology = train.loc[train.Topic == 'Biology']\n",
    "train_chemistry = train.loc[train.Topic == 'Chemistry']"
   ]
  },
  {
   "cell_type": "code",
   "execution_count": 32,
   "metadata": {},
   "outputs": [],
   "source": [
    "# Função para transformar frases em lista de palavras\n",
    "def frase_para_palavras(lista_frases):\n",
    "    lista_palavras = []\n",
    "    for frase in lista_frases:\n",
    "        lista_palavras.extend(frase.split())\n",
    "    return lista_palavras\n",
    "\n",
    "# Gerando as listas de palavras por tópico\n",
    "lista_physics = frase_para_palavras(train_physics.Comment)\n",
    "lista_biology = frase_para_palavras(train_biology.Comment)\n",
    "lista_chemistry = frase_para_palavras(train_chemistry.Comment)\n",
    "\n",
    "# Criando séries de frequência de N-gramas\n",
    "serie_physics = pd.Series(lista_physics)\n",
    "serie_biology = pd.Series(lista_biology)\n",
    "serie_chemistry = pd.Series(lista_chemistry)\n"
   ]
  },
  {
   "cell_type": "code",
   "execution_count": null,
   "metadata": {},
   "outputs": [],
   "source": []
  },
  {
   "cell_type": "markdown",
   "metadata": {},
   "source": [
    "Para o algoritmo de Naive-Bayes, precisamos das probabilidades a prióri das respectivas classes possíveis, construimos isso baseado nas quantidades de palavras de cada tópico (classe) dividido pela quantidade de palavras totais, resultando na probabilidade a prióri de uma palavra pertencer a respectiva classe."
   ]
  },
  {
   "cell_type": "code",
   "execution_count": 33,
   "metadata": {},
   "outputs": [
    {
     "name": "stdout",
     "output_type": "stream",
     "text": [
      "P(C): 0.420, P(B): 0.533, P(P): 0.441\n",
      "P(C) + P(B) + P(P) = 1.39\n"
     ]
    }
   ],
   "source": [
    "P_C = len(serie_chemistry)/len(serie_train)\n",
    "P_B = len(serie_biology)/len(serie_train)\n",
    "P_P = len(serie_physics)/len(serie_train)\n",
    "\n",
    "print(f'P(C): {P_C:.3f}, P(B): {P_B:.3f}, P(P): {P_P:.3f}')\n",
    "print(f'P(C) + P(B) + P(P) = {P_C + P_B + P_P:.2f}')"
   ]
  },
  {
   "cell_type": "markdown",
   "metadata": {},
   "source": [
    "Com os dados tratados e as probabilidades a prióri calculadas, construimos o número de palavras no vocabulário dos dados, em conjunto com as tabelas e somatórias das frequências de palavras para cada classe. "
   ]
  },
  {
   "cell_type": "code",
   "execution_count": 34,
   "metadata": {},
   "outputs": [],
   "source": [
    "# Treinamento\n",
    "tabela_c_relativa = serie_chemistry.value_counts(True)\n",
    "tabela_p_relativa = serie_physics.value_counts(True)\n",
    "tabela_b_relativa = serie_biology.value_counts(True)\n",
    "\n",
    "voc = tabela.count()\n",
    "\n",
    "# Physics\n",
    "tabela_P_raw = serie_physics.value_counts()\n",
    "tabela_P_freq = tabela_P_raw.sum()\n",
    "tabela_P_voc = tabela_P_raw.count()\n",
    "\n",
    "# Chemistry\n",
    "tabela_C_raw = serie_chemistry.value_counts()\n",
    "tabela_C_freq = tabela_C_raw.sum()\n",
    "tabela_C_voc = tabela_C_raw.count()\n",
    "\n",
    "# Biology\n",
    "tabela_B_raw = serie_biology.value_counts()\n",
    "tabela_B_freq = tabela_B_raw.sum()\n",
    "tabela_B_voc = tabela_B_raw.count()\n"
   ]
  },
  {
   "cell_type": "markdown",
   "metadata": {},
   "source": [
    "A partir desses dados tratados, construimos uma função que efetivamente classifica uma frase recebida de acordo com o Naive-Bayes que treinamos. \n",
    "\n",
    "Para reverter o problema de palavras que não estão nos dados de treinamento, utilizamos primeiramente uma aproximação a uma probabilidade menor que as palavras que menos apareciam nas classes, em um primeiro algoritmo, depois melhoramos essa função para calcular as probabiliaddes de acordo com a suavização de laplace.\n",
    "\n",
    "A suavização de Laplace pode ser entendida com o texto \"Natural Language Processing(Part 17)-Laplacian Smoothing\" de autoria da Coursesteach, disponível em: https://medium.com/@Coursesteach/natural-language-processing-part-17-laplacian-smoothing-7d4be71d0ded"
   ]
  },
  {
   "cell_type": "code",
   "execution_count": 35,
   "metadata": {},
   "outputs": [],
   "source": [
    "#Algoritmo com aproximação estimada\n",
    "def algoritmo_1(frase: str) -> str:\n",
    "    probPalavraDadoP = probPalavraDadoC = probPalavraDadoB = 1\n",
    "    \n",
    "    for palavra in frase.split():\n",
    "        probPalavraDadoB *= tabela_b_relativa.get(palavra, 1e-6)\n",
    "        probPalavraDadoP *= tabela_p_relativa.get(palavra, 1e-6)\n",
    "        probPalavraDadoC *= tabela_c_relativa.get(palavra, 1e-6)\n",
    "\n",
    "    prob_P_dado_frase = probPalavraDadoP * P_P\n",
    "    prob_C_dado_frase = probPalavraDadoC * P_C\n",
    "    prob_B_dado_frase = probPalavraDadoB * P_B\n",
    "\n",
    "    if  prob_P_dado_frase > prob_C_dado_frase:\n",
    "        if prob_P_dado_frase > prob_B_dado_frase:\n",
    "            return 'Physics'\n",
    "        else:\n",
    "            return 'Biology'\n",
    "    else:\n",
    "        if prob_C_dado_frase > prob_B_dado_frase:\n",
    "            return 'Chemistry'\n",
    "        else:\n",
    "            return 'Biology'"
   ]
  },
  {
   "cell_type": "code",
   "execution_count": 36,
   "metadata": {},
   "outputs": [],
   "source": [
    "#Algoritmo com Laplace calculado normalmente\n",
    "def algoritmo_laplace(frase: str):\n",
    "    alpha = 1 # Suavizador de Laplace\n",
    "    probPalavraDadoP = probPalavraDadoC = probPalavraDadoB = 1\n",
    "\n",
    "    for palavra in frase.split():\n",
    "        probPalavraDadoB *= (tabela_B_raw.get(palavra, 0) + alpha) / (tabela_B_freq + alpha * voc)\n",
    "\n",
    "        probPalavraDadoP *= (tabela_P_raw.get(palavra, 0) + alpha) / (tabela_P_freq + alpha * voc)\n",
    "\n",
    "        probPalavraDadoC *= (tabela_C_raw.get(palavra, 0) + alpha) / (tabela_C_freq + alpha * voc)\n",
    "\n",
    "             \n",
    "    prob_P_dado_frase = probPalavraDadoP * P_P\n",
    "    prob_C_dado_frase = probPalavraDadoC * P_C\n",
    "    prob_B_dado_frase = probPalavraDadoB * P_B\n",
    "\n",
    "    if  prob_P_dado_frase > prob_C_dado_frase:\n",
    "        if prob_P_dado_frase > prob_B_dado_frase:\n",
    "            return 'Physics'\n",
    "        else:\n",
    "            return 'Biology'\n",
    "    else:\n",
    "        if prob_C_dado_frase > prob_B_dado_frase:\n",
    "            return 'Chemistry'\n",
    "        else:\n",
    "            return 'Biology'"
   ]
  },
  {
   "cell_type": "code",
   "execution_count": 37,
   "metadata": {},
   "outputs": [],
   "source": [
    "# Algoritmo com Laplace utilizando log-probabilidades para melhor calculo da máquina\n",
    "def algoritmo_laplace_log(frase: str, alpha=1):\n",
    "    lista_palavras = frase.split()\n",
    "    \n",
    "    # Inicializar log-probabilidades com log das probabilidades das classes\n",
    "    log_prob_P = np.log(P_P)\n",
    "    log_prob_C = np.log(P_C)\n",
    "    log_prob_B = np.log(P_B)\n",
    "    \n",
    "    for palavra in lista_palavras:\n",
    "        count_p = tabela_P_raw.get(palavra, 0)\n",
    "        log_prob_P += np.log((count_p + alpha) / (tabela_P_freq + alpha * voc))\n",
    "        \n",
    "        count_c = tabela_C_raw.get(palavra, 0)\n",
    "        log_prob_C += np.log((count_c + alpha) / (tabela_C_freq + alpha * voc))\n",
    "        \n",
    "        count_b = tabela_B_raw.get(palavra, 0)\n",
    "        log_prob_B += np.log((count_b + alpha) / (tabela_B_freq + alpha * voc))\n",
    "    \n",
    "    if log_prob_P > log_prob_C:\n",
    "        if log_prob_P > log_prob_B:\n",
    "            return 'Physics'\n",
    "        else:\n",
    "            return 'Biology'\n",
    "    else:\n",
    "        if log_prob_C > log_prob_B:\n",
    "            return 'Chemistry'\n",
    "        else:\n",
    "            return 'Biology'"
   ]
  },
  {
   "cell_type": "markdown",
   "metadata": {},
   "source": [
    "[Voltar ao Índice](#indice)"
   ]
  },
  {
   "cell_type": "markdown",
   "metadata": {},
   "source": [
    "___\n",
    "<div id=\"performance\"></div>\n",
    "\n",
    "### Verificando a performance do Classificador"
   ]
  },
  {
   "cell_type": "code",
   "execution_count": 38,
   "metadata": {},
   "outputs": [],
   "source": [
    "validacao = test.copy()\n",
    "validacao['algo1_certa'] = False\n",
    "validacao['algoL_certa'] = False\n",
    "validacao['algoL_log_certa'] = False\n",
    "\n",
    "validacao['algo1'] = 'NaN'\n",
    "validacao['algoL'] = 'NaN'\n",
    "validacao['algoL_log'] = 'NaN'\n",
    "\n",
    "for i, frase in enumerate(test.Comment):\n",
    "    frase = cleanup_stopwords(frase, stop_words)\n",
    "    validacao.loc[i, 'algo1'] = algoritmo_1(frase)\n",
    "    validacao.loc[i, 'algoL'] = algoritmo_laplace(frase)\n",
    "    validacao.loc[i, 'algoL_log'] = algoritmo_laplace_log(frase)\n",
    "  \n",
    "    if validacao.loc[i, 'algo1'] == validacao.loc[i, 'Topic']:\n",
    "        validacao.loc[i, 'algo1_certa'] = True\n",
    "\n",
    "    if validacao.loc[i, 'algoL'] == validacao.loc[i, 'Topic']:\n",
    "        validacao.loc[i, 'algoL_certa'] = True\n",
    "\n",
    "    if validacao.loc[i, 'algoL_log'] == validacao.loc[i, 'Topic']:\n",
    "        validacao.loc[i, 'algoL_log_certa'] = True\n"
   ]
  },
  {
   "cell_type": "code",
   "execution_count": 39,
   "metadata": {},
   "outputs": [
    {
     "name": "stdout",
     "output_type": "stream",
     "text": [
      "Acertos sem Laplace: \n",
      "69.83%\n",
      "\n",
      "Acertos com Laplace:\n",
      "70.22%\n",
      "\n",
      "Acertos com Laplace com log:\n",
      "72.22222222222221%\n"
     ]
    }
   ],
   "source": [
    "acertos_algo1 = validacao.algo1_certa.value_counts(True)\n",
    "acertos_algoL = validacao.algoL_certa.value_counts(True)\n",
    "acertos_algoL_log = validacao.algoL_log_certa.value_counts(True)\n",
    "\n",
    "print('Acertos sem Laplace: ')\n",
    "print(f'{acertos_algo1[True]*100:.2f}%')\n",
    "print('\\nAcertos com Laplace:')\n",
    "print(f'{acertos_algoL[True]*100:.2f}%')\n",
    "print('\\nAcertos com Laplace com log:')\n",
    "print(f'{acertos_algoL_log[True]*100}%')"
   ]
  },
  {
   "cell_type": "code",
   "execution_count": 40,
   "metadata": {},
   "outputs": [
    {
     "data": {
      "text/html": [
       "<div>\n",
       "<style scoped>\n",
       "    .dataframe tbody tr th:only-of-type {\n",
       "        vertical-align: middle;\n",
       "    }\n",
       "\n",
       "    .dataframe tbody tr th {\n",
       "        vertical-align: top;\n",
       "    }\n",
       "\n",
       "    .dataframe thead th {\n",
       "        text-align: right;\n",
       "    }\n",
       "</style>\n",
       "<table border=\"1\" class=\"dataframe\">\n",
       "  <thead>\n",
       "    <tr style=\"text-align: right;\">\n",
       "      <th>algo1_certa</th>\n",
       "      <th>False</th>\n",
       "      <th>True</th>\n",
       "    </tr>\n",
       "    <tr>\n",
       "      <th>Topic</th>\n",
       "      <th></th>\n",
       "      <th></th>\n",
       "    </tr>\n",
       "  </thead>\n",
       "  <tbody>\n",
       "    <tr>\n",
       "      <th>Biology</th>\n",
       "      <td>148</td>\n",
       "      <td>589</td>\n",
       "    </tr>\n",
       "    <tr>\n",
       "      <th>Chemistry</th>\n",
       "      <td>213</td>\n",
       "      <td>385</td>\n",
       "    </tr>\n",
       "    <tr>\n",
       "      <th>Physics</th>\n",
       "      <td>182</td>\n",
       "      <td>283</td>\n",
       "    </tr>\n",
       "  </tbody>\n",
       "</table>\n",
       "</div>"
      ],
      "text/plain": [
       "algo1_certa  False  True \n",
       "Topic                    \n",
       "Biology        148    589\n",
       "Chemistry      213    385\n",
       "Physics        182    283"
      ]
     },
     "metadata": {},
     "output_type": "display_data"
    },
    {
     "data": {
      "text/html": [
       "<div>\n",
       "<style scoped>\n",
       "    .dataframe tbody tr th:only-of-type {\n",
       "        vertical-align: middle;\n",
       "    }\n",
       "\n",
       "    .dataframe tbody tr th {\n",
       "        vertical-align: top;\n",
       "    }\n",
       "\n",
       "    .dataframe thead th {\n",
       "        text-align: right;\n",
       "    }\n",
       "</style>\n",
       "<table border=\"1\" class=\"dataframe\">\n",
       "  <thead>\n",
       "    <tr style=\"text-align: right;\">\n",
       "      <th>algoL_certa</th>\n",
       "      <th>False</th>\n",
       "      <th>True</th>\n",
       "    </tr>\n",
       "    <tr>\n",
       "      <th>Topic</th>\n",
       "      <th></th>\n",
       "      <th></th>\n",
       "    </tr>\n",
       "  </thead>\n",
       "  <tbody>\n",
       "    <tr>\n",
       "      <th>Biology</th>\n",
       "      <td>145</td>\n",
       "      <td>592</td>\n",
       "    </tr>\n",
       "    <tr>\n",
       "      <th>Chemistry</th>\n",
       "      <td>212</td>\n",
       "      <td>386</td>\n",
       "    </tr>\n",
       "    <tr>\n",
       "      <th>Physics</th>\n",
       "      <td>179</td>\n",
       "      <td>286</td>\n",
       "    </tr>\n",
       "  </tbody>\n",
       "</table>\n",
       "</div>"
      ],
      "text/plain": [
       "algoL_certa  False  True \n",
       "Topic                    \n",
       "Biology        145    592\n",
       "Chemistry      212    386\n",
       "Physics        179    286"
      ]
     },
     "metadata": {},
     "output_type": "display_data"
    },
    {
     "data": {
      "text/html": [
       "<div>\n",
       "<style scoped>\n",
       "    .dataframe tbody tr th:only-of-type {\n",
       "        vertical-align: middle;\n",
       "    }\n",
       "\n",
       "    .dataframe tbody tr th {\n",
       "        vertical-align: top;\n",
       "    }\n",
       "\n",
       "    .dataframe thead th {\n",
       "        text-align: right;\n",
       "    }\n",
       "</style>\n",
       "<table border=\"1\" class=\"dataframe\">\n",
       "  <thead>\n",
       "    <tr style=\"text-align: right;\">\n",
       "      <th>algoL_log_certa</th>\n",
       "      <th>False</th>\n",
       "      <th>True</th>\n",
       "    </tr>\n",
       "    <tr>\n",
       "      <th>Topic</th>\n",
       "      <th></th>\n",
       "      <th></th>\n",
       "    </tr>\n",
       "  </thead>\n",
       "  <tbody>\n",
       "    <tr>\n",
       "      <th>Biology</th>\n",
       "      <td>151</td>\n",
       "      <td>586</td>\n",
       "    </tr>\n",
       "    <tr>\n",
       "      <th>Chemistry</th>\n",
       "      <td>195</td>\n",
       "      <td>403</td>\n",
       "    </tr>\n",
       "    <tr>\n",
       "      <th>Physics</th>\n",
       "      <td>154</td>\n",
       "      <td>311</td>\n",
       "    </tr>\n",
       "  </tbody>\n",
       "</table>\n",
       "</div>"
      ],
      "text/plain": [
       "algoL_log_certa  False  True \n",
       "Topic                        \n",
       "Biology            151    586\n",
       "Chemistry          195    403\n",
       "Physics            154    311"
      ]
     },
     "metadata": {},
     "output_type": "display_data"
    },
    {
     "name": "stdout",
     "output_type": "stream",
     "text": [
      " Taxa de acertos em biologia com Laplace: 0.8032564450474898 \n",
      " Taxa de acertos em biologia sem Laplace: 0.7991858887381276\n",
      "\n",
      "\n",
      " Taxa de acertos em física com Laplace: 0.6150537634408603 \n",
      " Taxa de acertos em física sem Laplace: 0.6086021505376344\n",
      "\n",
      "\n",
      " Taxa de acertos em química com Laplace: 0.6454849498327759 \n",
      " Taxa de acertos em química sem Laplace: 0.6438127090301003\n"
     ]
    }
   ],
   "source": [
    "# Exibe as tabelas de contingência para as previsões dos algoritmos\n",
    "display(pd.crosstab(test.Topic, validacao.algo1_certa))\n",
    "display(pd.crosstab(test.Topic, validacao.algoL_certa))\n",
    "display(pd.crosstab(test.Topic, validacao.algoL_log_certa))\n",
    "\n",
    "# Calcula as taxas de acerto para os algoritmos\n",
    "taxa_acerto_1 = [validacao.algo1_certa.value_counts(True).iloc[0], validacao.algo1_certa.value_counts(True).iloc[1]]\n",
    "taxa_acerto_L = [validacao.algoL_certa.value_counts().iloc[0], validacao.algoL_certa.value_counts().iloc[1]]\n",
    "taxa_acerto_L_log = [validacao.algoL_log_certa.value_counts(True).iloc[0], validacao.algoL_log_certa.value_counts(True).iloc[1]]\n",
    "\n",
    "# Análise para Biologia\n",
    "validacao_biologia = validacao.loc[validacao.Topic == 'Biology']\n",
    "taxa_acerto_bio_L = validacao_biologia.algoL.value_counts(True).iloc[0]\n",
    "validacao_biologia_algoL_acertos = validacao_biologia.algoL.value_counts().iloc[0]\n",
    "taxa_acerto_bio_1 = validacao_biologia.algo1.value_counts(True).iloc[0]\n",
    "print(f' Taxa de acertos em biologia com Laplace: {taxa_acerto_bio_L}', '\\n', f'Taxa de acertos em biologia sem Laplace: {taxa_acerto_bio_1}')\n",
    "print('\\n')\n",
    "\n",
    "# Análise para Física\n",
    "validacao_physics = validacao.loc[validacao.Topic == 'Physics']\n",
    "taxa_acerto_ph_L = validacao_physics.algoL.value_counts(True).iloc[0]\n",
    "taxa_acerto_ph_1 = validacao_physics.algo1.value_counts(True).iloc[0]\n",
    "print(f' Taxa de acertos em física com Laplace: {taxa_acerto_ph_L}', '\\n', f'Taxa de acertos em física sem Laplace: {taxa_acerto_ph_1}')\n",
    "print('\\n')\n",
    "\n",
    "# Análise para Química\n",
    "validacao_chemistry = validacao.loc[validacao.Topic == 'Chemistry']\n",
    "taxa_acerto_ch_L = validacao_chemistry.algoL.value_counts(True).iloc[0]\n",
    "taxa_acerto_ch_1 = validacao_chemistry.algo1.value_counts(True).iloc[0]\n",
    "print(f' Taxa de acertos em química com Laplace: {taxa_acerto_ch_L}', '\\n', f'Taxa de acertos em química sem Laplace: {taxa_acerto_ch_1}')\n"
   ]
  },
  {
   "cell_type": "code",
   "execution_count": 41,
   "metadata": {},
   "outputs": [
    {
     "data": {
      "text/html": [
       "<div>\n",
       "<style scoped>\n",
       "    .dataframe tbody tr th:only-of-type {\n",
       "        vertical-align: middle;\n",
       "    }\n",
       "\n",
       "    .dataframe tbody tr th {\n",
       "        vertical-align: top;\n",
       "    }\n",
       "\n",
       "    .dataframe thead th {\n",
       "        text-align: right;\n",
       "    }\n",
       "</style>\n",
       "<table border=\"1\" class=\"dataframe\">\n",
       "  <thead>\n",
       "    <tr style=\"text-align: right;\">\n",
       "      <th>Topic</th>\n",
       "      <th>Biology</th>\n",
       "    </tr>\n",
       "    <tr>\n",
       "      <th>algoL_certa</th>\n",
       "      <th></th>\n",
       "    </tr>\n",
       "  </thead>\n",
       "  <tbody>\n",
       "    <tr>\n",
       "      <th>False</th>\n",
       "      <td>145</td>\n",
       "    </tr>\n",
       "    <tr>\n",
       "      <th>True</th>\n",
       "      <td>592</td>\n",
       "    </tr>\n",
       "  </tbody>\n",
       "</table>\n",
       "</div>"
      ],
      "text/plain": [
       "Topic        Biology\n",
       "algoL_certa         \n",
       "False            145\n",
       "True             592"
      ]
     },
     "metadata": {},
     "output_type": "display_data"
    },
    {
     "data": {
      "text/plain": [
       "<Figure size 640x480 with 0 Axes>"
      ]
     },
     "metadata": {},
     "output_type": "display_data"
    },
    {
     "data": {
      "image/png": "[encoded data removed]",
      "text/plain": [
       "<Figure size 900x600 with 1 Axes>"
      ]
     },
     "metadata": {},
     "output_type": "display_data"
    }
   ],
   "source": [
    "cross_L = pd.crosstab(validacao_biologia.Topic, validacao_biologia.algoL_certa)\n",
    "display(pd.crosstab(validacao_biologia.algoL_certa, validacao_biologia.Topic))\n",
    "plt.figure()\n",
    "\n",
    "fig, ax = plt.subplots(figsize=(9, 6))\n",
    "\n",
    "categorias = ['Biologia acertos', 'Biologia erros', 'Física acertos', 'Física erros', 'Química acertos', 'Química erros']\n",
    "posicoes = np.arange(1,len(categorias) + 1)\n",
    "\n",
    "ax.bar(1, taxa_acerto_bio_1 *100, edgecolor='black', color='limegreen')\n",
    "ax.bar(2, ((1 - taxa_acerto_bio_1)*100),edgecolor='black', color='darkgreen')\n",
    "\n",
    "ax.bar(3, taxa_acerto_ph_1*100, edgecolor='black', color='Red')\n",
    "ax.bar(4, ((1 - taxa_acerto_ph_1)*100),edgecolor='black', color='darkred')\n",
    "\n",
    "ax.bar(5, taxa_acerto_ch_1*100, edgecolor='black', color='royalblue')\n",
    "ax.bar(6, ((1 - taxa_acerto_ch_1)*100), edgecolor='black', color='navy')\n",
    "\n",
    "ax.bar(7, taxa_acerto_1[0] *100, edgecolor='black', color='orange')\n",
    "ax.bar(8, (taxa_acerto_1[1] *100), edgecolor='black', color='navy')\n",
    "\n",
    "ax.set_facecolor('lightgray')\n",
    "\n",
    "# ax.pie(taxa_acerto_1, colors=['Green','Blue'], radius=0.4, center=(7, 0.4),\n",
    "#        wedgeprops={\"linewidth\": 1, \"edgecolor\": \"white\"}, frame=True)\n",
    "\n",
    "ax.set_ylim(0, 100)\n",
    "plt.xticks(posicoes, categorias, ha='center')\n",
    "plt.title('Gráfico de Acertos e Erros por Disciplina calculado pelo modelo sem laplace')\n",
    "plt.tight_layout()  # Ajusta para evitar sobreposição\n",
    "\n",
    "\n",
    "plt.show()"
   ]
  },
  {
   "cell_type": "code",
   "execution_count": 42,
   "metadata": {},
   "outputs": [
    {
     "data": {
      "text/html": [
       "<div>\n",
       "<style scoped>\n",
       "    .dataframe tbody tr th:only-of-type {\n",
       "        vertical-align: middle;\n",
       "    }\n",
       "\n",
       "    .dataframe tbody tr th {\n",
       "        vertical-align: top;\n",
       "    }\n",
       "\n",
       "    .dataframe thead th {\n",
       "        text-align: right;\n",
       "    }\n",
       "</style>\n",
       "<table border=\"1\" class=\"dataframe\">\n",
       "  <thead>\n",
       "    <tr style=\"text-align: right;\">\n",
       "      <th>Topic</th>\n",
       "      <th>Biology</th>\n",
       "    </tr>\n",
       "    <tr>\n",
       "      <th>algoL_certa</th>\n",
       "      <th></th>\n",
       "    </tr>\n",
       "  </thead>\n",
       "  <tbody>\n",
       "    <tr>\n",
       "      <th>False</th>\n",
       "      <td>145</td>\n",
       "    </tr>\n",
       "    <tr>\n",
       "      <th>True</th>\n",
       "      <td>592</td>\n",
       "    </tr>\n",
       "  </tbody>\n",
       "</table>\n",
       "</div>"
      ],
      "text/plain": [
       "Topic        Biology\n",
       "algoL_certa         \n",
       "False            145\n",
       "True             592"
      ]
     },
     "metadata": {},
     "output_type": "display_data"
    },
    {
     "data": {
      "text/plain": [
       "<Figure size 640x480 with 0 Axes>"
      ]
     },
     "metadata": {},
     "output_type": "display_data"
    },
    {
     "data": {
      "image/png": "[encoded data removed]",
      "text/plain": [
       "<Figure size 1000x600 with 1 Axes>"
      ]
     },
     "metadata": {},
     "output_type": "display_data"
    }
   ],
   "source": [
    "cross_L = pd.crosstab(validacao_biologia.Topic, validacao_biologia.algoL_certa)\n",
    "display(pd.crosstab(validacao_biologia.algoL_certa, validacao_biologia.Topic))\n",
    "plt.figure()\n",
    "\n",
    "fig, ax = plt.subplots(figsize=(10, 6))\n",
    "\n",
    "categorias = ['Biologia acertos', 'Biologia erros', 'Física acertos', 'Física erros', 'Química acertos', 'Química erros']\n",
    "posicoes = np.arange(1,len(categorias) + 1)\n",
    "\n",
    "ax.bar(1, taxa_acerto_bio_L *100, edgecolor='black', color='limegreen')\n",
    "ax.bar(2, ((1 - taxa_acerto_bio_L)*100),edgecolor='black', color='darkgreen')\n",
    "\n",
    "ax.bar(3, taxa_acerto_ph_L*100, edgecolor='black', color='Red')\n",
    "ax.bar(4, ((1 - taxa_acerto_ph_L)*100),edgecolor='black', color='darkred')\n",
    "\n",
    "ax.bar(5, taxa_acerto_ch_L*100, edgecolor='black', color='royalblue')\n",
    "ax.bar(6, ((1 - taxa_acerto_ch_L)*100), edgecolor='black', color='navy')\n",
    "\n",
    "ax.bar(7, taxa_acerto_L_log[0] *100, edgecolor='black', color='orange')\n",
    "ax.bar(8, (taxa_acerto_L_log[1] *100), edgecolor='black', color='navy')\n",
    "\n",
    "ax.set_facecolor('lightgray')\n",
    "\n",
    "ax.set_ylim(0, 100)\n",
    "plt.xticks(posicoes, categorias, ha='center')\n",
    "plt.title('Gráfico de Acertos e Erros por Disciplina calculado pelo modelo com laplace')\n",
    "plt.tight_layout()  # Ajusta para evitar sobreposição\n",
    "\n",
    "plt.show()"
   ]
  },
  {
   "cell_type": "code",
   "execution_count": 44,
   "metadata": {},
   "outputs": [
    {
     "name": "stdout",
     "output_type": "stream",
     "text": [
      "1\n",
      "['the', 'to', 'a', 'of', 'and', 'is', 'you', 'in', 'it', 'i', 'that', 'for', 'are', 'be', 'this', 'i', 'but', 'not', 'me', 'with', 'other', 'have', 'them', 'time', 'could', 'on', 'much', 'as', 'only', 'people', 'very', 'even', 'into', 'make', 'any', 'way', 'if', 'or', 'really', 'your']\n",
      "2\n",
      "['the', 'to', 'a', 'of', 'and', 'is', 'in', 'i', 'you', 'that', 'it', 'for', 'are', 'be', 'but', 'with', 'not', 'have', 'on', 'as', 'this', 'or', 'your', 'can', 'an', 'would', 'if', 'was', 'from', 'just', 'so', 'like', 'at', 'they', 'more', 'my', 'we', 'about', 'what', 'the']\n",
      "3\n",
      "['of the', 'in the', 'to the', 'alan alan alan', 'to be', 'is a', 'on the', 'in a', 'for the', 'it is', 'the same', 'is the', 'if you', 'have a', 'i think', 'and the', 'you are', 'of a', 'with a', 'from the', 'you can', 'a lot', 'would be', 'with the', 'want to', 'have to', 'is not', 'for a', 'you have', 'if you', 'this is', 'i have', 'need to', 'can be', 'going to', 'that the', 'lot of', 'it was', 'as a', 'they are']\n",
      "4\n",
      "['a lot of', 'alan alan alan alan', 'one of the', 'you want to', 'it would be', 'part of the', 'going to be', 'the speed of', 'you have a', 'be able to', 'there is no', 'you have to', \"i don't know\", 'not going to', 'you need to', 'the amount of', 'is one of', 'is going to', 'i have a', 'to be a', 'as well as', 'i don’t think', 'that can be', 'as long as', 'what do you', 'this is a', 'in order to', 'i think it', 'have to be', 'to get a', 'it is not', 'the point of', 'i was just', 'to have a', 'out of the', 'the rest of', 'would be a', 'i think you', 'it was a', 'if you want']\n",
      "5\n",
      "['is one of the', 'what do you mean', 'if you want to', 'to be able to', 'is going to be', '[faq]httpswwwredditcomrwikisummarizerwikiindexwiki_faq | [opt out]httpsredditcommessagecomposeto=wikisummarizerbotmessage=optoutsubject=optout |', '] downvote remove | v15', 'the speed of light.', 'with a valence of', '[ [faq]httpswwwredditcomrwikisummarizerwikiindexwiki_faq | [opt out]httpsredditcommessagecomposeto=wikisummarizerbotmessage=optoutsubject=optout', '| [opt out]httpsredditcommessagecomposeto=wikisummarizerbotmessage=optoutsubject=optout | [opt', '| [github]httpsgithubcomsujal7wikisummarizerbot ] downvote remove', '[github]httpsgithubcomsujal7wikisummarizerbot ] downvote remove |', 'the energy required to', 'than the speed of', 'alan alan alan alan alan', 'faster than the speed', 'far as i know,', 'energy required to capture', 'in your brain or', 'sucks don’t live long it’s', 'fatty acids in the', 'as far as i', 'your brain or heart', 'a lot of the', 'aliphatic o (or s)', 'if you have a', 'the mass of the', 'since most dragonflies active summer', 'lifecycle since most dragonflies active', 'his lifecycle since most dragonflies', 'part his lifecycle since most', 'natural part his lifecycle since', 'probably natural part his lifecycle', 'it’s probably natural part his', 'long it’s probably natural part', 'live long it’s probably natural', 'o (or s) with', 'don’t live long it’s probably', 'the rest of the']\n",
      "6\n",
      "['faster than the speed of', 'as far as i know,', 'aliphatic o (or s) with', 'the energy required to capture', 'in your brain or heart', 'redirected raskphysics rhomeworkhelp neither asking nor', 'should redirected raskphysics rhomeworkhelp neither asking', 'calculations should redirected raskphysics rhomeworkhelp neither', 'problems calculations should redirected raskphysics rhomeworkhelp', 'aliphatic n with a valence', 'any aliphatic n with a', 'there are a lot of', 'raskphysics rhomeworkhelp neither asking nor assisting', 'than the speed of light.', 'the news. (sanofi, merck and', 'in the news. (sanofi, merck', 'n with a valence of', 'by independent review boards and', 'less in the news. (sanofi,', \"but that's less in the\", \"too, but that's less in\", \"vaccines too, but that's less\", \"covid vaccines too, but that's\", 'mrna covid vaccines too, but', 'failed mrna covid vaccines too,', 'been failed mrna covid vaccines', 'also been failed mrna covid', 'has also been failed mrna', 'there has also been failed', 'interest. there has also been', 'of interest. there has also', \"that's less in the news.\", 'neither asking nor assisting homework allowed', 'rhomeworkhelp neither asking nor assisting homework', 'anything. but the adverse events', 'is no such thing as', 'there is no such thing', 'what do you mean by', 'readily available for you to', 'are readily available for you']\n",
      "7\n",
      "['bad flu going around this year,', 'anything. but the adverse events of', \"can't speak on this particular local\", \"speak on this particular local doctor's\", \"on this particular local doctor's experience\", \"this particular local doctor's experience or\", \"particular local doctor's experience or anything.\", \"local doctor's experience or anything. but\", \"doctor's experience or anything. but the\", 'experience or anything. but the adverse', 'or anything. but the adverse events', 'but the adverse events of the', 'and whenever something needs to be', 'the adverse events of the vaccines', 'adverse events of the vaccines are', 'events of the vaccines are readily', 'of the vaccines are readily available', 'the vaccines are readily available for', 'vaccines are readily available for you', 'are readily available for you to', 'copy of the dna is made', 'of the dna is made and', 'a copy of the dna is', 'expressed, a copy of the dna', 'be expressed, a copy of the', 'to be expressed, a copy of', 'good bot | [info]httpswwwredditcomuserredditbookbot | [more books]httpsoldredditcomuserredditbookbotcommentsi15x1dfull_list_of_books_and_commands', 'there is no such thing as', 'something needs to be expressed, a', \"going around this year, that's true\", \"flu going around this year, that's\", 'shot. as far as i know,', 'a bad flu going around this', 'is a bad flu going around', 'there is a bad flu going', 'theoretical. there is a bad flu', 'even theoretical. there is a bad', 'not even theoretical. there is a', 'scientific, not even theoretical. there is', 'nothing scientific, not even theoretical. there']\n",
      "8\n",
      "['standards. none of which were altered because', 'of which were altered because of covid.', 'done by independent review boards and have', 'are done by independent review boards and', 'these are done by independent review boards', 'covid. these are done by independent review', 'of covid. these are done by independent', 'because of covid. these are done by', 'altered because of covid. these are done', 'were altered because of covid. these are', 'which were altered because of covid. these', 'none of which were altered because of', 'approved and the trial results met the', 'that. nothing scientific, not even theoretical. there', 'safety standards. none of which were altered', 'and safety standards. none of which were', 'efficacy and safety standards. none of which', 'the efficacy and safety standards. none of', 'met the efficacy and safety standards. none', 'results met the efficacy and safety standards.', 'trial results met the efficacy and safety', 'the trial results met the efficacy and', 'by independent review boards and have to', 'independent review boards and have to declare', 'review boards and have to declare no', 'boards and have to declare no conflicts', \"that's less in the news. (sanofi, merck\", \"but that's less in the news. (sanofi,\", \"too, but that's less in the news.\", \"vaccines too, but that's less in the\", \"covid vaccines too, but that's less in\", \"mrna covid vaccines too, but that's less\", \"failed mrna covid vaccines too, but that's\", 'been failed mrna covid vaccines too, but', 'also been failed mrna covid vaccines too,', 'has also been failed mrna covid vaccines', 'there has also been failed mrna covid', 'interest. there has also been failed mrna', 'of interest. there has also been failed', 'conflicts of interest. there has also been']\n",
      "[0.7122222222222222, 0.7166666666666667, 0.6438888888888888, 0.6322222222222222, 0.6288888888888889, 0.63, 0.6294444444444445, 0.6294444444444445]\n"
     ]
    }
   ],
   "source": [
    "N = np.arange(1,9)\n",
    "acertos_n = []\n",
    "\n",
    "for n in N:\n",
    "    print(n)\n",
    "    for frase in train.Comment:\n",
    "        frase = cleanup(frase)\n",
    "        frase = frase.split()\n",
    "        list_train.extend([' '.join(frase[i:i+n]) for i in range(len(frase)-n+1)])\n",
    "          \n",
    "    serie_train = pd.Series(list_train)\n",
    "    \n",
    "    tabela = serie_train.value_counts()\n",
    "\n",
    "    stop_words = tabela.index[:40].tolist()\n",
    "    for i in range(len(stop_words)):\n",
    "        stop_words[i] = stop_words[i].lower()\n",
    "\n",
    "    print(stop_words)\n",
    "    \n",
    "\n",
    "        # Limpando os dados de treinamento\n",
    "    for i, frase in enumerate(train.Comment):\n",
    "        train.Comment[i] = cleanup_stopwords(frase, stop_words)\n",
    "\n",
    "    # Construindo uma série de N-gramas baseado nos dados de treino limpos\n",
    "\n",
    "    list_train: list = []\n",
    "\n",
    "    for frase in test.Comment:\n",
    "        frase = frase.split()\n",
    "        list_train.extend([' '.join(frase[i:i+n]) for i in range(len(frase)-n+1)])\n",
    "            \n",
    "    serie_train = pd.Series(list_train)\n",
    "\n",
    "\n",
    "    # Gerando as listas de palavras por tópico\n",
    "    lista_physics = frase_para_palavras(train_physics.Comment)\n",
    "    lista_biology = frase_para_palavras(train_biology.Comment)\n",
    "    lista_chemistry = frase_para_palavras(train_chemistry.Comment)\n",
    "\n",
    "    # Criando séries de frequência de N-gramas\n",
    "    serie_physics = pd.Series(lista_physics)\n",
    "    serie_biology = pd.Series(lista_biology)\n",
    "    serie_chemistry = pd.Series(lista_chemistry)\n",
    "\n",
    "    # Treinamento\n",
    "    tabela_c_relativa = serie_chemistry.value_counts(True)\n",
    "    tabela_p_relativa = serie_physics.value_counts(True)\n",
    "    tabela_b_relativa = serie_biology.value_counts(True)\n",
    "\n",
    "    voc = tabela.count()\n",
    "\n",
    "    # Physics\n",
    "    tabela_P_raw = serie_physics.value_counts()\n",
    "    tabela_P_freq = tabela_P_raw.sum()\n",
    "    tabela_P_voc = tabela_P_raw.count()\n",
    "\n",
    "    # Chemistry\n",
    "    tabela_C_raw = serie_chemistry.value_counts()\n",
    "    tabela_C_freq = tabela_C_raw.sum()\n",
    "    tabela_C_voc = tabela_C_raw.count()\n",
    "\n",
    "    # Biology\n",
    "    tabela_B_raw = serie_biology.value_counts()\n",
    "    tabela_B_freq = tabela_B_raw.sum()\n",
    "    tabela_B_voc = tabela_B_raw.count()\n",
    "\n",
    "    validacao = test.copy()\n",
    "    \n",
    "    validacao['algoL_log_certa'] = False\n",
    "\n",
    "    validacao['algoL_log'] = 'NaN'\n",
    "\n",
    "    for i, frase in enumerate(test.Comment):\n",
    "        frase = cleanup_stopwords(frase, stop_words)\n",
    "        validacao.loc[i, 'algoL_log'] = algoritmo_laplace_log(frase)\n",
    "    \n",
    "        if validacao.loc[i, 'algoL_log'] == validacao.loc[i, 'Topic']:\n",
    "            validacao.loc[i, 'algoL_log_certa'] = True\n",
    "\n",
    "    acertos_n.append(validacao.algoL_log_certa.value_counts(True)[0])\n",
    "\n",
    "print(acertos_n)"
   ]
  },
  {
   "cell_type": "code",
   "execution_count": 45,
   "metadata": {},
   "outputs": [
    {
     "data": {
      "image/png": "[encoded data removed]",
      "text/plain": [
       "<Figure size 640x480 with 1 Axes>"
      ]
     },
     "metadata": {},
     "output_type": "display_data"
    }
   ],
   "source": [
    "plt.plot(N, acertos_n)\n",
    "plt.grid()"
   ]
  },
  {
   "cell_type": "markdown",
   "metadata": {},
   "source": [
    "[Voltar ao Índice](#indice)"
   ]
  },
  {
   "cell_type": "markdown",
   "metadata": {},
   "source": [
    "___\n",
    "<div id=\"conclusao\"></div>\n",
    "\n",
    "### Concluindo"
   ]
  },
  {
   "cell_type": "code",
   "execution_count": null,
   "metadata": {},
   "outputs": [],
   "source": []
  },
  {
   "cell_type": "markdown",
   "metadata": {},
   "source": [
    "___\n",
    "## Aperfeiçoamento:\n",
    "\n",
    "Leia atentamente a rubrica colocada no enunciado do Projeto 1 (última página). <br>\n",
    "Trabalhos que conseguirem pelo menos conceito B vão evoluir em conceito dependendo da quantidade de itens avançados:\n",
    "\n",
    "* IMPLEMENTOU outras limpezas e transformações que não afetem a qualidade da informação contida nas mensagens, mas tendem a melhorar na classificação das mensagens. Ex: stemming, lemmatization, stopwords.\n",
    "* CONSIDEROU arquivo com três categorias na classificação das variáveis (OBRIGATÓRIO PARA QUARTETOS, sem contar como item avançado)\n",
    "* CONSTRUIU o cálculo das probabilidades corretamente utilizando bigramas E apresentou referência sobre o método utilizado.\n",
    "* EXPLICOU porquê não pode usar novas mensagens classificadas pelo próprio classificador como amostra de treinamento\n",
    "* PROPÔS diferentes cenários para Naïve Bayes fora do contexto do projeto (pelo menos dois cenários diferentes, exceto aqueles já apresentados em sala pelos professores: por exemplo, filtro de spam)\n",
    "* REFLETE criticamente sobre os resultados obtidos, identificando limitações do modelo e sugerindo possíveis melhorias ou diferentes abordagens com indicações concretas de como implementar (indicar como fazer e indicar material de pesquisa).\n",
    "* DOCUMENTOU bem o código, com explicações claras para cada etapa do processo, incluindo o raciocínio por trás das decisões de modelagem e das transformações de dados.\n"
   ]
  },
  {
   "cell_type": "markdown",
   "metadata": {},
   "source": [
    "___\n",
    "## Referências"
   ]
  },
  {
   "cell_type": "markdown",
   "metadata": {},
   "source": [
    "[Naive Bayes and Text Classification](https://arxiv.org/pdf/1410.5329.pdf)  **Mais completo**\n",
    "\n",
    "[A practical explanation of a Naive Bayes Classifier](https://monkeylearn.com/blog/practical-explanation-naive-bayes-classifier/) **Mais simples**"
   ]
  },
  {
   "cell_type": "code",
   "execution_count": null,
   "metadata": {},
   "outputs": [],
   "source": []
  }
 ],
 "metadata": {
  "kernelspec": {
   "display_name": "Python 3 (ipykernel)",
   "language": "python",
   "name": "python3"
  },
  "language_info": {
   "codemirror_mode": {
    "name": "ipython",
    "version": 3
   },
   "file_extension": ".py",
   "mimetype": "text/x-python",
   "name": "python",
   "nbconvert_exporter": "python",
   "pygments_lexer": "ipython3",
   "version": "3.11.5"
  }
 },
 "nbformat": 4,
 "nbformat_minor": 4
}
